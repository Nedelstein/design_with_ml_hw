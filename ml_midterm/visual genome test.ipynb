{
 "cells": [
  {
   "cell_type": "code",
   "execution_count": 1,
   "metadata": {},
   "outputs": [],
   "source": [
    "from visual_genome import api"
   ]
  },
  {
   "cell_type": "code",
   "execution_count": 2,
   "metadata": {},
   "outputs": [],
   "source": [
    "ids = api.get_all_image_ids()"
   ]
  },
  {
   "cell_type": "code",
   "execution_count": 3,
   "metadata": {},
   "outputs": [
    {
     "name": "stdout",
     "output_type": "stream",
     "text": [
      "6\n"
     ]
    }
   ],
   "source": [
    "print (ids[5])"
   ]
  },
  {
   "cell_type": "code",
   "execution_count": 4,
   "metadata": {},
   "outputs": [
    {
     "name": "stdout",
     "output_type": "stream",
     "text": [
      "id: 4000, coco_id: -1, flickr_id: -1, width: 720, url: https://cs.stanford.edu/people/rak248/VG_100K_2/4000.jpg\n"
     ]
    }
   ],
   "source": [
    "image = api.get_image_data(id=4000)\n",
    "print(image)"
   ]
  },
  {
   "cell_type": "code",
   "execution_count": 9,
   "metadata": {},
   "outputs": [
    {
     "name": "stdout",
     "output_type": "stream",
     "text": [
      "[id: 5906681, x: 308, y: 434, width: 27,height: 28, phrase: the wheel under the black box, image: 4000, id: 5906680, x: 77, y: 308, width: 281,height: 155, phrase: The black box on wheels, image: 4000, id: 5906679, x: 325, y: 319, width: 83,height: 54, phrase: The hanging blue towel., image: 4000, id: 5906678, x: 258, y: 130, width: 67,height: 84, phrase: A wall on the side of a building, image: 4000, id: 5906677, x: 258, y: 130, width: 67,height: 84, phrase: A wall on the side of a building, image: 4000, id: 5906676, x: 258, y: 130, width: 67,height: 84, phrase: A wall on the side of a building, image: 4000, id: 5906675, x: 258, y: 130, width: 67,height: 84, phrase: A wall on the side of a building, image: 4000, id: 5906674, x: 258, y: 130, width: 67,height: 84, phrase: A wall on the side of a building, image: 4000, id: 5906673, x: 258, y: 130, width: 67,height: 84, phrase: A wall on the side of a building, image: 4000, id: 5906672, x: 258, y: 130, width: 67,height: 84, phrase: A wall on the side of a building, image: 4000, id: 5906671, x: 258, y: 130, width: 67,height: 84, phrase: A wall on the side of a building, image: 4000, id: 5906670, x: 258, y: 130, width: 67,height: 84, phrase: A wall on the side of a building, image: 4000, id: 5906669, x: 258, y: 130, width: 67,height: 84, phrase: A wall on the side of a building, image: 4000, id: 5906667, x: 258, y: 232, width: 67,height: 84, phrase: A wall on the side of a building, image: 4000, id: 5906666, x: 258, y: 232, width: 67,height: 84, phrase: A wall on the side of a building, image: 4000, id: 5906665, x: 258, y: 232, width: 67,height: 84, phrase: A wall on the side of a building, image: 4000, id: 5906664, x: 258, y: 232, width: 67,height: 84, phrase: A wall on the side of a building, image: 4000, id: 5906663, x: 258, y: 232, width: 67,height: 84, phrase: A wall on the side of a building, image: 4000, id: 5906661, x: 258, y: 232, width: 67,height: 84, phrase: A wall on the side of a building, image: 4000, id: 5906659, x: 258, y: 232, width: 67,height: 84, phrase: A wall on the side of a building, image: 4000, id: 5906658, x: 258, y: 232, width: 67,height: 84, phrase: A wall on the side of a building, image: 4000, id: 5906657, x: 258, y: 232, width: 67,height: 84, phrase: A wall on the side of a building, image: 4000, id: 5906656, x: 258, y: 232, width: 67,height: 84, phrase: A wall on the side of a building, image: 4000, id: 5906654, x: 258, y: 232, width: 67,height: 84, phrase: A wall on the side of a building, image: 4000, id: 5906650, x: 258, y: 232, width: 67,height: 84, phrase: A wall on the side of a building, image: 4000, id: 5128786, x: 450, y: 338, width: 157,height: 156, phrase: Faded red chair with no arms, image: 4000, id: 5128787, x: 376, y: 274, width: 94,height: 59, phrase: Two red velevet backed metal chairs, image: 4000, id: 5128788, x: 76, y: 312, width: 276,height: 145, phrase: Big black box on wheels with metal clasps, image: 4000, id: 5128789, x: 248, y: 365, width: 79,height: 49, phrase: The words MIRROR BALL in white stencil, image: 4000, id: 5128790, x: 447, y: 470, width: 33,height: 18, phrase: Small piece of discarded paper on the floor, image: 4000, id: 5128791, x: 602, y: 145, width: 116,height: 345, phrase: Wooden crate stood up on its side, image: 4000, id: 5128792, x: 261, y: 110, width: 335,height: 225, phrase: Lush red shiny velvet curtains, image: 4000, id: 5128793, x: 627, y: 17, width: 31,height: 21, phrase: The word NO handwritten on a sign in red letters, image: 4000, id: 5128794, x: 97, y: 405, width: 208,height: 133, phrase: Base of a chair turned upside down with all four black small feet visible, image: 4000, id: 5128795, x: 266, y: 210, width: 25,height: 32, phrase: Yellow fringe used as a tie back for a curtain, image: 4000, id: 5128796, x: 65, y: 396, width: 248,height: 136, phrase: A upside down chair , image: 4000, id: 5128797, x: 75, y: 383, width: 256,height: 144, phrase: The pink upside down chair , image: 4000, id: 5128798, x: 443, y: 469, width: 36,height: 26, phrase: The paper on the floor , image: 4000, id: 5128799, x: 445, y: 465, width: 40,height: 36, phrase: A piece of paper , image: 4000, id: 5128800, x: 460, y: 330, width: 157,height: 162, phrase: The pink chair , image: 4000, id: 5128801, x: 464, y: 337, width: 147,height: 155, phrase: A pink chair , image: 4000, id: 5128802, x: 81, y: 299, width: 278,height: 149, phrase: The black case , image: 4000, id: 5128803, x: 244, y: 368, width: 94,height: 40, phrase: The words on the black case , image: 4000, id: 5128804, x: 329, y: 316, width: 73,height: 55, phrase: The white towel , image: 4000, id: 5128805, x: 605, y: 136, width: 101,height: 351, phrase: The wooden chest , image: 4000, id: 5128806, x: 258, y: 2, width: 346,height: 455, phrase: red and gold theater box, image: 4000, id: 5128807, x: 263, y: 115, width: 77,height: 215, phrase: deep red opulent curtain, image: 4000, id: 5128808, x: 446, y: 339, width: 164,height: 159, phrase: worn out old red chair, image: 4000, id: 5128809, x: 76, y: 312, width: 277,height: 159, phrase: wheeled black storage box, image: 4000, id: 5128810, x: 74, y: 393, width: 235,height: 146, phrase: an old red chair is upside down, image: 4000, id: 5128811, x: 332, y: 318, width: 70,height: 54, phrase: pale blue cloth hanging over a theater balcony, image: 4000, id: 5128812, x: 257, y: 0, width: 342,height: 467, phrase: old seating box removed from a theater, image: 4000, id: 5128813, x: 4, y: 56, width: 256,height: 428, phrase: black fencing in a store room, image: 4000, id: 5128814, x: 604, y: 143, width: 110,height: 349, phrase: wooden storage container stands on end, image: 4000, id: 5128815, x: 624, y: 6, width: 94,height: 46, phrase: handwritten sign on the wall, image: 4000, id: 5128816, x: 625, y: 5, width: 93,height: 36, phrase: A white No Smoking sign., image: 4000, id: 5128817, x: 79, y: 315, width: 273,height: 145, phrase: A black MIRROR BALL case., image: 4000, id: 5128818, x: 297, y: 370, width: 30,height: 21, phrase: The grey word BALL., image: 4000, id: 5128819, x: 80, y: 394, width: 228,height: 144, phrase: An upside down piece of faded red furniture. , image: 4000, id: 5128820, x: 606, y: 146, width: 103,height: 338, phrase: A tall wood box. , image: 4000, id: 5128821, x: 453, y: 344, width: 152,height: 152, phrase: A small red faded single seat chair. , image: 4000, id: 5128822, x: 630, y: 18, width: 29,height: 21, phrase: The red word NO. , image: 4000, id: 5128823, x: 249, y: 389, width: 15,height: 22, phrase: A grey M in MIRROR. , image: 4000, id: 5128824, x: 1, y: 440, width: 715,height: 98, phrase: A black tiled floor., image: 4000, id: 5128825, x: 671, y: 9, width: 34,height: 26, phrase: Red letters SM. , image: 4000, id: 5128826, x: 443, y: 341, width: 170,height: 159, phrase: a small red chair, image: 4000, id: 5128827, x: 416, y: 277, width: 55,height: 57, phrase: a small red chair, image: 4000, id: 5128828, x: 376, y: 273, width: 45,height: 60, phrase: a small red chair, image: 4000, id: 5128829, x: 106, y: 410, width: 214,height: 128, phrase: an upside down small red chair, image: 4000, id: 5128830, x: 78, y: 398, width: 133,height: 140, phrase: a small red chair, image: 4000, id: 5128831, x: 333, y: 317, width: 65,height: 49, phrase: a small blue cloth, image: 4000, id: 5128832, x: 74, y: 318, width: 281,height: 142, phrase: a large trunk, image: 4000, id: 5128833, x: 615, y: 6, width: 102,height: 47, phrase: a no smoking sign, image: 4000, id: 5128834, x: 263, y: 106, width: 340,height: 226, phrase: a large red curtain, image: 4000, id: 5128835, x: 607, y: 144, width: 112,height: 347, phrase: a large wooden box, image: 4000, id: 5613462, x: 459, y: 348, width: 152,height: 146, phrase: a dusty red chair, image: 4000, id: 5613463, x: 84, y: 320, width: 266,height: 135, phrase: a black instrument box, image: 4000, id: 5613464, x: 462, y: 351, width: 140,height: 145, phrase: A chair by the stage., image: 4000, id: 5613465, x: 88, y: 416, width: 219,height: 97, phrase: The chair is upside down., image: 4000, id: 5613466, x: 617, y: 162, width: 70,height: 312, phrase: Box by the chair., image: 4000, id: 5613467, x: 108, y: 320, width: 240,height: 127, phrase: Black box on the ground., image: 4000, id: 5613468, x: 311, y: 434, width: 30,height: 24, phrase: A wheel on the box., image: 4000, id: 5613470, x: 251, y: 109, width: 82,height: 194, phrase: The curtain is burgundy., image: 4000, id: 5613471, x: 460, y: 349, width: 149,height: 156, phrase: The chair is red., image: 4000, id: 5613472, x: 631, y: 8, width: 88,height: 42, phrase: A white sign on the wall., image: 4000, id: 5613474, x: 457, y: 344, width: 162,height: 157, phrase: a chair , image: 4000, id: 5613475, x: 468, y: 350, width: 137,height: 130, phrase: the chair is red , image: 4000, id: 5613476, x: 465, y: 346, width: 144,height: 163, phrase: a red chair , image: 4000, id: 5613477, x: 136, y: 315, width: 184,height: 75, phrase: a black box , image: 4000, id: 5613478, x: 371, y: 470, width: 69,height: 62, phrase: the ground is black , image: 4000, id: 5613480, x: 274, y: 138, width: 34,height: 81, phrase: the curtain is red , image: 4000, id: 5613481, x: 610, y: 144, width: 83,height: 338, phrase: a box , image: 4000, id: 5613482, x: 643, y: 235, width: 34,height: 75, phrase: writing on the box, image: 4000, id: 5613484, x: 496, y: 321, width: 128,height: 186, phrase: a chair inside, image: 4000, id: 5613486, x: 125, y: 320, width: 208,height: 174, phrase: a black rolling box, image: 4000, id: 5613488, x: 268, y: 12, width: 421,height: 441, phrase: a red booth, image: 4000, id: 5613489, x: 419, y: 262, width: 58,height: 103, phrase: chairs inside the booth, image: 4000, id: 5613490, x: 356, y: 273, width: 62,height: 63, phrase: chair inside the booth, image: 4000, id: 5613491, x: 624, y: 10, width: 79,height: 28, phrase: no smoking sign on the road, image: 4000, id: 5613492, x: 622, y: 15, width: 85,height: 62, phrase: writing on the wall, image: 4000, id: 5613494, x: 244, y: 369, width: 87,height: 31, phrase: white letters on black box, image: 4000, id: 5613495, x: 82, y: 311, width: 281,height: 135, phrase: large black and gray box, image: 4000, id: 5613496, x: 313, y: 436, width: 19,height: 21, phrase: wheel on large box, image: 4000]\n"
     ]
    }
   ],
   "source": [
    "regions = api.get_region_descriptions_of_image(id=4000)\n",
    "print(regions)"
   ]
  },
  {
   "cell_type": "code",
   "execution_count": 10,
   "metadata": {},
   "outputs": [
    {
     "name": "stdout",
     "output_type": "stream",
     "text": [
      "[box, ground, chair, chair, chair, box, wheel, clasp, clasp, word, word, stencil, piece, paper, floor, create, curtains, no, sign, letter, letter, base, chair, foot, foot, foot, foot, fringe, fringe, curtain, curtain, tie back, tie back, chair, paper, floor, piece, chair, chair, case, case, words, towel, chest, box, curtain, chair, box, cloth, balcony, box, fencing, container, sign, wall, sign, case, word, furniture, box, chair, word, no, m, mirror, letter s, letter m, chair, chair, trunk, box, wall, building, wall, floor, chair, chair, cloth, curtain, instrument box, chair, stage, chair, chair, box, wheel, box, curtain, chair, sign, wall, chair, chair, box, wall, wall, wall, wall, wall, wall, wall, wall, wall, wall, wall, towel, box, wheel, box]\n"
     ]
    }
   ],
   "source": [
    "image_scene = api.get_scene_graph_of_image(id=4000)\n",
    "print(image_scene.objects)"
   ]
  },
  {
   "cell_type": "code",
   "execution_count": null,
   "metadata": {},
   "outputs": [],
   "source": [
    "image_phrase = api.get_region"
   ]
  }
 ],
 "metadata": {
  "kernelspec": {
   "display_name": "Python 3",
   "language": "python",
   "name": "python3"
  },
  "language_info": {
   "codemirror_mode": {
    "name": "ipython",
    "version": 3
   },
   "file_extension": ".py",
   "mimetype": "text/x-python",
   "name": "python",
   "nbconvert_exporter": "python",
   "pygments_lexer": "ipython3",
   "version": "3.7.4"
  }
 },
 "nbformat": 4,
 "nbformat_minor": 2
}
