{
 "cells": [
  {
   "cell_type": "markdown",
   "metadata": {},
   "source": [
    "search for weapons, or other similarities - babies, kids\n",
    "\n",
    "object detection rather than instance segmentation or classification\n",
    "- yolo, or some other api for object detection\n",
    "- create a list of different topics\n",
    "\n",
    "- maybe think about other tweet data - list them by likes, retweets...\n"
   ]
  },
  {
   "cell_type": "code",
   "execution_count": 1,
   "metadata": {},
   "outputs": [],
   "source": [
    "import tweepy\n",
    "from tweepy import OAuthHandler\n",
    "import json"
   ]
  },
  {
   "cell_type": "code",
   "execution_count": 2,
   "metadata": {},
   "outputs": [],
   "source": [
    "consumer_key = 'ukBCpz9xF3ZrvVhlO38JTlJk6'\n",
    "consumer_secret = 'w8nyl9JVJncJdNb9LVgM6TxxFrW0Vl9HepSLimvqy9BbYEFpFA'\n",
    "access_token = '1185039786677063680-7j8fO11tynFj1aHdSgED8uoLBHHOLh'\n",
    "access_secret = 'MoivDW6Pk5agOZqXpGlMzEtBGIaZGZXIv5N7n2MkbkUg7'"
   ]
  },
  {
   "cell_type": "code",
   "execution_count": 3,
   "metadata": {},
   "outputs": [],
   "source": [
    "@classmethod\n",
    "def parse(cls, api, raw):\n",
    "    status = cls.first_parse(api, raw)\n",
    "    setattr(status, 'json', json.dumps(raw))\n",
    "    return status\n",
    " \n",
    "# Status() is the data model for a tweet\n",
    "tweepy.models.Status.first_parse = tweepy.models.Status.parse\n",
    "tweepy.models.Status.parse = parse\n",
    "# User() is the data model for a user profil\n",
    "tweepy.models.User.first_parse = tweepy.models.User.parse\n",
    "tweepy.models.User.parse = parse\n",
    "# You need to do it for all the models you need\n",
    " \n",
    "auth = OAuthHandler(consumer_key, consumer_secret)\n",
    "auth.set_access_token(access_token, access_secret)\n",
    " \n",
    "api = tweepy.API(auth)"
   ]
  },
  {
   "cell_type": "code",
   "execution_count": 12,
   "metadata": {},
   "outputs": [
    {
     "name": "stdout",
     "output_type": "stream",
     "text": [
      "473\n"
     ]
    }
   ],
   "source": [
    "media_files = set()\n",
    "for status in tweepy.Cursor(api.user_timeline, screen_name='darkstockphotos', include_rts=False, exclude_replies=True).items():\n",
    "    media = status.entities.get('media', [])\n",
    "    if(len(media) > 0):\n",
    "        media_files.add(media[0]['media_url'])\n",
    "print(len(media_files))\n",
    "    \n",
    "    "
   ]
  },
  {
   "cell_type": "code",
   "execution_count": 13,
   "metadata": {},
   "outputs": [],
   "source": [
    "import urllib.request\n",
    "# import wget"
   ]
  },
  {
   "cell_type": "code",
   "execution_count": 14,
   "metadata": {},
   "outputs": [
    {
     "name": "stdout",
     "output_type": "stream",
     "text": [
      "http://pbs.twimg.com/media/DCOod5pXkAA6Hnd.jpg\n",
      "DCOod5pXkAA6Hnd.jpg\n",
      "http://pbs.twimg.com/media/DCSkicjXYAIDGDf.jpg\n",
      "DCSkicjXYAIDGDf.jpg\n",
      "http://pbs.twimg.com/media/DlSpMz5XoAEqmmf.jpg\n",
      "DlSpMz5XoAEqmmf.jpg\n",
      "http://pbs.twimg.com/media/DIj-CCiXcAE7RN4.jpg\n",
      "DIj-CCiXcAE7RN4.jpg\n",
      "http://pbs.twimg.com/media/DlOWdQKXcAA0DJ-.jpg\n",
      "DlOWdQKXcAA0DJ-.jpg\n",
      "http://pbs.twimg.com/media/DB0zd2jXYAANjmR.jpg\n",
      "DB0zd2jXYAANjmR.jpg\n",
      "http://pbs.twimg.com/media/EC_2tLaXkAAsKww.jpg\n",
      "EC_2tLaXkAAsKww.jpg\n",
      "http://pbs.twimg.com/media/DBUVZnBXcAAmPX_.jpg\n",
      "DBUVZnBXcAAmPX_.jpg\n",
      "http://pbs.twimg.com/media/DPad9WMWAAA0mxS.jpg\n",
      "DPad9WMWAAA0mxS.jpg\n",
      "http://pbs.twimg.com/media/D0W-Q09WkAEPn9Z.jpg\n",
      "D0W-Q09WkAEPn9Z.jpg\n",
      "http://pbs.twimg.com/media/Dofj5yCX4AApqi9.jpg\n",
      "Dofj5yCX4AApqi9.jpg\n",
      "http://pbs.twimg.com/media/DlIWAs4X0AYDiPq.jpg\n",
      "DlIWAs4X0AYDiPq.jpg\n",
      "http://pbs.twimg.com/media/DD_zvU-WsAIzaYD.jpg\n",
      "DD_zvU-WsAIzaYD.jpg\n",
      "http://pbs.twimg.com/media/DFPmaHzXYAER-lq.jpg\n",
      "DFPmaHzXYAER-lq.jpg\n",
      "http://pbs.twimg.com/media/DwLVK7kWkAMKRAb.jpg\n",
      "DwLVK7kWkAMKRAb.jpg\n",
      "http://pbs.twimg.com/media/Dt-VgZXX4AEoEWS.jpg\n",
      "Dt-VgZXX4AEoEWS.jpg\n",
      "http://pbs.twimg.com/media/DIAlsGGXgAIjjxR.jpg\n",
      "DIAlsGGXgAIjjxR.jpg\n",
      "http://pbs.twimg.com/media/DBZw03qXgAUYwxT.jpg\n",
      "DBZw03qXgAUYwxT.jpg\n",
      "http://pbs.twimg.com/media/DoSUcIPW0AELIFn.jpg\n",
      "DoSUcIPW0AELIFn.jpg\n",
      "http://pbs.twimg.com/media/EC_0KE5XsAAnHrE.jpg\n",
      "EC_0KE5XsAAnHrE.jpg\n",
      "http://pbs.twimg.com/media/DBTgKm9XgAENsCy.jpg\n",
      "DBTgKm9XgAENsCy.jpg\n",
      "http://pbs.twimg.com/media/DJ21ODgX0AEp2IT.jpg\n",
      "DJ21ODgX0AEp2IT.jpg\n",
      "http://pbs.twimg.com/media/DGAZ9J0WsAA3-Hv.jpg\n",
      "DGAZ9J0WsAA3-Hv.jpg\n",
      "http://pbs.twimg.com/media/Dk45KCJW0AAHLnc.jpg\n",
      "Dk45KCJW0AAHLnc.jpg\n",
      "http://pbs.twimg.com/media/DRP3Gc8X4AAtk65.jpg\n",
      "DRP3Gc8X4AAtk65.jpg\n",
      "http://pbs.twimg.com/media/DRz2bYUW0AAfoH3.jpg\n",
      "DRz2bYUW0AAfoH3.jpg\n",
      "http://pbs.twimg.com/media/DEoQMRLXgAAKdwO.jpg\n",
      "DEoQMRLXgAAKdwO.jpg\n",
      "http://pbs.twimg.com/media/DBuFHwSWsAAW0r0.jpg\n",
      "DBuFHwSWsAAW0r0.jpg\n",
      "http://pbs.twimg.com/media/DCjRPbhXsAEHAUA.jpg\n",
      "DCjRPbhXsAEHAUA.jpg\n",
      "http://pbs.twimg.com/media/DofHUBkXUAEHiOq.jpg\n",
      "DofHUBkXUAEHiOq.jpg\n",
      "http://pbs.twimg.com/media/DFQ2c_3W0AEOnZ5.jpg\n",
      "DFQ2c_3W0AEOnZ5.jpg\n",
      "http://pbs.twimg.com/media/DXmj5JdWAAAYdZq.jpg\n",
      "DXmj5JdWAAAYdZq.jpg\n",
      "http://pbs.twimg.com/media/DDkvGFbXUAEmOZ1.jpg\n",
      "DDkvGFbXUAEmOZ1.jpg\n",
      "http://pbs.twimg.com/media/DEI7FtfXYAA5Utq.jpg\n",
      "DEI7FtfXYAA5Utq.jpg\n",
      "http://pbs.twimg.com/media/DFGx8-FXoAImnYO.jpg\n",
      "DFGx8-FXoAImnYO.jpg\n",
      "http://pbs.twimg.com/media/Dfvu39TU0AIhzq2.jpg\n",
      "Dfvu39TU0AIhzq2.jpg\n",
      "http://pbs.twimg.com/media/DXyPR8aXcAA2pzJ.jpg\n",
      "DXyPR8aXcAA2pzJ.jpg\n",
      "http://pbs.twimg.com/media/DEosAqCXUAAdjgI.jpg\n",
      "DEosAqCXUAAdjgI.jpg\n",
      "http://pbs.twimg.com/media/Dk5wHRvUYAAYkZr.jpg\n",
      "Dk5wHRvUYAAYkZr.jpg\n",
      "http://pbs.twimg.com/media/DD11DXyXcAAC1MN.jpg\n",
      "DD11DXyXcAAC1MN.jpg\n",
      "http://pbs.twimg.com/media/DPepgXTWAAAyRaj.jpg\n",
      "DPepgXTWAAAyRaj.jpg\n",
      "http://pbs.twimg.com/media/DMfuf06WAAAuKU-.jpg\n",
      "DMfuf06WAAAuKU-.jpg\n",
      "http://pbs.twimg.com/media/DCXsfkQXsAASQei.jpg\n",
      "DCXsfkQXsAASQei.jpg\n",
      "http://pbs.twimg.com/media/DqRgUOFXcAEiQC-.jpg\n",
      "DqRgUOFXcAEiQC-.jpg\n",
      "http://pbs.twimg.com/ext_tw_video_thumb/1166243341023027200/pu/img/hVDuCMtsoMLu7RN3.jpg\n",
      "hVDuCMtsoMLu7RN3.jpg\n",
      "http://pbs.twimg.com/media/Dnts157WwAUeKCU.jpg\n",
      "Dnts157WwAUeKCU.jpg\n",
      "http://pbs.twimg.com/media/DvQlCCNWkAAVrch.jpg\n",
      "DvQlCCNWkAAVrch.jpg\n",
      "http://pbs.twimg.com/media/DDAv--SXoAA729P.jpg\n",
      "DDAv--SXoAA729P.jpg\n",
      "http://pbs.twimg.com/media/DCYGgd0XgAI5iFI.jpg\n",
      "DCYGgd0XgAI5iFI.jpg\n",
      "http://pbs.twimg.com/media/Dd-cArhUQAEcxJ-.jpg\n",
      "Dd-cArhUQAEcxJ-.jpg\n",
      "http://pbs.twimg.com/media/D6ErUM2WAAA3iaB.jpg\n",
      "D6ErUM2WAAA3iaB.jpg\n",
      "http://pbs.twimg.com/media/EAQ1-J1W4AABfD7.jpg\n",
      "EAQ1-J1W4AABfD7.jpg\n",
      "http://pbs.twimg.com/media/DEiVbIsXYAEeLF-.jpg\n",
      "DEiVbIsXYAEeLF-.jpg\n",
      "http://pbs.twimg.com/media/DCSmPBGXgAIb8DS.jpg\n",
      "DCSmPBGXgAIb8DS.jpg\n",
      "http://pbs.twimg.com/media/DTp3TtuXUAEqMAa.jpg\n",
      "DTp3TtuXUAEqMAa.jpg\n",
      "http://pbs.twimg.com/media/DD4jUe3XoAAuWiB.jpg\n",
      "DD4jUe3XoAAuWiB.jpg\n",
      "http://pbs.twimg.com/media/DFGz83qWsAAs9HL.jpg\n",
      "DFGz83qWsAAs9HL.jpg\n",
      "http://pbs.twimg.com/media/DqH-xn7XcAAQjN2.jpg\n",
      "DqH-xn7XcAAQjN2.jpg\n",
      "http://pbs.twimg.com/media/DB9vf_-WAAAUfEu.jpg\n",
      "DB9vf_-WAAAUfEu.jpg\n",
      "http://pbs.twimg.com/media/DD_09yFW0AQHfZQ.jpg\n",
      "DD_09yFW0AQHfZQ.jpg\n",
      "http://pbs.twimg.com/media/EC_1qyqWwAEzpUm.jpg\n",
      "EC_1qyqWwAEzpUm.jpg\n",
      "http://pbs.twimg.com/media/DkZ_kzpX4AIDIdD.jpg\n",
      "DkZ_kzpX4AIDIdD.jpg\n",
      "http://pbs.twimg.com/media/DVmmxUfWkAAeQO_.jpg\n",
      "DVmmxUfWkAAeQO_.jpg\n",
      "http://pbs.twimg.com/media/DGkh9kLXgAAi1aK.jpg\n",
      "DGkh9kLXgAAi1aK.jpg\n",
      "http://pbs.twimg.com/media/DBgkNodWAAA8o3J.jpg\n",
      "DBgkNodWAAA8o3J.jpg\n",
      "http://pbs.twimg.com/media/DTp8sPpX4AAmb4L.jpg\n",
      "DTp8sPpX4AAmb4L.jpg\n",
      "http://pbs.twimg.com/media/DEySBdtXcAUe3au.jpg\n",
      "DEySBdtXcAUe3au.jpg\n",
      "http://pbs.twimg.com/media/DGAbWSRXkAI_org.jpg\n",
      "DGAbWSRXkAI_org.jpg\n",
      "http://pbs.twimg.com/media/EEAsQ_PX4AILjHB.jpg\n",
      "EEAsQ_PX4AILjHB.jpg\n",
      "http://pbs.twimg.com/media/DBzUv_ZXsAAF-YW.jpg\n",
      "DBzUv_ZXsAAF-YW.jpg\n",
      "http://pbs.twimg.com/media/DIBJjpCXsAAbS1-.jpg\n",
      "DIBJjpCXsAAbS1-.jpg\n",
      "http://pbs.twimg.com/media/DGP7yskXsAAC_5n.jpg\n",
      "DGP7yskXsAAC_5n.jpg\n",
      "http://pbs.twimg.com/media/DCSCXE6WAAAvZCl.jpg\n",
      "DCSCXE6WAAAvZCl.jpg\n",
      "http://pbs.twimg.com/media/DlTgFvxWwAAnoUn.jpg\n",
      "DlTgFvxWwAAnoUn.jpg\n",
      "http://pbs.twimg.com/media/DBp8xItWAAEeFc-.jpg\n",
      "DBp8xItWAAEeFc-.jpg\n",
      "http://pbs.twimg.com/media/DBTqJzzXUAAnpks.jpg\n",
      "DBTqJzzXUAAnpks.jpg\n",
      "http://pbs.twimg.com/media/Dka2gmyXsAYrXH-.jpg\n",
      "Dka2gmyXsAYrXH-.jpg\n",
      "http://pbs.twimg.com/media/DFPodeiXkAAuvbP.jpg\n",
      "DFPodeiXkAAuvbP.jpg\n",
      "http://pbs.twimg.com/media/Dt4zRFxXcAAhGVx.jpg\n",
      "Dt4zRFxXcAAhGVx.jpg\n",
      "http://pbs.twimg.com/media/DkgAMlCUUAIMN8l.jpg\n",
      "DkgAMlCUUAIMN8l.jpg\n",
      "http://pbs.twimg.com/media/DCsdr3sXcAIp_2N.jpg\n",
      "DCsdr3sXcAIp_2N.jpg\n",
      "http://pbs.twimg.com/media/DUEs0UBXkAAQm5Z.jpg\n",
      "DUEs0UBXkAAQm5Z.jpg\n",
      "http://pbs.twimg.com/media/DFIBaLDWsAA_K8_.jpg\n",
      "DFIBaLDWsAA_K8_.jpg\n",
      "http://pbs.twimg.com/media/DUJ81F8W4AAKprh.jpg\n",
      "DUJ81F8W4AAKprh.jpg\n",
      "http://pbs.twimg.com/media/DCH-KqKXcAAU4RJ.jpg\n",
      "DCH-KqKXcAAU4RJ.jpg\n",
      "http://pbs.twimg.com/media/DNvOTXeX0AAyymH.jpg\n",
      "DNvOTXeX0AAyymH.jpg\n",
      "http://pbs.twimg.com/media/DOg6uMcXcAADoAd.jpg\n",
      "DOg6uMcXcAADoAd.jpg\n",
      "http://pbs.twimg.com/media/DRz11OpXkAEwOmQ.jpg\n",
      "DRz11OpXkAEwOmQ.jpg\n",
      "http://pbs.twimg.com/media/DBTgRANXoAAL-vp.jpg\n",
      "DBTgRANXoAAL-vp.jpg\n",
      "http://pbs.twimg.com/media/ECuAQNdWsAELphM.jpg\n",
      "ECuAQNdWsAELphM.jpg\n",
      "http://pbs.twimg.com/media/DYuesQoX4AIkLvr.jpg\n",
      "DYuesQoX4AIkLvr.jpg\n",
      "http://pbs.twimg.com/media/DENyuY5XUAAZtTX.jpg\n",
      "DENyuY5XUAAZtTX.jpg\n",
      "http://pbs.twimg.com/media/DBu0id-XkAEeUIv.jpg\n",
      "DBu0id-XkAEeUIv.jpg\n",
      "http://pbs.twimg.com/media/DJSXJXLX0AA6qXb.jpg\n",
      "DJSXJXLX0AA6qXb.jpg\n",
      "http://pbs.twimg.com/media/DBfTyVZWsAA0f3h.jpg\n",
      "DBfTyVZWsAA0f3h.jpg\n",
      "http://pbs.twimg.com/media/DExrw7FWAAAWw5c.jpg\n",
      "DExrw7FWAAAWw5c.jpg\n",
      "http://pbs.twimg.com/media/D3LQ2c0WwAAY14j.jpg\n",
      "D3LQ2c0WwAAY14j.jpg\n",
      "http://pbs.twimg.com/media/DJSVWREXcAAoRu2.jpg\n",
      "DJSVWREXcAAoRu2.jpg\n",
      "http://pbs.twimg.com/media/DExpCFfWsAA5HtI.jpg\n",
      "DExpCFfWsAA5HtI.jpg\n",
      "http://pbs.twimg.com/media/DZsb_P2XcAEvk0V.jpg\n",
      "DZsb_P2XcAEvk0V.jpg\n",
      "http://pbs.twimg.com/media/D-5mLJQXsAAVxuW.jpg\n",
      "D-5mLJQXsAAVxuW.jpg\n",
      "http://pbs.twimg.com/media/D_WEuX2XoAAsHOy.jpg\n",
      "D_WEuX2XoAAsHOy.jpg\n",
      "http://pbs.twimg.com/media/DlysG5_XsAELqlU.jpg\n",
      "DlysG5_XsAELqlU.jpg\n",
      "http://pbs.twimg.com/media/DbyJdJiX4AUNXEj.jpg\n",
      "DbyJdJiX4AUNXEj.jpg\n",
      "http://pbs.twimg.com/media/DFsCMCKXsAAjG9l.jpg\n",
      "DFsCMCKXsAAjG9l.jpg\n",
      "http://pbs.twimg.com/media/D6Er_hNXoAQi3Iy.jpg\n",
      "D6Er_hNXoAQi3Iy.jpg\n",
      "http://pbs.twimg.com/media/DBThr8xXsAAwoxF.jpg\n",
      "DBThr8xXsAAwoxF.jpg\n",
      "http://pbs.twimg.com/media/DUvet9GW0AA-vVk.jpg\n",
      "DUvet9GW0AA-vVk.jpg\n",
      "http://pbs.twimg.com/media/DEiWpgGXgAQVP4j.jpg\n",
      "DEiWpgGXgAQVP4j.jpg\n",
      "http://pbs.twimg.com/media/DKQmVw0W4AALgsh.jpg\n",
      "DKQmVw0W4AALgsh.jpg\n",
      "http://pbs.twimg.com/media/DEI8VwyXsAA8qt1.jpg\n",
      "DEI8VwyXsAA8qt1.jpg\n",
      "http://pbs.twimg.com/media/DuKkb9KXcAAP4o9.jpg\n",
      "DuKkb9KXcAAP4o9.jpg\n",
      "http://pbs.twimg.com/media/DBaxNteXUAEfdC4.jpg\n",
      "DBaxNteXUAEfdC4.jpg\n",
      "http://pbs.twimg.com/media/DBbhYjPXsAAV03u.jpg\n",
      "DBbhYjPXsAAV03u.jpg\n",
      "http://pbs.twimg.com/media/DEnAGNyXUAA1jQl.jpg\n",
      "DEnAGNyXUAA1jQl.jpg\n",
      "http://pbs.twimg.com/media/DBT4uVUXsAQkmje.jpg\n",
      "DBT4uVUXsAQkmje.jpg\n",
      "http://pbs.twimg.com/media/DBTtBRRXoAAdQ5M.jpg\n",
      "DBTtBRRXoAAdQ5M.jpg\n",
      "http://pbs.twimg.com/media/DvyTW9eWwAEpmLN.jpg\n",
      "DvyTW9eWwAEpmLN.jpg\n",
      "http://pbs.twimg.com/media/DKQmoTPXkAAN9nI.jpg\n",
      "DKQmoTPXkAAN9nI.jpg\n",
      "http://pbs.twimg.com/media/DFGspFqXYAA-qs7.jpg\n",
      "DFGspFqXYAA-qs7.jpg\n",
      "http://pbs.twimg.com/media/Dme5DbVWwAAFptj.jpg\n",
      "Dme5DbVWwAAFptj.jpg\n",
      "http://pbs.twimg.com/media/DntuDjCWwAAWPoJ.jpg\n",
      "DntuDjCWwAAWPoJ.jpg\n"
     ]
    },
    {
     "name": "stdout",
     "output_type": "stream",
     "text": [
      "http://pbs.twimg.com/media/DXmk93kXcAAWmSB.jpg\n",
      "DXmk93kXcAAWmSB.jpg\n",
      "http://pbs.twimg.com/media/DFGqYTxXgAABKIn.jpg\n",
      "DFGqYTxXgAABKIn.jpg\n",
      "http://pbs.twimg.com/media/DCb01h5UMAAiiQH.jpg\n",
      "DCb01h5UMAAiiQH.jpg\n",
      "http://pbs.twimg.com/media/DDGsvT1WsAAWS3k.jpg\n",
      "DDGsvT1WsAAWS3k.jpg\n",
      "http://pbs.twimg.com/media/DNvOwBeWsAAMgAm.jpg\n",
      "DNvOwBeWsAAMgAm.jpg\n",
      "http://pbs.twimg.com/media/DH_G9X1XgAAmVKT.jpg\n",
      "DH_G9X1XgAAmVKT.jpg\n",
      "http://pbs.twimg.com/media/DJSYCRtW4AAZLc9.jpg\n",
      "DJSYCRtW4AAZLc9.jpg\n",
      "http://pbs.twimg.com/media/DGzkXUkXcAEUIm9.jpg\n",
      "DGzkXUkXcAEUIm9.jpg\n",
      "http://pbs.twimg.com/media/DJSaHOsW4AElSjC.jpg\n",
      "DJSaHOsW4AElSjC.jpg\n",
      "http://pbs.twimg.com/media/DEtmAjTXUAARTnw.jpg\n",
      "DEtmAjTXUAARTnw.jpg\n",
      "http://pbs.twimg.com/media/DqH_5R5XcAA851Z.jpg\n",
      "DqH_5R5XcAA851Z.jpg\n",
      "http://pbs.twimg.com/media/DlytdWzXoAEPJtF.jpg\n",
      "DlytdWzXoAEPJtF.jpg\n",
      "http://pbs.twimg.com/media/DFvhZcBXYAAyWG6.jpg\n",
      "DFvhZcBXYAAyWG6.jpg\n",
      "http://pbs.twimg.com/media/DC272FwXYAADem5.jpg\n",
      "DC272FwXYAADem5.jpg\n",
      "http://pbs.twimg.com/ext_tw_video_thumb/1172086407826984960/pu/img/Z2BJMCRP9WEYCCuH.jpg\n",
      "Z2BJMCRP9WEYCCuH.jpg\n",
      "http://pbs.twimg.com/media/DEtiwxqXgAERwxK.jpg\n",
      "DEtiwxqXgAERwxK.jpg\n",
      "http://pbs.twimg.com/media/Dkzvh-YW0AAp2Sh.jpg\n",
      "Dkzvh-YW0AAp2Sh.jpg\n",
      "http://pbs.twimg.com/media/Dk-CsLnVAAE2__c.jpg\n",
      "Dk-CsLnVAAE2__c.jpg\n",
      "http://pbs.twimg.com/media/DbJg4fGXUAAS7SY.jpg\n",
      "DbJg4fGXUAAS7SY.jpg\n",
      "http://pbs.twimg.com/media/DCH9Tz_WAAA_09Y.jpg\n",
      "DCH9Tz_WAAA_09Y.jpg\n",
      "http://pbs.twimg.com/media/EAQ2LIEXkAE4nLa.jpg\n",
      "EAQ2LIEXkAE4nLa.jpg\n",
      "http://pbs.twimg.com/media/DCjnWHRXgAALcUd.jpg\n",
      "DCjnWHRXgAALcUd.jpg\n",
      "http://pbs.twimg.com/media/DT-PcobX0AARxT_.jpg\n",
      "DT-PcobX0AARxT_.jpg\n",
      "http://pbs.twimg.com/media/DGE5t2-XUAAvbFb.jpg\n",
      "DGE5t2-XUAAvbFb.jpg\n",
      "http://pbs.twimg.com/media/DMumvV1WAAEEMq0.jpg\n",
      "DMumvV1WAAEEMq0.jpg\n",
      "http://pbs.twimg.com/media/Dt_wB9JX4AEod7P.jpg\n",
      "Dt_wB9JX4AEod7P.jpg\n",
      "http://pbs.twimg.com/media/DJSUh0vXcAARReL.jpg\n",
      "DJSUh0vXcAARReL.jpg\n",
      "http://pbs.twimg.com/media/DBzzBIYWsAI91BE.jpg\n",
      "DBzzBIYWsAI91BE.jpg\n",
      "http://pbs.twimg.com/media/D3DqeJwXcAAJTf1.jpg\n",
      "D3DqeJwXcAAJTf1.jpg\n",
      "http://pbs.twimg.com/media/DbJmJdKWkAAuT-X.jpg\n",
      "DbJmJdKWkAAuT-X.jpg\n",
      "http://pbs.twimg.com/media/DCSFe0dWsAAmqkA.jpg\n",
      "DCSFe0dWsAAmqkA.jpg\n",
      "http://pbs.twimg.com/media/DSfEUTpW0AcjLCj.jpg\n",
      "DSfEUTpW0AcjLCj.jpg\n",
      "http://pbs.twimg.com/media/DMWeDb9XUAEwqN0.jpg\n",
      "DMWeDb9XUAEwqN0.jpg\n",
      "http://pbs.twimg.com/media/DCjlJD9XkAA-juK.jpg\n",
      "DCjlJD9XkAA-juK.jpg\n",
      "http://pbs.twimg.com/media/DD6lSFjUMAEzVHt.jpg\n",
      "DD6lSFjUMAEzVHt.jpg\n",
      "http://pbs.twimg.com/media/DC_oO6cXYAEAG-N.jpg\n",
      "DC_oO6cXYAEAG-N.jpg\n",
      "http://pbs.twimg.com/media/DBgFAehWAAIkdzJ.jpg\n",
      "DBgFAehWAAIkdzJ.jpg\n",
      "http://pbs.twimg.com/media/DC284bRXgAUCc8I.jpg\n",
      "DC284bRXgAUCc8I.jpg\n",
      "http://pbs.twimg.com/media/DoSRQFcWkAAkcFB.jpg\n",
      "DoSRQFcWkAAkcFB.jpg\n",
      "http://pbs.twimg.com/media/ECuBRdhWwAAe0aT.jpg\n",
      "ECuBRdhWwAAe0aT.jpg\n",
      "http://pbs.twimg.com/media/DovjUmnWwAE0OVR.jpg\n",
      "DovjUmnWwAE0OVR.jpg\n",
      "http://pbs.twimg.com/media/DIEaoZbWAAAImIM.jpg\n",
      "DIEaoZbWAAAImIM.jpg\n",
      "http://pbs.twimg.com/media/Dt-UriDWsAAKFZI.jpg\n",
      "Dt-UriDWsAAKFZI.jpg\n",
      "http://pbs.twimg.com/media/DEEkNjMW0AAZ-9b.jpg\n",
      "DEEkNjMW0AAZ-9b.jpg\n",
      "http://pbs.twimg.com/media/DDzW5WSXoAAsB6E.jpg\n",
      "DDzW5WSXoAAsB6E.jpg\n",
      "http://pbs.twimg.com/media/DCmO4tqXUAArlZN.jpg\n",
      "DCmO4tqXUAArlZN.jpg\n",
      "http://pbs.twimg.com/media/DhanQEJWsAA4Qrg.jpg\n",
      "DhanQEJWsAA4Qrg.jpg\n",
      "http://pbs.twimg.com/media/DBuy1oUXUAAwwxX.jpg\n",
      "DBuy1oUXUAAwwxX.jpg\n",
      "http://pbs.twimg.com/media/DGP6yKDXgAQeaYR.jpg\n",
      "DGP6yKDXgAQeaYR.jpg\n",
      "http://pbs.twimg.com/media/Dyp_j9mXcAElb2j.jpg\n",
      "Dyp_j9mXcAElb2j.jpg\n",
      "http://pbs.twimg.com/media/DwLR4g5X4AE7jJo.jpg\n",
      "DwLR4g5X4AE7jJo.jpg\n",
      "http://pbs.twimg.com/media/DUEtSQRX0AA3r-p.jpg\n",
      "DUEtSQRX0AA3r-p.jpg\n",
      "http://pbs.twimg.com/media/DYufAjcW0AA42ZY.jpg\n",
      "DYufAjcW0AA42ZY.jpg\n",
      "http://pbs.twimg.com/media/DCJ2HHVXYAATcRl.jpg\n",
      "DCJ2HHVXYAATcRl.jpg\n",
      "http://pbs.twimg.com/media/DIBJ2XRXgAAbi4Z.jpg\n",
      "DIBJ2XRXgAAbi4Z.jpg\n",
      "http://pbs.twimg.com/media/DBayXv2WAAAtwkV.jpg\n",
      "DBayXv2WAAAtwkV.jpg\n",
      "http://pbs.twimg.com/media/DBzxpbnXkAA1rNW.jpg\n",
      "DBzxpbnXkAA1rNW.jpg\n",
      "http://pbs.twimg.com/media/DBTn8vaW0AAYd1H.jpg\n",
      "DBTn8vaW0AAYd1H.jpg\n",
      "http://pbs.twimg.com/media/Dw3KK18WsAAeR8l.jpg\n",
      "Dw3KK18WsAAeR8l.jpg\n",
      "http://pbs.twimg.com/media/DBfVUnsXUAEhlLm.jpg\n",
      "DBfVUnsXUAEhlLm.jpg\n",
      "http://pbs.twimg.com/media/DvCXDz3XQAAGyoi.jpg\n",
      "DvCXDz3XQAAGyoi.jpg\n",
      "http://pbs.twimg.com/media/DBgjdx5XkAEX8wm.jpg\n",
      "DBgjdx5XkAEX8wm.jpg\n",
      "http://pbs.twimg.com/media/DEN330gXUAADE4M.jpg\n",
      "DEN330gXUAADE4M.jpg\n",
      "http://pbs.twimg.com/media/DBU--vFXcAQuv63.jpg\n",
      "DBU--vFXcAQuv63.jpg\n",
      "http://pbs.twimg.com/media/D6EoZ2kXsAIH_E5.jpg\n",
      "D6EoZ2kXsAIH_E5.jpg\n",
      "http://pbs.twimg.com/media/DkqTX0PVsAEzeDC.jpg\n",
      "DkqTX0PVsAEzeDC.jpg\n",
      "http://pbs.twimg.com/media/DDzVwfpXsAACZPv.jpg\n",
      "DDzVwfpXsAACZPv.jpg\n",
      "http://pbs.twimg.com/media/DCSARrUXgAAeK8C.jpg\n",
      "DCSARrUXgAAeK8C.jpg\n",
      "http://pbs.twimg.com/media/DBzUdZPWsAAcZc7.jpg\n",
      "DBzUdZPWsAAcZc7.jpg\n",
      "http://pbs.twimg.com/media/DMum0VIWAAAkNiW.jpg\n",
      "DMum0VIWAAAkNiW.jpg\n",
      "http://pbs.twimg.com/media/DEElWssXoAAjgLd.jpg\n",
      "DEElWssXoAAjgLd.jpg\n",
      "http://pbs.twimg.com/media/DBTnB71W0AAlhie.jpg\n",
      "DBTnB71W0AAlhie.jpg\n",
      "http://pbs.twimg.com/media/DJ2y5y-XcAEyHfU.jpg\n",
      "DJ2y5y-XcAEyHfU.jpg\n",
      "http://pbs.twimg.com/media/DJJkxDMXcAAPzAI.jpg\n",
      "DJJkxDMXcAAPzAI.jpg\n",
      "http://pbs.twimg.com/media/Dn2NKnrX0AATA5-.jpg\n",
      "Dn2NKnrX0AATA5-.jpg\n",
      "http://pbs.twimg.com/media/DbLTHpHXkAANdmT.jpg\n",
      "DbLTHpHXkAANdmT.jpg\n",
      "http://pbs.twimg.com/media/DGAa9MEWAAA4yh7.jpg\n",
      "DGAa9MEWAAA4yh7.jpg\n",
      "http://pbs.twimg.com/media/DBoCbCWXsAAdL5x.jpg\n",
      "DBoCbCWXsAAdL5x.jpg\n",
      "http://pbs.twimg.com/media/DCEREIqXgAA1G-l.jpg\n",
      "DCEREIqXgAA1G-l.jpg\n",
      "http://pbs.twimg.com/media/DIK-jeqWsAAXq3M.jpg\n",
      "DIK-jeqWsAAXq3M.jpg\n",
      "http://pbs.twimg.com/media/DDaczKGXgAECTUn.jpg\n",
      "DDaczKGXgAECTUn.jpg\n",
      "http://pbs.twimg.com/media/D9ks2b9XUAEa4Rm.jpg\n",
      "D9ks2b9XUAEa4Rm.jpg\n",
      "http://pbs.twimg.com/media/DUeiHRYWsAAbxM4.jpg\n",
      "DUeiHRYWsAAbxM4.jpg\n",
      "http://pbs.twimg.com/media/DD6oZ4aVwAAl2A_.jpg\n",
      "DD6oZ4aVwAAl2A_.jpg\n",
      "http://pbs.twimg.com/media/DFvgiiIW0AAOV1T.jpg\n",
      "DFvgiiIW0AAOV1T.jpg\n",
      "http://pbs.twimg.com/media/D3DiNOzWsAAm__y.jpg\n",
      "D3DiNOzWsAAm__y.jpg\n",
      "http://pbs.twimg.com/ext_tw_video_thumb/1048956710461865984/pu/img/ycn8yXcXgl0t0oSm.jpg\n",
      "ycn8yXcXgl0t0oSm.jpg\n",
      "http://pbs.twimg.com/media/DXyN4ruX0AIuGEz.jpg\n",
      "DXyN4ruX0AIuGEz.jpg\n",
      "http://pbs.twimg.com/media/DCeEzOeXsAI_da9.jpg\n",
      "DCeEzOeXsAI_da9.jpg\n",
      "http://pbs.twimg.com/media/DUvix63XkAIVlrw.jpg\n",
      "DUvix63XkAIVlrw.jpg\n",
      "http://pbs.twimg.com/media/DDWmbEIXUAEzgTO.jpg\n",
      "DDWmbEIXUAEzgTO.jpg\n",
      "http://pbs.twimg.com/media/DIAm6aQWAAAnvKP.jpg\n",
      "DIAm6aQWAAAnvKP.jpg\n",
      "http://pbs.twimg.com/media/DEm_q8GXUAIs6ed.jpg\n",
      "DEm_q8GXUAIs6ed.jpg\n",
      "http://pbs.twimg.com/media/DBoNnt8WAAAR0SB.jpg\n",
      "DBoNnt8WAAAR0SB.jpg\n",
      "http://pbs.twimg.com/media/DJ66T_HW0AAlgSl.jpg\n",
      "DJ66T_HW0AAlgSl.jpg\n",
      "http://pbs.twimg.com/media/DCYyFRyXsAA2Ycl.jpg\n",
      "DCYyFRyXsAA2Ycl.jpg\n",
      "http://pbs.twimg.com/media/DDWm3ERW0AAAWMy.jpg\n",
      "DDWm3ERW0AAAWMy.jpg\n",
      "http://pbs.twimg.com/media/DCsXF9tXoAI2sRV.jpg\n",
      "DCsXF9tXoAI2sRV.jpg\n",
      "http://pbs.twimg.com/media/DGkho5oXcAIMr6g.jpg\n",
      "DGkho5oXcAIMr6g.jpg\n",
      "http://pbs.twimg.com/media/DH_FlJHXgAAFtap.jpg\n",
      "DH_FlJHXgAAFtap.jpg\n",
      "http://pbs.twimg.com/media/DGzjb6FXkAQ-PSD.jpg\n",
      "DGzjb6FXkAQ-PSD.jpg\n",
      "http://pbs.twimg.com/media/DCeFI4EXYAA1UK1.jpg\n",
      "DCeFI4EXYAA1UK1.jpg\n",
      "http://pbs.twimg.com/media/DJ20UUiW4AAweQ4.jpg\n",
      "DJ20UUiW4AAweQ4.jpg\n",
      "http://pbs.twimg.com/media/DJHraZqXcAAsX_M.jpg\n",
      "DJHraZqXcAAsX_M.jpg\n",
      "http://pbs.twimg.com/media/DBTxZveXgAAYYfI.jpg\n",
      "DBTxZveXgAAYYfI.jpg\n",
      "http://pbs.twimg.com/media/DEiVFEFWAAEt9oH.jpg\n",
      "DEiVFEFWAAEt9oH.jpg\n",
      "http://pbs.twimg.com/media/DZscnXJWkAAv3_g.jpg\n",
      "DZscnXJWkAAv3_g.jpg\n",
      "http://pbs.twimg.com/media/DCJja7OXkAUKAn0.jpg\n",
      "DCJja7OXkAUKAn0.jpg\n",
      "http://pbs.twimg.com/media/D0W-sZmW0AE4Dmr.jpg\n",
      "D0W-sZmW0AE4Dmr.jpg\n",
      "http://pbs.twimg.com/media/D_V6pCEXsAALAeS.jpg\n",
      "D_V6pCEXsAALAeS.jpg\n",
      "http://pbs.twimg.com/media/DZscu9JXcAU5ia6.jpg\n",
      "DZscu9JXcAU5ia6.jpg\n",
      "http://pbs.twimg.com/media/DFkCgKXXUAExBXe.jpg\n",
      "DFkCgKXXUAExBXe.jpg\n",
      "http://pbs.twimg.com/media/DBTfnJwXkAAYtn0.jpg\n",
      "DBTfnJwXkAAYtn0.jpg\n",
      "http://pbs.twimg.com/media/DH1Drk3XcAALyL3.jpg\n",
      "DH1Drk3XcAALyL3.jpg\n",
      "http://pbs.twimg.com/media/DCY1BRfXoAAXXr_.jpg\n",
      "DCY1BRfXoAAXXr_.jpg\n",
      "http://pbs.twimg.com/media/Dfuef26X0AAHc0L.jpg\n",
      "Dfuef26X0AAHc0L.jpg\n",
      "http://pbs.twimg.com/media/DIK9LDSXcAAmbt7.jpg\n",
      "DIK9LDSXcAAmbt7.jpg\n",
      "http://pbs.twimg.com/media/DHRWfWIXUAAJ4td.jpg\n",
      "DHRWfWIXUAAJ4td.jpg\n",
      "http://pbs.twimg.com/media/DIEbZ7cW0AAOxIA.jpg\n",
      "DIEbZ7cW0AAOxIA.jpg\n",
      "http://pbs.twimg.com/media/DBq73yrXgAANbjL.jpg\n",
      "DBq73yrXgAANbjL.jpg\n",
      "http://pbs.twimg.com/media/DT-PJh0WsAAve92.jpg\n",
      "DT-PJh0WsAAve92.jpg\n",
      "http://pbs.twimg.com/media/DPK8v5tWsAAk7NE.jpg\n",
      "DPK8v5tWsAAk7NE.jpg\n"
     ]
    },
    {
     "name": "stdout",
     "output_type": "stream",
     "text": [
      "http://pbs.twimg.com/media/DCIjUoJXgAEkUj3.jpg\n",
      "DCIjUoJXgAEkUj3.jpg\n",
      "http://pbs.twimg.com/media/DDAxsHqXYAI83Er.jpg\n",
      "DDAxsHqXYAI83Er.jpg\n",
      "http://pbs.twimg.com/media/DBZyeJ7XUAERV_j.jpg\n",
      "DBZyeJ7XUAERV_j.jpg\n",
      "http://pbs.twimg.com/media/DoSSD_0W0AUcPbh.jpg\n",
      "DoSSD_0W0AUcPbh.jpg\n",
      "http://pbs.twimg.com/media/DbLQVkuWsAAKYCI.jpg\n",
      "DbLQVkuWsAAKYCI.jpg\n",
      "http://pbs.twimg.com/media/DIEZ5R8WAAAqyiV.jpg\n",
      "DIEZ5R8WAAAqyiV.jpg\n",
      "http://pbs.twimg.com/media/DofGgQiXUAAkHSo.jpg\n",
      "DofGgQiXUAAkHSo.jpg\n",
      "http://pbs.twimg.com/media/DQdjl2JUEAEHuWr.jpg\n",
      "DQdjl2JUEAEHuWr.jpg\n",
      "http://pbs.twimg.com/media/DeN4miwV0AAC51u.jpg\n",
      "DeN4miwV0AAC51u.jpg\n",
      "http://pbs.twimg.com/media/Dw4I1DFWsAAQqLX.jpg\n",
      "Dw4I1DFWsAAQqLX.jpg\n",
      "http://pbs.twimg.com/media/DJMIDY4XgAE0Kb4.jpg\n",
      "DJMIDY4XgAE0Kb4.jpg\n",
      "http://pbs.twimg.com/media/Dkelro3XgAEYtlP.jpg\n",
      "Dkelro3XgAEYtlP.jpg\n",
      "http://pbs.twimg.com/media/DGpRILtXoAEJrkc.jpg\n",
      "DGpRILtXoAEJrkc.jpg\n",
      "http://pbs.twimg.com/media/DfudR0AW0AA9t60.jpg\n",
      "DfudR0AW0AA9t60.jpg\n",
      "http://pbs.twimg.com/media/DEN_MZTXkAAxnJV.jpg\n",
      "DEN_MZTXkAAxnJV.jpg\n",
      "http://pbs.twimg.com/media/DUEuRrBX4AEa9sP.jpg\n",
      "DUEuRrBX4AEa9sP.jpg\n",
      "http://pbs.twimg.com/media/DDGuZMWW0AAaU_7.jpg\n",
      "DDGuZMWW0AAaU_7.jpg\n",
      "http://pbs.twimg.com/media/DCYH43NXYAArkat.jpg\n",
      "DCYH43NXYAArkat.jpg\n",
      "http://pbs.twimg.com/media/DK5pTl_XUAARtlB.jpg\n",
      "DK5pTl_XUAARtlB.jpg\n",
      "http://pbs.twimg.com/media/DFsB46sWsAEberE.jpg\n",
      "DFsB46sWsAEberE.jpg\n",
      "http://pbs.twimg.com/media/DGE5WE2XUAQhXr6.jpg\n",
      "DGE5WE2XUAQhXr6.jpg\n",
      "http://pbs.twimg.com/media/Dd5SPopUwAApAHE.jpg\n",
      "Dd5SPopUwAApAHE.jpg\n",
      "http://pbs.twimg.com/media/DDkwxYuW0AIDhW-.jpg\n",
      "DDkwxYuW0AIDhW-.jpg\n",
      "http://pbs.twimg.com/media/EC_0p4EW4AI7fx7.jpg\n",
      "EC_0p4EW4AI7fx7.jpg\n",
      "http://pbs.twimg.com/media/DExmodCWsAIT4qY.jpg\n",
      "DExmodCWsAIT4qY.jpg\n",
      "http://pbs.twimg.com/media/DFICbpBXcAAUoKf.jpg\n",
      "DFICbpBXcAAUoKf.jpg\n",
      "http://pbs.twimg.com/media/DXrseIaWAAEr-Hm.jpg\n",
      "DXrseIaWAAEr-Hm.jpg\n",
      "http://pbs.twimg.com/media/DBfvrMeXcAAm2FY.jpg\n",
      "DBfvrMeXcAAm2FY.jpg\n",
      "http://pbs.twimg.com/media/DEy-yPCXgAIsees.jpg\n",
      "DEy-yPCXgAIsees.jpg\n",
      "http://pbs.twimg.com/media/DGI01ZMXoAA4Ems.jpg\n",
      "DGI01ZMXoAA4Ems.jpg\n",
      "http://pbs.twimg.com/media/DIj5qn2W0AEaxrF.jpg\n",
      "DIj5qn2W0AEaxrF.jpg\n",
      "http://pbs.twimg.com/media/DGke0CTWAAQGmQY.jpg\n",
      "DGke0CTWAAQGmQY.jpg\n",
      "http://pbs.twimg.com/media/DKQmi4DWAAEFRj4.jpg\n",
      "DKQmi4DWAAEFRj4.jpg\n",
      "http://pbs.twimg.com/media/DJ20uCDXcAArc74.jpg\n",
      "DJ20uCDXcAArc74.jpg\n",
      "http://pbs.twimg.com/media/DIBIfxJXsAAusV8.jpg\n",
      "DIBIfxJXsAAusV8.jpg\n",
      "http://pbs.twimg.com/media/DEDPqWhXYAAmfF-.jpg\n",
      "DEDPqWhXYAAmfF-.jpg\n",
      "http://pbs.twimg.com/media/DCOpLqwXsAYtfaX.jpg\n",
      "DCOpLqwXsAYtfaX.jpg\n",
      "http://pbs.twimg.com/media/DOg54_4WkAAluS1.jpg\n",
      "DOg54_4WkAAluS1.jpg\n",
      "http://pbs.twimg.com/media/DJHtbCLXUAAhqnf.jpg\n",
      "DJHtbCLXUAAhqnf.jpg\n",
      "http://pbs.twimg.com/media/DDjzvm8XcAAZIGe.jpg\n",
      "DDjzvm8XcAAZIGe.jpg\n",
      "http://pbs.twimg.com/media/Dd_UuRHVAAA0vUF.jpg\n",
      "Dd_UuRHVAAA0vUF.jpg\n",
      "http://pbs.twimg.com/media/DIj6hOKXYAEDzu6.jpg\n",
      "DIj6hOKXYAEDzu6.jpg\n",
      "http://pbs.twimg.com/media/Dj8bYrrWwAA3IfJ.jpg\n",
      "Dj8bYrrWwAA3IfJ.jpg\n",
      "http://pbs.twimg.com/media/Dw3KAB9XQAAmqHx.jpg\n",
      "Dw3KAB9XQAAmqHx.jpg\n",
      "http://pbs.twimg.com/media/DntulbWW4AE1DIT.jpg\n",
      "DntulbWW4AE1DIT.jpg\n",
      "http://pbs.twimg.com/media/DR41IfHXcAEVmqM.jpg\n",
      "DR41IfHXcAEVmqM.jpg\n",
      "http://pbs.twimg.com/media/DJHuhulXgAAxO7_.jpg\n",
      "DJHuhulXgAAxO7_.jpg\n",
      "http://pbs.twimg.com/media/DuKhfj-W0AAzPTK.jpg\n",
      "DuKhfj-W0AAzPTK.jpg\n",
      "http://pbs.twimg.com/media/DEDNlOyXkAAmv8I.jpg\n",
      "DEDNlOyXkAAmv8I.jpg\n",
      "http://pbs.twimg.com/media/DD120KuWsAIxvSy.jpg\n",
      "DD120KuWsAIxvSy.jpg\n",
      "http://pbs.twimg.com/media/D6EpsHIWsAAU-iB.jpg\n",
      "D6EpsHIWsAAU-iB.jpg\n",
      "http://pbs.twimg.com/media/DEI9G_YXcAAz9R8.jpg\n",
      "DEI9G_YXcAAz9R8.jpg\n",
      "http://pbs.twimg.com/media/Dkul7RFW4AA8Iu3.jpg\n",
      "Dkul7RFW4AA8Iu3.jpg\n",
      "http://pbs.twimg.com/media/DwI-YQqWsAEqn5_.jpg\n",
      "DwI-YQqWsAEqn5_.jpg\n",
      "http://pbs.twimg.com/media/DGAabKOXkAA7IpF.jpg\n",
      "DGAabKOXkAA7IpF.jpg\n",
      "http://pbs.twimg.com/media/DBq848FXUAA27pc.jpg\n",
      "DBq848FXUAA27pc.jpg\n",
      "http://pbs.twimg.com/media/DEOapNiWAAArSqv.jpg\n",
      "DEOapNiWAAArSqv.jpg\n",
      "http://pbs.twimg.com/media/ECADQsQWwAU0wL2.jpg\n",
      "ECADQsQWwAU0wL2.jpg\n",
      "http://pbs.twimg.com/media/DP94DFVX0AAW5G-.jpg\n",
      "DP94DFVX0AAW5G-.jpg\n",
      "http://pbs.twimg.com/media/DEordufXYAImcbv.jpg\n",
      "DEordufXYAImcbv.jpg\n",
      "http://pbs.twimg.com/media/DCXrODWXoAYGuUN.jpg\n",
      "DCXrODWXoAYGuUN.jpg\n",
      "http://pbs.twimg.com/media/DUKOIPkXcAAvtM3.jpg\n",
      "DUKOIPkXcAAvtM3.jpg\n",
      "http://pbs.twimg.com/media/DEtkM0uXgAAVxl9.jpg\n",
      "DEtkM0uXgAAVxl9.jpg\n",
      "http://pbs.twimg.com/media/DD147J3XsAAU8UR.jpg\n",
      "DD147J3XsAAU8UR.jpg\n",
      "http://pbs.twimg.com/media/DHRVP6UXcAAEgBZ.jpg\n",
      "DHRVP6UXcAAEgBZ.jpg\n",
      "http://pbs.twimg.com/media/DXmi_DSW4AA0Qas.jpg\n",
      "DXmi_DSW4AA0Qas.jpg\n",
      "http://pbs.twimg.com/media/DBq50MOW0AQdhhZ.jpg\n",
      "DBq50MOW0AQdhhZ.jpg\n",
      "http://pbs.twimg.com/media/DFGsHVIXUAE3I4n.jpg\n",
      "DFGsHVIXUAE3I4n.jpg\n",
      "http://pbs.twimg.com/media/DTp8VYrXUAAfzof.jpg\n",
      "DTp8VYrXUAAfzof.jpg\n",
      "http://pbs.twimg.com/media/DVm6WUCU0AIx6SB.jpg\n",
      "DVm6WUCU0AIx6SB.jpg\n",
      "http://pbs.twimg.com/media/DkkS15FXcAAbNel.jpg\n",
      "DkkS15FXcAAbNel.jpg\n",
      "http://pbs.twimg.com/media/DRz3lkxX0AApbBE.jpg\n",
      "DRz3lkxX0AApbBE.jpg\n",
      "http://pbs.twimg.com/media/ECt_SYvWkAEyT0z.jpg\n",
      "ECt_SYvWkAEyT0z.jpg\n",
      "http://pbs.twimg.com/media/Dk-5pO2VsAAaShu.jpg\n",
      "Dk-5pO2VsAAaShu.jpg\n",
      "http://pbs.twimg.com/media/DkadGAIWsAAM3UJ.jpg\n",
      "DkadGAIWsAAM3UJ.jpg\n",
      "http://pbs.twimg.com/media/Do7WQg1W4AI81c7.jpg\n",
      "Do7WQg1W4AI81c7.jpg\n",
      "http://pbs.twimg.com/media/DD6pzKNUIAAqem5.jpg\n",
      "DD6pzKNUIAAqem5.jpg\n",
      "http://pbs.twimg.com/media/DeDlivjXkAIa0G3.jpg\n",
      "DeDlivjXkAIa0G3.jpg\n",
      "http://pbs.twimg.com/media/DCESWoSW0AA_y7M.jpg\n",
      "DCESWoSW0AA_y7M.jpg\n",
      "http://pbs.twimg.com/media/D_WDZwwXkAArF0y.jpg\n",
      "D_WDZwwXkAArF0y.jpg\n",
      "http://pbs.twimg.com/media/Ds2689FXgAENa2h.jpg\n",
      "Ds2689FXgAENa2h.jpg\n",
      "http://pbs.twimg.com/media/DEN4kleWsAE69bM.jpg\n",
      "DEN4kleWsAE69bM.jpg\n",
      "http://pbs.twimg.com/media/DEDNzBYW0AAGg2_.jpg\n",
      "DEDNzBYW0AAGg2_.jpg\n",
      "http://pbs.twimg.com/media/DFRjUtPXgAE72Hj.jpg\n",
      "DFRjUtPXgAE72Hj.jpg\n",
      "http://pbs.twimg.com/media/DEy1LVFXkAAxbC-.jpg\n",
      "DEy1LVFXkAAxbC-.jpg\n",
      "http://pbs.twimg.com/media/DH1Dj87XcAAJNDd.jpg\n",
      "DH1Dj87XcAAJNDd.jpg\n",
      "http://pbs.twimg.com/media/DDj002lXUAA49d4.jpg\n",
      "DDj002lXUAA49d4.jpg\n",
      "http://pbs.twimg.com/media/DBlmoWuXcAAQz6M.jpg\n",
      "DBlmoWuXcAAQz6M.jpg\n",
      "http://pbs.twimg.com/media/DFRikLMWAAArhNz.jpg\n",
      "DFRikLMWAAArhNz.jpg\n",
      "http://pbs.twimg.com/media/DDGtGFhXoAIleVx.jpg\n",
      "DDGtGFhXoAIleVx.jpg\n",
      "http://pbs.twimg.com/media/DIAk-aIWAAAj7Xn.jpg\n",
      "DIAk-aIWAAAj7Xn.jpg\n",
      "http://pbs.twimg.com/media/DExqOcEWsAEoDjd.jpg\n",
      "DExqOcEWsAEoDjd.jpg\n",
      "http://pbs.twimg.com/media/DH1CrjlXgAIVrWo.jpg\n",
      "DH1CrjlXgAIVrWo.jpg\n",
      "http://pbs.twimg.com/media/DHXVfScXUAAM6OW.jpg\n",
      "DHXVfScXUAAM6OW.jpg\n",
      "http://pbs.twimg.com/media/DvLcHugX4AArAzm.jpg\n",
      "DvLcHugX4AArAzm.jpg\n",
      "http://pbs.twimg.com/media/DbLRz0yWkAAKZrK.jpg\n",
      "DbLRz0yWkAAKZrK.jpg\n",
      "http://pbs.twimg.com/media/Ds285TzWsAAgUWo.jpg\n",
      "Ds285TzWsAAgUWo.jpg\n",
      "http://pbs.twimg.com/media/DBuGZBAXYAEOouu.jpg\n",
      "DBuGZBAXYAEOouu.jpg\n",
      "http://pbs.twimg.com/media/DCIjaEWW0AE7WgY.jpg\n",
      "DCIjaEWW0AE7WgY.jpg\n",
      "http://pbs.twimg.com/media/DSfDK74XkAY6XHG.jpg\n",
      "DSfDK74XkAY6XHG.jpg\n",
      "http://pbs.twimg.com/media/DGAb1wMWsAEJr2X.jpg\n",
      "DGAb1wMWsAEJr2X.jpg\n",
      "http://pbs.twimg.com/media/DvCWjvlX0AIb5As.jpg\n",
      "DvCWjvlX0AIb5As.jpg\n",
      "http://pbs.twimg.com/media/DExnG-HWsAAxW42.jpg\n",
      "DExnG-HWsAAxW42.jpg\n",
      "http://pbs.twimg.com/media/DC8_cnOXkAEF8Sd.jpg\n",
      "DC8_cnOXkAEF8Sd.jpg\n",
      "http://pbs.twimg.com/media/DCjQ6RJXUAAjA4c.jpg\n",
      "DCjQ6RJXUAAjA4c.jpg\n",
      "http://pbs.twimg.com/media/DFQ2TxOXoAEB9Ga.jpg\n",
      "DFQ2TxOXoAEB9Ga.jpg\n",
      "http://pbs.twimg.com/media/Dmv-Jq_XoAMkYbn.jpg\n",
      "Dmv-Jq_XoAMkYbn.jpg\n",
      "http://pbs.twimg.com/media/Dkvc9GSX4AA3_9Q.jpg\n",
      "Dkvc9GSX4AA3_9Q.jpg\n",
      "http://pbs.twimg.com/media/DH_F8kNXYAAg14D.jpg\n",
      "DH_F8kNXYAAg14D.jpg\n",
      "http://pbs.twimg.com/media/DCZJbKMXYAA6-o-.jpg\n",
      "DCZJbKMXYAA6-o-.jpg\n",
      "http://pbs.twimg.com/media/DCsUgljXsAE4jaW.jpg\n",
      "DCsUgljXsAE4jaW.jpg\n",
      "http://pbs.twimg.com/media/DQdjVU5V4AErC4x.jpg\n",
      "DQdjVU5V4AErC4x.jpg\n",
      "http://pbs.twimg.com/media/DDj0BCIXkAAa8vY.jpg\n",
      "DDj0BCIXkAAa8vY.jpg\n",
      "http://pbs.twimg.com/media/DQ8fF1tWkAAlBlk.jpg\n",
      "DQ8fF1tWkAAlBlk.jpg\n",
      "http://pbs.twimg.com/media/Dd6RjpNVQAAEdmN.jpg\n",
      "Dd6RjpNVQAAEdmN.jpg\n",
      "http://pbs.twimg.com/media/DGK0akhXUAAQynJ.jpg\n",
      "DGK0akhXUAAQynJ.jpg\n",
      "http://pbs.twimg.com/media/DqH_fuIWsAA-gzS.jpg\n",
      "DqH_fuIWsAA-gzS.jpg\n",
      "http://pbs.twimg.com/media/DC3RsT3XgAAQAQu.jpg\n",
      "DC3RsT3XgAAQAQu.jpg\n",
      "http://pbs.twimg.com/media/Dk0mdULWwAMj3ht.jpg\n",
      "Dk0mdULWwAMj3ht.jpg\n",
      "http://pbs.twimg.com/media/DBfyhJKWAAEotP6.jpg\n",
      "DBfyhJKWAAEotP6.jpg\n",
      "http://pbs.twimg.com/media/DwJBHiBXgAAfaN9.jpg\n",
      "DwJBHiBXgAAfaN9.jpg\n",
      "http://pbs.twimg.com/media/DFQ1bkZXsAYrkch.jpg\n",
      "DFQ1bkZXsAYrkch.jpg\n",
      "http://pbs.twimg.com/media/DKUM65SXkAEhcZm.jpg\n",
      "DKUM65SXkAEhcZm.jpg\n"
     ]
    },
    {
     "name": "stdout",
     "output_type": "stream",
     "text": [
      "http://pbs.twimg.com/media/DCXD8JmWsAIX9Vz.jpg\n",
      "DCXD8JmWsAIX9Vz.jpg\n",
      "http://pbs.twimg.com/media/DC2jDv7XYAAw_rf.jpg\n",
      "DC2jDv7XYAAw_rf.jpg\n",
      "http://pbs.twimg.com/media/DGKz0a1XkAIWo9e.jpg\n",
      "DGKz0a1XkAIWo9e.jpg\n",
      "http://pbs.twimg.com/media/DBql_n0XsAAaWaK.jpg\n",
      "DBql_n0XsAAaWaK.jpg\n",
      "http://pbs.twimg.com/media/DHRU8lzXkAEV3XG.jpg\n",
      "DHRU8lzXkAEV3XG.jpg\n",
      "http://pbs.twimg.com/media/DCmXV58XgAA6nVX.jpg\n",
      "DCmXV58XgAA6nVX.jpg\n",
      "http://pbs.twimg.com/media/DOyT4o7XUAAQ6HU.jpg\n",
      "DOyT4o7XUAAQ6HU.jpg\n",
      "http://pbs.twimg.com/media/DBTsa8sXkAAZWSU.jpg\n",
      "DBTsa8sXkAAZWSU.jpg\n",
      "http://pbs.twimg.com/media/DCjmRuNXsAURLBq.jpg\n",
      "DCjmRuNXsAURLBq.jpg\n",
      "http://pbs.twimg.com/media/DMWc1QlWkAEwA5Z.jpg\n",
      "DMWc1QlWkAEwA5Z.jpg\n",
      "http://pbs.twimg.com/media/DRz25lHX0AI2J1t.jpg\n",
      "DRz25lHX0AI2J1t.jpg\n",
      "http://pbs.twimg.com/media/DhaindNXkAALhFK.jpg\n",
      "DhaindNXkAALhFK.jpg\n",
      "http://pbs.twimg.com/media/DBTtOflXYAAnGae.jpg\n",
      "DBTtOflXYAAnGae.jpg\n",
      "http://pbs.twimg.com/media/DvQktCMWoAASngJ.jpg\n",
      "DvQktCMWoAASngJ.jpg\n",
      "http://pbs.twimg.com/media/DbJjoM_WsAApgGw.jpg\n",
      "DbJjoM_WsAApgGw.jpg\n",
      "http://pbs.twimg.com/media/DKQlGW6XoAA9Y83.jpg\n",
      "DKQlGW6XoAA9Y83.jpg\n",
      "http://pbs.twimg.com/media/ECAEg3IXYAANr0z.jpg\n",
      "ECAEg3IXYAANr0z.jpg\n",
      "http://pbs.twimg.com/media/DCY0E6WW0AAoo9S.jpg\n",
      "DCY0E6WW0AAoo9S.jpg\n",
      "http://pbs.twimg.com/media/DH_GV8ZXsAAQhq1.jpg\n",
      "DH_GV8ZXsAAQhq1.jpg\n",
      "http://pbs.twimg.com/media/DoQAhNdWsAEC8gv.jpg\n",
      "DoQAhNdWsAEC8gv.jpg\n",
      "http://pbs.twimg.com/media/DPPA1xqWAAAcILA.jpg\n",
      "DPPA1xqWAAAcILA.jpg\n",
      "http://pbs.twimg.com/media/DvgszNTXgAATKFo.jpg\n",
      "DvgszNTXgAATKFo.jpg\n",
      "http://pbs.twimg.com/media/DCXA0qXWAAAJcYN.jpg\n",
      "DCXA0qXWAAAJcYN.jpg\n",
      "http://pbs.twimg.com/media/DJHrvryW4AImtjw.jpg\n",
      "DJHrvryW4AImtjw.jpg\n",
      "http://pbs.twimg.com/media/DBgGTnrXcAEqbwB.jpg\n",
      "DBgGTnrXcAEqbwB.jpg\n",
      "http://pbs.twimg.com/media/DCeFXzzXgAAv1Cv.jpg\n",
      "DCeFXzzXgAAv1Cv.jpg\n",
      "http://pbs.twimg.com/media/DC_nyCsXsAARg-f.jpg\n",
      "DC_nyCsXsAARg-f.jpg\n",
      "http://pbs.twimg.com/media/DuKg5xXWsAUBGDD.jpg\n",
      "DuKg5xXWsAUBGDD.jpg\n",
      "http://pbs.twimg.com/media/DIj9rF6XkAECOF4.jpg\n",
      "DIj9rF6XkAECOF4.jpg\n",
      "http://pbs.twimg.com/media/DGKzpuXXkAEj7Yo.jpg\n",
      "DGKzpuXXkAEj7Yo.jpg\n",
      "http://pbs.twimg.com/media/DofGnXuXUAEbr_n.jpg\n",
      "DofGnXuXUAEbr_n.jpg\n",
      "http://pbs.twimg.com/media/ECAFw6BW4AIEwgY.jpg\n",
      "ECAFw6BW4AIEwgY.jpg\n",
      "http://pbs.twimg.com/media/DEyO63GXkAIFzL-.jpg\n",
      "DEyO63GXkAIFzL-.jpg\n",
      "http://pbs.twimg.com/media/DBTtXFFXkAAbhCt.jpg\n",
      "DBTtXFFXkAAbhCt.jpg\n",
      "http://pbs.twimg.com/media/DeIvF0MXcAApeY-.jpg\n",
      "DeIvF0MXcAApeY-.jpg\n",
      "http://pbs.twimg.com/media/Dn4jI4mXcAIEnTK.jpg\n",
      "Dn4jI4mXcAIEnTK.jpg\n",
      "http://pbs.twimg.com/media/DkpcXR4X0AEcG8B.jpg\n",
      "DkpcXR4X0AEcG8B.jpg\n",
      "http://pbs.twimg.com/media/DEiVnBNWsAAAKVC.jpg\n",
      "DEiVnBNWsAAAKVC.jpg\n",
      "http://pbs.twimg.com/media/DEosGM2WAAADMe4.jpg\n",
      "DEosGM2WAAADMe4.jpg\n",
      "http://pbs.twimg.com/media/DVgO3jTX0AU24kJ.jpg\n",
      "DVgO3jTX0AU24kJ.jpg\n",
      "http://pbs.twimg.com/media/Df04aiLXUAAMcLH.jpg\n",
      "Df04aiLXUAAMcLH.jpg\n",
      "http://pbs.twimg.com/media/DCZGc0IXUAAQthx.jpg\n",
      "DCZGc0IXUAAQthx.jpg\n",
      "http://pbs.twimg.com/media/EEQTxwqXsAEJBEZ.jpg\n",
      "EEQTxwqXsAEJBEZ.jpg\n",
      "http://pbs.twimg.com/media/DD0vYYOXgAEN24o.jpg\n",
      "DD0vYYOXgAEN24o.jpg\n",
      "http://pbs.twimg.com/media/DqRfQDRX4AAW_D-.jpg\n",
      "DqRfQDRX4AAW_D-.jpg\n",
      "http://pbs.twimg.com/media/DlDMa78WsAECG81.jpg\n",
      "DlDMa78WsAECG81.jpg\n",
      "http://pbs.twimg.com/media/DFpXnENW0AEYPuH.jpg\n",
      "DFpXnENW0AEYPuH.jpg\n",
      "http://pbs.twimg.com/ext_tw_video_thumb/1048971882836496384/pu/img/w3KJGZAXC6EiHQ-k.jpg\n",
      "w3KJGZAXC6EiHQ-k.jpg\n",
      "http://pbs.twimg.com/media/EEAr4UuWsAIsZAJ.jpg\n",
      "EEAr4UuWsAIsZAJ.jpg\n",
      "http://pbs.twimg.com/media/EC9TUWpXUAEXXR_.jpg\n",
      "EC9TUWpXUAEXXR_.jpg\n",
      "http://pbs.twimg.com/media/Dd9iGU7UwAEBUdk.jpg\n",
      "Dd9iGU7UwAEBUdk.jpg\n",
      "http://pbs.twimg.com/media/DBUILN3W0AEZHe6.jpg\n",
      "DBUILN3W0AEZHe6.jpg\n",
      "http://pbs.twimg.com/media/DwLSbMQX0AASq12.jpg\n",
      "DwLSbMQX0AASq12.jpg\n",
      "http://pbs.twimg.com/media/DBo5Sj3XoAEWEk7.jpg\n",
      "DBo5Sj3XoAEWEk7.jpg\n",
      "http://pbs.twimg.com/media/DEN4UL6W0AE_Slt.jpg\n",
      "DEN4UL6W0AE_Slt.jpg\n",
      "http://pbs.twimg.com/media/DD0w3vzWAAEGucc.jpg\n",
      "DD0w3vzWAAEGucc.jpg\n",
      "http://pbs.twimg.com/media/DJHtQYBXoAApXeO.jpg\n",
      "DJHtQYBXoAApXeO.jpg\n",
      "http://pbs.twimg.com/media/DzJm1HJXcAANWjt.jpg\n",
      "DzJm1HJXcAANWjt.jpg\n",
      "http://pbs.twimg.com/media/DQ8dbAGWAAA7luQ.jpg\n",
      "DQ8dbAGWAAA7luQ.jpg\n",
      "http://pbs.twimg.com/media/DIAldwCW0AAcwQy.jpg\n",
      "DIAldwCW0AAcwQy.jpg\n",
      "http://pbs.twimg.com/media/DC9WaBdXgAQsDTj.jpg\n",
      "DC9WaBdXgAQsDTj.jpg\n",
      "http://pbs.twimg.com/media/D3Dgy3EX0AE7m32.jpg\n",
      "D3Dgy3EX0AE7m32.jpg\n",
      "http://pbs.twimg.com/media/DkfJRejWwAEXXDS.jpg\n",
      "DkfJRejWwAEXXDS.jpg\n",
      "http://pbs.twimg.com/media/DoQAN6OWsAAWoN-.jpg\n",
      "DoQAN6OWsAAWoN-.jpg\n",
      "http://pbs.twimg.com/media/DEI7Y1vXoAAOUBT.jpg\n",
      "DEI7Y1vXoAAOUBT.jpg\n",
      "http://pbs.twimg.com/media/DSfCOTVW0AEt4iE.jpg\n",
      "DSfCOTVW0AEt4iE.jpg\n",
      "http://pbs.twimg.com/media/DEtjv4HW0AAzGqj.jpg\n",
      "DEtjv4HW0AAzGqj.jpg\n",
      "http://pbs.twimg.com/media/DkZxqVtV4AIUUCT.jpg\n",
      "DkZxqVtV4AIUUCT.jpg\n",
      "http://pbs.twimg.com/media/DJJmijXXgAAjzeY.jpg\n",
      "DJJmijXXgAAjzeY.jpg\n",
      "http://pbs.twimg.com/media/DEEJTufXkAAQaNs.jpg\n",
      "DEEJTufXkAAQaNs.jpg\n",
      "http://pbs.twimg.com/media/DCJhNFvW0AIWrYp.jpg\n",
      "DCJhNFvW0AIWrYp.jpg\n",
      "http://pbs.twimg.com/media/DGI0Y7dXsAEeEee.jpg\n",
      "DGI0Y7dXsAEeEee.jpg\n",
      "http://pbs.twimg.com/media/D3DgeY6XcAAJUnK.jpg\n",
      "D3DgeY6XcAAJUnK.jpg\n",
      "http://pbs.twimg.com/media/DD_0FjuXkAUKxOf.jpg\n",
      "DD_0FjuXkAUKxOf.jpg\n",
      "http://pbs.twimg.com/media/DlDWiX_U0AE1dJC.jpg\n",
      "DlDWiX_U0AE1dJC.jpg\n",
      "http://pbs.twimg.com/media/Dmv6BPMX4AMlTg5.jpg\n",
      "Dmv6BPMX4AMlTg5.jpg\n",
      "http://pbs.twimg.com/media/Dntsh6nWsAQMSIr.jpg\n",
      "Dntsh6nWsAQMSIr.jpg\n",
      "http://pbs.twimg.com/media/DCmTRVIXYAAaAD1.jpg\n",
      "DCmTRVIXYAAaAD1.jpg\n",
      "http://pbs.twimg.com/media/DCXBXorWsAAzQF5.jpg\n",
      "DCXBXorWsAAzQF5.jpg\n",
      "http://pbs.twimg.com/media/DBbgNfYXoAAFc7s.jpg\n",
      "DBbgNfYXoAAFc7s.jpg\n",
      "http://pbs.twimg.com/media/DDWp7KbWAAAzXGd.jpg\n",
      "DDWp7KbWAAAzXGd.jpg\n",
      "http://pbs.twimg.com/media/DT-QxHsX4AAfnol.jpg\n",
      "DT-QxHsX4AAfnol.jpg\n",
      "http://pbs.twimg.com/media/DBZy6xSXcAI1hwv.jpg\n",
      "DBZy6xSXcAI1hwv.jpg\n",
      "http://pbs.twimg.com/media/DFRj5ehWsAQFFFw.jpg\n",
      "DFRj5ehWsAQFFFw.jpg\n",
      "http://pbs.twimg.com/media/DJHuF_VWAAAcafI.jpg\n",
      "DJHuF_VWAAAcafI.jpg\n",
      "http://pbs.twimg.com/media/DMWe5mQWkAAGmwW.jpg\n",
      "DMWe5mQWkAAGmwW.jpg\n",
      "http://pbs.twimg.com/media/DCb4HhfXsAE82Go.jpg\n",
      "DCb4HhfXsAE82Go.jpg\n",
      "http://pbs.twimg.com/media/DlNfpdtXcAARCgy.jpg\n",
      "DlNfpdtXcAARCgy.jpg\n",
      "http://pbs.twimg.com/media/DBUbceuXoAAmWzr.jpg\n",
      "DBUbceuXoAAmWzr.jpg\n",
      "http://pbs.twimg.com/media/DzJk9DcX4AAUXM6.jpg\n",
      "DzJk9DcX4AAUXM6.jpg\n",
      "http://pbs.twimg.com/media/DklJwzRUUAEFkOp.jpg\n",
      "DklJwzRUUAEFkOp.jpg\n",
      "http://pbs.twimg.com/media/Dt4yI8QWsAEPkT3.jpg\n",
      "Dt4yI8QWsAEPkT3.jpg\n",
      "http://pbs.twimg.com/media/DJ20JNRWkAEVGNs.jpg\n",
      "DJ20JNRWkAEVGNs.jpg\n",
      "http://pbs.twimg.com/media/DeTCTsPX4AIFxai.jpg\n",
      "DeTCTsPX4AIFxai.jpg\n",
      "http://pbs.twimg.com/media/EBRSGnnXUAAvcgv.jpg\n",
      "EBRSGnnXUAAvcgv.jpg\n",
      "http://pbs.twimg.com/media/DBllmq3XUAAjNCF.jpg\n",
      "DBllmq3XUAAjNCF.jpg\n",
      "http://pbs.twimg.com/media/DC2kRnrXkAAvxMi.jpg\n",
      "DC2kRnrXkAAvxMi.jpg\n",
      "http://pbs.twimg.com/media/DFGsW83XkAA6JDq.jpg\n",
      "DFGsW83XkAA6JDq.jpg\n",
      "http://pbs.twimg.com/media/DBU3zlWXYAQh896.jpg\n",
      "DBU3zlWXYAQh896.jpg\n",
      "http://pbs.twimg.com/media/EEArdaNW4AA55BU.jpg\n",
      "EEArdaNW4AA55BU.jpg\n",
      "http://pbs.twimg.com/media/DBoCR_KXoAUuDmw.jpg\n",
      "DBoCR_KXoAUuDmw.jpg\n",
      "http://pbs.twimg.com/media/DoQGxT6W0AAPred.png\n",
      "DoQGxT6W0AAPred.png\n",
      "http://pbs.twimg.com/media/D3LS_pJW0AEfsqW.jpg\n",
      "D3LS_pJW0AEfsqW.jpg\n",
      "http://pbs.twimg.com/media/Dt_wsuRW0AE77ze.jpg\n",
      "Dt_wsuRW0AE77ze.jpg\n",
      "http://pbs.twimg.com/media/DIj5LQOWsAAHbm1.jpg\n",
      "DIj5LQOWsAAHbm1.jpg\n",
      "http://pbs.twimg.com/media/DGzi-Q-XkAQNrqP.jpg\n",
      "DGzi-Q-XkAQNrqP.jpg\n"
     ]
    }
   ],
   "source": [
    "for media_file in media_files:\n",
    "#     wget.download(media_file)\n",
    "    print(media_file)\n",
    "    file_name = media_file.split('/')[-1]\n",
    "    print(file_name)\n",
    "    urllib.request.urlretrieve(media_file, 'scraped_images/' + file_name)"
   ]
  },
  {
   "cell_type": "code",
   "execution_count": 15,
   "metadata": {},
   "outputs": [
    {
     "name": "stdout",
     "output_type": "stream",
     "text": [
      "473\n"
     ]
    }
   ],
   "source": [
    "print(len(media_files))"
   ]
  },
  {
   "cell_type": "code",
   "execution_count": 33,
   "metadata": {},
   "outputs": [],
   "source": [
    "import glob\n",
    "\n",
    "images = glob.glob('./scraped_images/*.jpg')"
   ]
  },
  {
   "cell_type": "code",
   "execution_count": 34,
   "metadata": {},
   "outputs": [],
   "source": [
    "import numpy as np\n",
    "import tensorflow.keras as keras\n",
    "from tensorflow.keras.preprocessing import image\n",
    "from tensorflow.keras.applications.imagenet_utils import preprocess_input\n",
    "from tensorflow.keras.models import Model    "
   ]
  },
  {
   "cell_type": "code",
   "execution_count": 38,
   "metadata": {},
   "outputs": [
    {
     "name": "stdout",
     "output_type": "stream",
     "text": [
      "Model: \"model\"\n",
      "_________________________________________________________________\n",
      "Layer (type)                 Output Shape              Param #   \n",
      "=================================================================\n",
      "input_5 (InputLayer)         [(None, 224, 224, 3)]     0         \n",
      "_________________________________________________________________\n",
      "block1_conv1 (Conv2D)        (None, 224, 224, 64)      1792      \n",
      "_________________________________________________________________\n",
      "block1_conv2 (Conv2D)        (None, 224, 224, 64)      36928     \n",
      "_________________________________________________________________\n",
      "block1_pool (MaxPooling2D)   (None, 112, 112, 64)      0         \n",
      "_________________________________________________________________\n",
      "block2_conv1 (Conv2D)        (None, 112, 112, 128)     73856     \n",
      "_________________________________________________________________\n",
      "block2_conv2 (Conv2D)        (None, 112, 112, 128)     147584    \n",
      "_________________________________________________________________\n",
      "block2_pool (MaxPooling2D)   (None, 56, 56, 128)       0         \n",
      "_________________________________________________________________\n",
      "block3_conv1 (Conv2D)        (None, 56, 56, 256)       295168    \n",
      "_________________________________________________________________\n",
      "block3_conv2 (Conv2D)        (None, 56, 56, 256)       590080    \n",
      "_________________________________________________________________\n",
      "block3_conv3 (Conv2D)        (None, 56, 56, 256)       590080    \n",
      "_________________________________________________________________\n",
      "block3_pool (MaxPooling2D)   (None, 28, 28, 256)       0         \n",
      "_________________________________________________________________\n",
      "block4_conv1 (Conv2D)        (None, 28, 28, 512)       1180160   \n",
      "_________________________________________________________________\n",
      "block4_conv2 (Conv2D)        (None, 28, 28, 512)       2359808   \n",
      "_________________________________________________________________\n",
      "block4_conv3 (Conv2D)        (None, 28, 28, 512)       2359808   \n",
      "_________________________________________________________________\n",
      "block4_pool (MaxPooling2D)   (None, 14, 14, 512)       0         \n",
      "_________________________________________________________________\n",
      "block5_conv1 (Conv2D)        (None, 14, 14, 512)       2359808   \n",
      "_________________________________________________________________\n",
      "block5_conv2 (Conv2D)        (None, 14, 14, 512)       2359808   \n",
      "_________________________________________________________________\n",
      "block5_conv3 (Conv2D)        (None, 14, 14, 512)       2359808   \n",
      "_________________________________________________________________\n",
      "block5_pool (MaxPooling2D)   (None, 7, 7, 512)         0         \n",
      "_________________________________________________________________\n",
      "flatten (Flatten)            (None, 25088)             0         \n",
      "_________________________________________________________________\n",
      "fc1 (Dense)                  (None, 4096)              102764544 \n",
      "_________________________________________________________________\n",
      "fc2 (Dense)                  (None, 4096)              16781312  \n",
      "=================================================================\n",
      "Total params: 134,260,544\n",
      "Trainable params: 134,260,544\n",
      "Non-trainable params: 0\n",
      "_________________________________________________________________\n"
     ]
    }
   ],
   "source": [
    "# loading model\n",
    "model = keras.applications.VGG16(weights='imagenet', include_top=True)\n",
    "\n",
    "# Then we create another model, plugging the previous model's input into our \n",
    "# input, and grabbing the last layer before classification as the output.\n",
    "# These simply act as \"pointers\" to the original model\n",
    "\n",
    "feat_extractor = Model(inputs=model.input, outputs=model.get_layer(\"fc2\").output)\n",
    "feat_extractor.summary()"
   ]
  },
  {
   "cell_type": "code",
   "execution_count": 39,
   "metadata": {},
   "outputs": [
    {
     "name": "stdout",
     "output_type": "stream",
     "text": [
      "analyzed 0 out of 472\n",
      "analyzed 10 out of 472\n",
      "analyzed 20 out of 472\n",
      "analyzed 30 out of 472\n",
      "analyzed 40 out of 472\n",
      "analyzed 50 out of 472\n",
      "analyzed 60 out of 472\n",
      "analyzed 70 out of 472\n",
      "analyzed 80 out of 472\n",
      "analyzed 90 out of 472\n",
      "analyzed 100 out of 472\n",
      "analyzed 110 out of 472\n",
      "analyzed 120 out of 472\n",
      "analyzed 130 out of 472\n",
      "analyzed 140 out of 472\n",
      "analyzed 150 out of 472\n",
      "analyzed 160 out of 472\n",
      "analyzed 170 out of 472\n",
      "analyzed 180 out of 472\n",
      "analyzed 190 out of 472\n",
      "analyzed 200 out of 472\n",
      "analyzed 210 out of 472\n",
      "analyzed 220 out of 472\n",
      "analyzed 230 out of 472\n",
      "analyzed 240 out of 472\n",
      "analyzed 250 out of 472\n",
      "analyzed 260 out of 472\n",
      "analyzed 270 out of 472\n",
      "analyzed 280 out of 472\n",
      "analyzed 290 out of 472\n",
      "analyzed 300 out of 472\n",
      "analyzed 310 out of 472\n",
      "analyzed 320 out of 472\n",
      "analyzed 330 out of 472\n",
      "analyzed 340 out of 472\n",
      "analyzed 350 out of 472\n",
      "analyzed 360 out of 472\n",
      "analyzed 370 out of 472\n",
      "analyzed 380 out of 472\n",
      "analyzed 390 out of 472\n",
      "analyzed 400 out of 472\n",
      "analyzed 410 out of 472\n",
      "analyzed 420 out of 472\n",
      "analyzed 430 out of 472\n",
      "analyzed 440 out of 472\n",
      "analyzed 450 out of 472\n",
      "analyzed 460 out of 472\n",
      "analyzed 470 out of 472\n"
     ]
    }
   ],
   "source": [
    "features = []\n",
    "\n",
    "for i, image_path in enumerate(images):\n",
    "    if i % 10 == 0:\n",
    "        print('analyzed ' + str(i) + \" out of \" + str(len(images)))\n",
    "#     what is input shape??\n",
    "    img = image.load_img(image_path, target_size=model.input_shape[1:3])\n",
    "    x = image.img_to_array(img)\n",
    "    x = np.expand_dims(x, axis=0)\n",
    "    x = preprocess_input(x)\n",
    "    feat = feat_extractor.predict(x)[0]\n",
    "    features.append(feat)"
   ]
  },
  {
   "cell_type": "code",
   "execution_count": 40,
   "metadata": {},
   "outputs": [],
   "source": [
    "from sklearn.preprocessing import StandardScaler\n",
    "\n",
    "ss = StandardScaler()\n",
    "scaled = ss.fit_transform(features)"
   ]
  },
  {
   "cell_type": "code",
   "execution_count": 42,
   "metadata": {},
   "outputs": [
    {
     "name": "stdout",
     "output_type": "stream",
     "text": [
      "Calculating 1\n",
      "Calculating 2\n",
      "Calculating 3\n",
      "Calculating 4\n",
      "Calculating 5\n",
      "Calculating 6\n",
      "Calculating 7\n",
      "Calculating 8\n",
      "Calculating 9\n",
      "Calculating 10\n",
      "Calculating 11\n",
      "Calculating 12\n",
      "Calculating 13\n",
      "Calculating 14\n",
      "Calculating 15\n",
      "Calculating 16\n",
      "Calculating 17\n",
      "Calculating 18\n",
      "Calculating 19\n",
      "Calculating 20\n",
      "Calculating 21\n",
      "Calculating 22\n",
      "Calculating 23\n",
      "Calculating 24\n",
      "Calculating 25\n",
      "Calculating 26\n",
      "Calculating 27\n",
      "Calculating 28\n",
      "Calculating 29\n",
      "Calculating 30\n",
      "Calculating 31\n",
      "Calculating 32\n",
      "Calculating 33\n",
      "Calculating 34\n",
      "Calculating 35\n",
      "Calculating 36\n",
      "Calculating 37\n",
      "Calculating 38\n",
      "Calculating 39\n",
      "Calculating 40\n",
      "Calculating 41\n",
      "Calculating 42\n",
      "Calculating 43\n",
      "Calculating 44\n",
      "Calculating 45\n",
      "Calculating 46\n",
      "Calculating 47\n",
      "Calculating 48\n",
      "Calculating 49\n",
      "Calculating 50\n",
      "Calculating 51\n",
      "Calculating 52\n",
      "Calculating 53\n",
      "Calculating 54\n",
      "Calculating 55\n",
      "Calculating 56\n",
      "Calculating 57\n",
      "Calculating 58\n",
      "Calculating 59\n",
      "Calculating 60\n",
      "Calculating 61\n",
      "Calculating 62\n",
      "Calculating 63\n",
      "Calculating 64\n",
      "Calculating 65\n",
      "Calculating 66\n",
      "Calculating 67\n",
      "Calculating 68\n",
      "Calculating 69\n",
      "Calculating 70\n",
      "Calculating 71\n",
      "Calculating 72\n",
      "Calculating 73\n",
      "Calculating 74\n",
      "Calculating 75\n",
      "Calculating 76\n",
      "Calculating 77\n",
      "Calculating 78\n",
      "Calculating 79\n",
      "Calculating 80\n",
      "Calculating 81\n",
      "Calculating 82\n",
      "Calculating 83\n",
      "Calculating 84\n",
      "Calculating 85\n",
      "Calculating 86\n",
      "Calculating 87\n",
      "Calculating 88\n",
      "Calculating 89\n",
      "Calculating 90\n",
      "Calculating 91\n",
      "Calculating 92\n",
      "Calculating 93\n",
      "Calculating 94\n",
      "Calculating 95\n",
      "Calculating 96\n",
      "Calculating 97\n",
      "Calculating 98\n",
      "Calculating 99\n",
      "Calculating 100\n",
      "Calculating 101\n",
      "Calculating 102\n",
      "Calculating 103\n",
      "Calculating 104\n",
      "Calculating 105\n",
      "Calculating 106\n",
      "Calculating 107\n",
      "Calculating 108\n",
      "Calculating 109\n",
      "Calculating 110\n",
      "Calculating 111\n",
      "Calculating 112\n",
      "Calculating 113\n",
      "Calculating 114\n",
      "Calculating 115\n",
      "Calculating 116\n",
      "Calculating 117\n",
      "Calculating 118\n",
      "Calculating 119\n",
      "Calculating 120\n",
      "Calculating 121\n",
      "Calculating 122\n",
      "Calculating 123\n",
      "Calculating 124\n",
      "Calculating 125\n",
      "Calculating 126\n",
      "Calculating 127\n",
      "Calculating 128\n",
      "Calculating 129\n",
      "Calculating 130\n",
      "Calculating 131\n",
      "Calculating 132\n",
      "Calculating 133\n",
      "Calculating 134\n",
      "Calculating 135\n",
      "Calculating 136\n",
      "Calculating 137\n",
      "Calculating 138\n",
      "Calculating 139\n",
      "Calculating 140\n",
      "Calculating 141\n",
      "Calculating 142\n",
      "Calculating 143\n",
      "Calculating 144\n",
      "Calculating 145\n",
      "Calculating 146\n",
      "Calculating 147\n",
      "Calculating 148\n",
      "Calculating 149\n",
      "Calculating 150\n",
      "Calculating 151\n",
      "Calculating 152\n",
      "Calculating 153\n",
      "Calculating 154\n",
      "Calculating 155\n",
      "Calculating 156\n",
      "Calculating 157\n",
      "Calculating 158\n",
      "Calculating 159\n",
      "Calculating 160\n",
      "Calculating 161\n",
      "Calculating 162\n",
      "Calculating 163\n",
      "Calculating 164\n",
      "Calculating 165\n",
      "Calculating 166\n",
      "Calculating 167\n",
      "Calculating 168\n",
      "Calculating 169\n",
      "Calculating 170\n",
      "Calculating 171\n",
      "Calculating 172\n",
      "Calculating 173\n",
      "Calculating 174\n",
      "Calculating 175\n",
      "Calculating 176\n",
      "Calculating 177\n",
      "Calculating 178\n",
      "Calculating 179\n",
      "Calculating 180\n",
      "Calculating 181\n",
      "Calculating 182\n",
      "Calculating 183\n",
      "Calculating 184\n",
      "Calculating 185\n",
      "Calculating 186\n",
      "Calculating 187\n",
      "Calculating 188\n",
      "Calculating 189\n",
      "Calculating 190\n",
      "Calculating 191\n",
      "Calculating 192\n",
      "Calculating 193\n",
      "Calculating 194\n",
      "Calculating 195\n",
      "Calculating 196\n",
      "Calculating 197\n",
      "Calculating 198\n",
      "Calculating 199\n",
      "Calculating 200\n",
      "Calculating 201\n",
      "Calculating 202\n",
      "Calculating 203\n",
      "Calculating 204\n",
      "Calculating 205\n",
      "Calculating 206\n",
      "Calculating 207\n",
      "Calculating 208\n",
      "Calculating 209\n",
      "Calculating 210\n",
      "Calculating 211\n",
      "Calculating 212\n",
      "Calculating 213\n",
      "Calculating 214\n",
      "Calculating 215\n",
      "Calculating 216\n",
      "Calculating 217\n",
      "Calculating 218\n",
      "Calculating 219\n",
      "Calculating 220\n",
      "Calculating 221\n",
      "Calculating 222\n",
      "Calculating 223\n",
      "Calculating 224\n",
      "Calculating 225\n",
      "Calculating 226\n",
      "Calculating 227\n",
      "Calculating 228\n",
      "Calculating 229\n",
      "Calculating 230\n",
      "Calculating 231\n",
      "Calculating 232\n",
      "Calculating 233\n",
      "Calculating 234\n",
      "Calculating 235\n",
      "Calculating 236\n",
      "Calculating 237\n",
      "Calculating 238\n",
      "Calculating 239\n",
      "Calculating 240\n",
      "Calculating 241\n",
      "Calculating 242\n",
      "Calculating 243\n",
      "Calculating 244\n",
      "Calculating 245\n",
      "Calculating 246\n",
      "Calculating 247\n",
      "Calculating 248\n",
      "Calculating 249\n",
      "Calculating 250\n",
      "Calculating 251\n",
      "Calculating 252\n",
      "Calculating 253\n",
      "Calculating 254\n",
      "Calculating 255\n",
      "Calculating 256\n",
      "Calculating 257\n",
      "Calculating 258\n",
      "Calculating 259\n",
      "Calculating 260\n",
      "Calculating 261\n",
      "Calculating 262\n",
      "Calculating 263\n",
      "Calculating 264\n",
      "Calculating 265\n",
      "Calculating 266\n",
      "Calculating 267\n",
      "Calculating 268\n",
      "Calculating 269\n",
      "Calculating 270\n",
      "Calculating 271\n",
      "Calculating 272\n",
      "Calculating 273\n",
      "Calculating 274\n",
      "Calculating 275\n",
      "Calculating 276\n",
      "Calculating 277\n",
      "Calculating 278\n",
      "Calculating 279\n",
      "Calculating 280\n",
      "Calculating 281\n",
      "Calculating 282\n",
      "Calculating 283\n",
      "Calculating 284\n",
      "Calculating 285\n",
      "Calculating 286\n",
      "Calculating 287\n",
      "Calculating 288\n",
      "Calculating 289\n",
      "Calculating 290\n",
      "Calculating 291\n",
      "Calculating 292\n",
      "Calculating 293\n",
      "Calculating 294\n",
      "Calculating 295\n",
      "Calculating 296\n",
      "Calculating 297\n",
      "Calculating 298\n",
      "Calculating 299\n",
      "Calculating 300\n",
      "Calculating 301\n"
     ]
    },
    {
     "name": "stderr",
     "output_type": "stream",
     "text": [
      "/usr/local/lib/python3.7/site-packages/sklearn/cluster/k_means_.py:1561: RuntimeWarning: init_size=300 should be larger than k=301. Setting it to 3*k\n",
      "  init_size=init_size)\n",
      "/usr/local/lib/python3.7/site-packages/sklearn/cluster/k_means_.py:1561: RuntimeWarning: init_size=300 should be larger than k=301. Setting it to 3*k\n",
      "  init_size=init_size)\n",
      "/usr/local/lib/python3.7/site-packages/sklearn/cluster/k_means_.py:1561: RuntimeWarning: init_size=300 should be larger than k=301. Setting it to 3*k\n",
      "  init_size=init_size)\n"
     ]
    },
    {
     "name": "stdout",
     "output_type": "stream",
     "text": [
      "Calculating 302\n"
     ]
    },
    {
     "name": "stderr",
     "output_type": "stream",
     "text": [
      "/usr/local/lib/python3.7/site-packages/sklearn/cluster/k_means_.py:1561: RuntimeWarning: init_size=300 should be larger than k=302. Setting it to 3*k\n",
      "  init_size=init_size)\n",
      "/usr/local/lib/python3.7/site-packages/sklearn/cluster/k_means_.py:1561: RuntimeWarning: init_size=300 should be larger than k=302. Setting it to 3*k\n",
      "  init_size=init_size)\n",
      "/usr/local/lib/python3.7/site-packages/sklearn/cluster/k_means_.py:1561: RuntimeWarning: init_size=300 should be larger than k=302. Setting it to 3*k\n",
      "  init_size=init_size)\n"
     ]
    },
    {
     "name": "stdout",
     "output_type": "stream",
     "text": [
      "Calculating 303\n"
     ]
    },
    {
     "name": "stderr",
     "output_type": "stream",
     "text": [
      "/usr/local/lib/python3.7/site-packages/sklearn/cluster/k_means_.py:1561: RuntimeWarning: init_size=300 should be larger than k=303. Setting it to 3*k\n",
      "  init_size=init_size)\n",
      "/usr/local/lib/python3.7/site-packages/sklearn/cluster/k_means_.py:1561: RuntimeWarning: init_size=300 should be larger than k=303. Setting it to 3*k\n",
      "  init_size=init_size)\n",
      "/usr/local/lib/python3.7/site-packages/sklearn/cluster/k_means_.py:1561: RuntimeWarning: init_size=300 should be larger than k=303. Setting it to 3*k\n",
      "  init_size=init_size)\n"
     ]
    },
    {
     "name": "stdout",
     "output_type": "stream",
     "text": [
      "Calculating 304\n"
     ]
    },
    {
     "name": "stderr",
     "output_type": "stream",
     "text": [
      "/usr/local/lib/python3.7/site-packages/sklearn/cluster/k_means_.py:1561: RuntimeWarning: init_size=300 should be larger than k=304. Setting it to 3*k\n",
      "  init_size=init_size)\n",
      "/usr/local/lib/python3.7/site-packages/sklearn/cluster/k_means_.py:1561: RuntimeWarning: init_size=300 should be larger than k=304. Setting it to 3*k\n",
      "  init_size=init_size)\n",
      "/usr/local/lib/python3.7/site-packages/sklearn/cluster/k_means_.py:1561: RuntimeWarning: init_size=300 should be larger than k=304. Setting it to 3*k\n",
      "  init_size=init_size)\n"
     ]
    },
    {
     "name": "stdout",
     "output_type": "stream",
     "text": [
      "Calculating 305\n"
     ]
    },
    {
     "name": "stderr",
     "output_type": "stream",
     "text": [
      "/usr/local/lib/python3.7/site-packages/sklearn/cluster/k_means_.py:1561: RuntimeWarning: init_size=300 should be larger than k=305. Setting it to 3*k\n",
      "  init_size=init_size)\n",
      "/usr/local/lib/python3.7/site-packages/sklearn/cluster/k_means_.py:1561: RuntimeWarning: init_size=300 should be larger than k=305. Setting it to 3*k\n",
      "  init_size=init_size)\n",
      "/usr/local/lib/python3.7/site-packages/sklearn/cluster/k_means_.py:1561: RuntimeWarning: init_size=300 should be larger than k=305. Setting it to 3*k\n",
      "  init_size=init_size)\n"
     ]
    },
    {
     "name": "stdout",
     "output_type": "stream",
     "text": [
      "Calculating 306\n"
     ]
    },
    {
     "name": "stderr",
     "output_type": "stream",
     "text": [
      "/usr/local/lib/python3.7/site-packages/sklearn/cluster/k_means_.py:1561: RuntimeWarning: init_size=300 should be larger than k=306. Setting it to 3*k\n",
      "  init_size=init_size)\n",
      "/usr/local/lib/python3.7/site-packages/sklearn/cluster/k_means_.py:1561: RuntimeWarning: init_size=300 should be larger than k=306. Setting it to 3*k\n",
      "  init_size=init_size)\n",
      "/usr/local/lib/python3.7/site-packages/sklearn/cluster/k_means_.py:1561: RuntimeWarning: init_size=300 should be larger than k=306. Setting it to 3*k\n",
      "  init_size=init_size)\n"
     ]
    },
    {
     "name": "stdout",
     "output_type": "stream",
     "text": [
      "Calculating 307\n"
     ]
    },
    {
     "name": "stderr",
     "output_type": "stream",
     "text": [
      "/usr/local/lib/python3.7/site-packages/sklearn/cluster/k_means_.py:1561: RuntimeWarning: init_size=300 should be larger than k=307. Setting it to 3*k\n",
      "  init_size=init_size)\n",
      "/usr/local/lib/python3.7/site-packages/sklearn/cluster/k_means_.py:1561: RuntimeWarning: init_size=300 should be larger than k=307. Setting it to 3*k\n",
      "  init_size=init_size)\n",
      "/usr/local/lib/python3.7/site-packages/sklearn/cluster/k_means_.py:1561: RuntimeWarning: init_size=300 should be larger than k=307. Setting it to 3*k\n",
      "  init_size=init_size)\n"
     ]
    },
    {
     "name": "stdout",
     "output_type": "stream",
     "text": [
      "Calculating 308\n"
     ]
    },
    {
     "name": "stderr",
     "output_type": "stream",
     "text": [
      "/usr/local/lib/python3.7/site-packages/sklearn/cluster/k_means_.py:1561: RuntimeWarning: init_size=300 should be larger than k=308. Setting it to 3*k\n",
      "  init_size=init_size)\n",
      "/usr/local/lib/python3.7/site-packages/sklearn/cluster/k_means_.py:1561: RuntimeWarning: init_size=300 should be larger than k=308. Setting it to 3*k\n",
      "  init_size=init_size)\n",
      "/usr/local/lib/python3.7/site-packages/sklearn/cluster/k_means_.py:1561: RuntimeWarning: init_size=300 should be larger than k=308. Setting it to 3*k\n",
      "  init_size=init_size)\n"
     ]
    },
    {
     "name": "stdout",
     "output_type": "stream",
     "text": [
      "Calculating 309\n"
     ]
    },
    {
     "name": "stderr",
     "output_type": "stream",
     "text": [
      "/usr/local/lib/python3.7/site-packages/sklearn/cluster/k_means_.py:1561: RuntimeWarning: init_size=300 should be larger than k=309. Setting it to 3*k\n",
      "  init_size=init_size)\n",
      "/usr/local/lib/python3.7/site-packages/sklearn/cluster/k_means_.py:1561: RuntimeWarning: init_size=300 should be larger than k=309. Setting it to 3*k\n",
      "  init_size=init_size)\n",
      "/usr/local/lib/python3.7/site-packages/sklearn/cluster/k_means_.py:1561: RuntimeWarning: init_size=300 should be larger than k=309. Setting it to 3*k\n",
      "  init_size=init_size)\n"
     ]
    },
    {
     "name": "stdout",
     "output_type": "stream",
     "text": [
      "Calculating 310\n"
     ]
    },
    {
     "name": "stderr",
     "output_type": "stream",
     "text": [
      "/usr/local/lib/python3.7/site-packages/sklearn/cluster/k_means_.py:1561: RuntimeWarning: init_size=300 should be larger than k=310. Setting it to 3*k\n",
      "  init_size=init_size)\n",
      "/usr/local/lib/python3.7/site-packages/sklearn/cluster/k_means_.py:1561: RuntimeWarning: init_size=300 should be larger than k=310. Setting it to 3*k\n",
      "  init_size=init_size)\n",
      "/usr/local/lib/python3.7/site-packages/sklearn/cluster/k_means_.py:1561: RuntimeWarning: init_size=300 should be larger than k=310. Setting it to 3*k\n",
      "  init_size=init_size)\n"
     ]
    },
    {
     "name": "stdout",
     "output_type": "stream",
     "text": [
      "Calculating 311\n"
     ]
    },
    {
     "name": "stderr",
     "output_type": "stream",
     "text": [
      "/usr/local/lib/python3.7/site-packages/sklearn/cluster/k_means_.py:1561: RuntimeWarning: init_size=300 should be larger than k=311. Setting it to 3*k\n",
      "  init_size=init_size)\n",
      "/usr/local/lib/python3.7/site-packages/sklearn/cluster/k_means_.py:1561: RuntimeWarning: init_size=300 should be larger than k=311. Setting it to 3*k\n",
      "  init_size=init_size)\n",
      "/usr/local/lib/python3.7/site-packages/sklearn/cluster/k_means_.py:1561: RuntimeWarning: init_size=300 should be larger than k=311. Setting it to 3*k\n",
      "  init_size=init_size)\n"
     ]
    },
    {
     "name": "stdout",
     "output_type": "stream",
     "text": [
      "Calculating 312\n"
     ]
    },
    {
     "name": "stderr",
     "output_type": "stream",
     "text": [
      "/usr/local/lib/python3.7/site-packages/sklearn/cluster/k_means_.py:1561: RuntimeWarning: init_size=300 should be larger than k=312. Setting it to 3*k\n",
      "  init_size=init_size)\n",
      "/usr/local/lib/python3.7/site-packages/sklearn/cluster/k_means_.py:1561: RuntimeWarning: init_size=300 should be larger than k=312. Setting it to 3*k\n",
      "  init_size=init_size)\n",
      "/usr/local/lib/python3.7/site-packages/sklearn/cluster/k_means_.py:1561: RuntimeWarning: init_size=300 should be larger than k=312. Setting it to 3*k\n",
      "  init_size=init_size)\n"
     ]
    },
    {
     "name": "stdout",
     "output_type": "stream",
     "text": [
      "Calculating 313\n"
     ]
    },
    {
     "name": "stderr",
     "output_type": "stream",
     "text": [
      "/usr/local/lib/python3.7/site-packages/sklearn/cluster/k_means_.py:1561: RuntimeWarning: init_size=300 should be larger than k=313. Setting it to 3*k\n",
      "  init_size=init_size)\n",
      "/usr/local/lib/python3.7/site-packages/sklearn/cluster/k_means_.py:1561: RuntimeWarning: init_size=300 should be larger than k=313. Setting it to 3*k\n",
      "  init_size=init_size)\n",
      "/usr/local/lib/python3.7/site-packages/sklearn/cluster/k_means_.py:1561: RuntimeWarning: init_size=300 should be larger than k=313. Setting it to 3*k\n",
      "  init_size=init_size)\n"
     ]
    },
    {
     "name": "stdout",
     "output_type": "stream",
     "text": [
      "Calculating 314\n"
     ]
    },
    {
     "name": "stderr",
     "output_type": "stream",
     "text": [
      "/usr/local/lib/python3.7/site-packages/sklearn/cluster/k_means_.py:1561: RuntimeWarning: init_size=300 should be larger than k=314. Setting it to 3*k\n",
      "  init_size=init_size)\n",
      "/usr/local/lib/python3.7/site-packages/sklearn/cluster/k_means_.py:1561: RuntimeWarning: init_size=300 should be larger than k=314. Setting it to 3*k\n",
      "  init_size=init_size)\n",
      "/usr/local/lib/python3.7/site-packages/sklearn/cluster/k_means_.py:1561: RuntimeWarning: init_size=300 should be larger than k=314. Setting it to 3*k\n",
      "  init_size=init_size)\n"
     ]
    },
    {
     "name": "stdout",
     "output_type": "stream",
     "text": [
      "Calculating 315\n"
     ]
    },
    {
     "name": "stderr",
     "output_type": "stream",
     "text": [
      "/usr/local/lib/python3.7/site-packages/sklearn/cluster/k_means_.py:1561: RuntimeWarning: init_size=300 should be larger than k=315. Setting it to 3*k\n",
      "  init_size=init_size)\n",
      "/usr/local/lib/python3.7/site-packages/sklearn/cluster/k_means_.py:1561: RuntimeWarning: init_size=300 should be larger than k=315. Setting it to 3*k\n",
      "  init_size=init_size)\n",
      "/usr/local/lib/python3.7/site-packages/sklearn/cluster/k_means_.py:1561: RuntimeWarning: init_size=300 should be larger than k=315. Setting it to 3*k\n",
      "  init_size=init_size)\n"
     ]
    },
    {
     "name": "stdout",
     "output_type": "stream",
     "text": [
      "Calculating 316\n"
     ]
    },
    {
     "name": "stderr",
     "output_type": "stream",
     "text": [
      "/usr/local/lib/python3.7/site-packages/sklearn/cluster/k_means_.py:1561: RuntimeWarning: init_size=300 should be larger than k=316. Setting it to 3*k\n",
      "  init_size=init_size)\n",
      "/usr/local/lib/python3.7/site-packages/sklearn/cluster/k_means_.py:1561: RuntimeWarning: init_size=300 should be larger than k=316. Setting it to 3*k\n",
      "  init_size=init_size)\n",
      "/usr/local/lib/python3.7/site-packages/sklearn/cluster/k_means_.py:1561: RuntimeWarning: init_size=300 should be larger than k=316. Setting it to 3*k\n",
      "  init_size=init_size)\n"
     ]
    },
    {
     "name": "stdout",
     "output_type": "stream",
     "text": [
      "Calculating 317\n"
     ]
    },
    {
     "name": "stderr",
     "output_type": "stream",
     "text": [
      "/usr/local/lib/python3.7/site-packages/sklearn/cluster/k_means_.py:1561: RuntimeWarning: init_size=300 should be larger than k=317. Setting it to 3*k\n",
      "  init_size=init_size)\n",
      "/usr/local/lib/python3.7/site-packages/sklearn/cluster/k_means_.py:1561: RuntimeWarning: init_size=300 should be larger than k=317. Setting it to 3*k\n",
      "  init_size=init_size)\n",
      "/usr/local/lib/python3.7/site-packages/sklearn/cluster/k_means_.py:1561: RuntimeWarning: init_size=300 should be larger than k=317. Setting it to 3*k\n",
      "  init_size=init_size)\n"
     ]
    },
    {
     "name": "stdout",
     "output_type": "stream",
     "text": [
      "Calculating 318\n"
     ]
    },
    {
     "name": "stderr",
     "output_type": "stream",
     "text": [
      "/usr/local/lib/python3.7/site-packages/sklearn/cluster/k_means_.py:1561: RuntimeWarning: init_size=300 should be larger than k=318. Setting it to 3*k\n",
      "  init_size=init_size)\n",
      "/usr/local/lib/python3.7/site-packages/sklearn/cluster/k_means_.py:1561: RuntimeWarning: init_size=300 should be larger than k=318. Setting it to 3*k\n",
      "  init_size=init_size)\n",
      "/usr/local/lib/python3.7/site-packages/sklearn/cluster/k_means_.py:1561: RuntimeWarning: init_size=300 should be larger than k=318. Setting it to 3*k\n",
      "  init_size=init_size)\n"
     ]
    },
    {
     "name": "stdout",
     "output_type": "stream",
     "text": [
      "Calculating 319\n"
     ]
    },
    {
     "name": "stderr",
     "output_type": "stream",
     "text": [
      "/usr/local/lib/python3.7/site-packages/sklearn/cluster/k_means_.py:1561: RuntimeWarning: init_size=300 should be larger than k=319. Setting it to 3*k\n",
      "  init_size=init_size)\n",
      "/usr/local/lib/python3.7/site-packages/sklearn/cluster/k_means_.py:1561: RuntimeWarning: init_size=300 should be larger than k=319. Setting it to 3*k\n",
      "  init_size=init_size)\n",
      "/usr/local/lib/python3.7/site-packages/sklearn/cluster/k_means_.py:1561: RuntimeWarning: init_size=300 should be larger than k=319. Setting it to 3*k\n",
      "  init_size=init_size)\n"
     ]
    },
    {
     "name": "stdout",
     "output_type": "stream",
     "text": [
      "Calculating 320\n"
     ]
    },
    {
     "name": "stderr",
     "output_type": "stream",
     "text": [
      "/usr/local/lib/python3.7/site-packages/sklearn/cluster/k_means_.py:1561: RuntimeWarning: init_size=300 should be larger than k=320. Setting it to 3*k\n",
      "  init_size=init_size)\n",
      "/usr/local/lib/python3.7/site-packages/sklearn/cluster/k_means_.py:1561: RuntimeWarning: init_size=300 should be larger than k=320. Setting it to 3*k\n",
      "  init_size=init_size)\n",
      "/usr/local/lib/python3.7/site-packages/sklearn/cluster/k_means_.py:1561: RuntimeWarning: init_size=300 should be larger than k=320. Setting it to 3*k\n",
      "  init_size=init_size)\n"
     ]
    },
    {
     "name": "stdout",
     "output_type": "stream",
     "text": [
      "Calculating 321\n"
     ]
    },
    {
     "name": "stderr",
     "output_type": "stream",
     "text": [
      "/usr/local/lib/python3.7/site-packages/sklearn/cluster/k_means_.py:1561: RuntimeWarning: init_size=300 should be larger than k=321. Setting it to 3*k\n",
      "  init_size=init_size)\n",
      "/usr/local/lib/python3.7/site-packages/sklearn/cluster/k_means_.py:1561: RuntimeWarning: init_size=300 should be larger than k=321. Setting it to 3*k\n",
      "  init_size=init_size)\n",
      "/usr/local/lib/python3.7/site-packages/sklearn/cluster/k_means_.py:1561: RuntimeWarning: init_size=300 should be larger than k=321. Setting it to 3*k\n",
      "  init_size=init_size)\n"
     ]
    },
    {
     "name": "stdout",
     "output_type": "stream",
     "text": [
      "Calculating 322\n"
     ]
    },
    {
     "name": "stderr",
     "output_type": "stream",
     "text": [
      "/usr/local/lib/python3.7/site-packages/sklearn/cluster/k_means_.py:1561: RuntimeWarning: init_size=300 should be larger than k=322. Setting it to 3*k\n",
      "  init_size=init_size)\n",
      "/usr/local/lib/python3.7/site-packages/sklearn/cluster/k_means_.py:1561: RuntimeWarning: init_size=300 should be larger than k=322. Setting it to 3*k\n",
      "  init_size=init_size)\n",
      "/usr/local/lib/python3.7/site-packages/sklearn/cluster/k_means_.py:1561: RuntimeWarning: init_size=300 should be larger than k=322. Setting it to 3*k\n",
      "  init_size=init_size)\n"
     ]
    },
    {
     "name": "stdout",
     "output_type": "stream",
     "text": [
      "Calculating 323\n"
     ]
    },
    {
     "name": "stderr",
     "output_type": "stream",
     "text": [
      "/usr/local/lib/python3.7/site-packages/sklearn/cluster/k_means_.py:1561: RuntimeWarning: init_size=300 should be larger than k=323. Setting it to 3*k\n",
      "  init_size=init_size)\n",
      "/usr/local/lib/python3.7/site-packages/sklearn/cluster/k_means_.py:1561: RuntimeWarning: init_size=300 should be larger than k=323. Setting it to 3*k\n",
      "  init_size=init_size)\n",
      "/usr/local/lib/python3.7/site-packages/sklearn/cluster/k_means_.py:1561: RuntimeWarning: init_size=300 should be larger than k=323. Setting it to 3*k\n",
      "  init_size=init_size)\n"
     ]
    },
    {
     "name": "stdout",
     "output_type": "stream",
     "text": [
      "Calculating 324\n"
     ]
    },
    {
     "name": "stderr",
     "output_type": "stream",
     "text": [
      "/usr/local/lib/python3.7/site-packages/sklearn/cluster/k_means_.py:1561: RuntimeWarning: init_size=300 should be larger than k=324. Setting it to 3*k\n",
      "  init_size=init_size)\n",
      "/usr/local/lib/python3.7/site-packages/sklearn/cluster/k_means_.py:1561: RuntimeWarning: init_size=300 should be larger than k=324. Setting it to 3*k\n",
      "  init_size=init_size)\n",
      "/usr/local/lib/python3.7/site-packages/sklearn/cluster/k_means_.py:1561: RuntimeWarning: init_size=300 should be larger than k=324. Setting it to 3*k\n",
      "  init_size=init_size)\n"
     ]
    },
    {
     "name": "stdout",
     "output_type": "stream",
     "text": [
      "Calculating 325\n"
     ]
    },
    {
     "name": "stderr",
     "output_type": "stream",
     "text": [
      "/usr/local/lib/python3.7/site-packages/sklearn/cluster/k_means_.py:1561: RuntimeWarning: init_size=300 should be larger than k=325. Setting it to 3*k\n",
      "  init_size=init_size)\n",
      "/usr/local/lib/python3.7/site-packages/sklearn/cluster/k_means_.py:1561: RuntimeWarning: init_size=300 should be larger than k=325. Setting it to 3*k\n",
      "  init_size=init_size)\n",
      "/usr/local/lib/python3.7/site-packages/sklearn/cluster/k_means_.py:1561: RuntimeWarning: init_size=300 should be larger than k=325. Setting it to 3*k\n",
      "  init_size=init_size)\n"
     ]
    },
    {
     "name": "stdout",
     "output_type": "stream",
     "text": [
      "Calculating 326\n"
     ]
    },
    {
     "name": "stderr",
     "output_type": "stream",
     "text": [
      "/usr/local/lib/python3.7/site-packages/sklearn/cluster/k_means_.py:1561: RuntimeWarning: init_size=300 should be larger than k=326. Setting it to 3*k\n",
      "  init_size=init_size)\n",
      "/usr/local/lib/python3.7/site-packages/sklearn/cluster/k_means_.py:1561: RuntimeWarning: init_size=300 should be larger than k=326. Setting it to 3*k\n",
      "  init_size=init_size)\n",
      "/usr/local/lib/python3.7/site-packages/sklearn/cluster/k_means_.py:1561: RuntimeWarning: init_size=300 should be larger than k=326. Setting it to 3*k\n",
      "  init_size=init_size)\n"
     ]
    },
    {
     "name": "stdout",
     "output_type": "stream",
     "text": [
      "Calculating 327\n"
     ]
    },
    {
     "name": "stderr",
     "output_type": "stream",
     "text": [
      "/usr/local/lib/python3.7/site-packages/sklearn/cluster/k_means_.py:1561: RuntimeWarning: init_size=300 should be larger than k=327. Setting it to 3*k\n",
      "  init_size=init_size)\n",
      "/usr/local/lib/python3.7/site-packages/sklearn/cluster/k_means_.py:1561: RuntimeWarning: init_size=300 should be larger than k=327. Setting it to 3*k\n",
      "  init_size=init_size)\n",
      "/usr/local/lib/python3.7/site-packages/sklearn/cluster/k_means_.py:1561: RuntimeWarning: init_size=300 should be larger than k=327. Setting it to 3*k\n",
      "  init_size=init_size)\n"
     ]
    },
    {
     "name": "stdout",
     "output_type": "stream",
     "text": [
      "Calculating 328\n"
     ]
    },
    {
     "name": "stderr",
     "output_type": "stream",
     "text": [
      "/usr/local/lib/python3.7/site-packages/sklearn/cluster/k_means_.py:1561: RuntimeWarning: init_size=300 should be larger than k=328. Setting it to 3*k\n",
      "  init_size=init_size)\n",
      "/usr/local/lib/python3.7/site-packages/sklearn/cluster/k_means_.py:1561: RuntimeWarning: init_size=300 should be larger than k=328. Setting it to 3*k\n",
      "  init_size=init_size)\n",
      "/usr/local/lib/python3.7/site-packages/sklearn/cluster/k_means_.py:1561: RuntimeWarning: init_size=300 should be larger than k=328. Setting it to 3*k\n",
      "  init_size=init_size)\n"
     ]
    },
    {
     "name": "stdout",
     "output_type": "stream",
     "text": [
      "Calculating 329\n"
     ]
    },
    {
     "name": "stderr",
     "output_type": "stream",
     "text": [
      "/usr/local/lib/python3.7/site-packages/sklearn/cluster/k_means_.py:1561: RuntimeWarning: init_size=300 should be larger than k=329. Setting it to 3*k\n",
      "  init_size=init_size)\n",
      "/usr/local/lib/python3.7/site-packages/sklearn/cluster/k_means_.py:1561: RuntimeWarning: init_size=300 should be larger than k=329. Setting it to 3*k\n",
      "  init_size=init_size)\n",
      "/usr/local/lib/python3.7/site-packages/sklearn/cluster/k_means_.py:1561: RuntimeWarning: init_size=300 should be larger than k=329. Setting it to 3*k\n",
      "  init_size=init_size)\n"
     ]
    },
    {
     "name": "stdout",
     "output_type": "stream",
     "text": [
      "Calculating 330\n"
     ]
    },
    {
     "name": "stderr",
     "output_type": "stream",
     "text": [
      "/usr/local/lib/python3.7/site-packages/sklearn/cluster/k_means_.py:1561: RuntimeWarning: init_size=300 should be larger than k=330. Setting it to 3*k\n",
      "  init_size=init_size)\n",
      "/usr/local/lib/python3.7/site-packages/sklearn/cluster/k_means_.py:1561: RuntimeWarning: init_size=300 should be larger than k=330. Setting it to 3*k\n",
      "  init_size=init_size)\n",
      "/usr/local/lib/python3.7/site-packages/sklearn/cluster/k_means_.py:1561: RuntimeWarning: init_size=300 should be larger than k=330. Setting it to 3*k\n",
      "  init_size=init_size)\n"
     ]
    },
    {
     "name": "stdout",
     "output_type": "stream",
     "text": [
      "Calculating 331\n"
     ]
    },
    {
     "name": "stderr",
     "output_type": "stream",
     "text": [
      "/usr/local/lib/python3.7/site-packages/sklearn/cluster/k_means_.py:1561: RuntimeWarning: init_size=300 should be larger than k=331. Setting it to 3*k\n",
      "  init_size=init_size)\n",
      "/usr/local/lib/python3.7/site-packages/sklearn/cluster/k_means_.py:1561: RuntimeWarning: init_size=300 should be larger than k=331. Setting it to 3*k\n",
      "  init_size=init_size)\n",
      "/usr/local/lib/python3.7/site-packages/sklearn/cluster/k_means_.py:1561: RuntimeWarning: init_size=300 should be larger than k=331. Setting it to 3*k\n",
      "  init_size=init_size)\n"
     ]
    },
    {
     "name": "stdout",
     "output_type": "stream",
     "text": [
      "Calculating 332\n"
     ]
    },
    {
     "name": "stderr",
     "output_type": "stream",
     "text": [
      "/usr/local/lib/python3.7/site-packages/sklearn/cluster/k_means_.py:1561: RuntimeWarning: init_size=300 should be larger than k=332. Setting it to 3*k\n",
      "  init_size=init_size)\n",
      "/usr/local/lib/python3.7/site-packages/sklearn/cluster/k_means_.py:1561: RuntimeWarning: init_size=300 should be larger than k=332. Setting it to 3*k\n",
      "  init_size=init_size)\n",
      "/usr/local/lib/python3.7/site-packages/sklearn/cluster/k_means_.py:1561: RuntimeWarning: init_size=300 should be larger than k=332. Setting it to 3*k\n",
      "  init_size=init_size)\n"
     ]
    },
    {
     "name": "stdout",
     "output_type": "stream",
     "text": [
      "Calculating 333\n"
     ]
    },
    {
     "name": "stderr",
     "output_type": "stream",
     "text": [
      "/usr/local/lib/python3.7/site-packages/sklearn/cluster/k_means_.py:1561: RuntimeWarning: init_size=300 should be larger than k=333. Setting it to 3*k\n",
      "  init_size=init_size)\n",
      "/usr/local/lib/python3.7/site-packages/sklearn/cluster/k_means_.py:1561: RuntimeWarning: init_size=300 should be larger than k=333. Setting it to 3*k\n",
      "  init_size=init_size)\n",
      "/usr/local/lib/python3.7/site-packages/sklearn/cluster/k_means_.py:1561: RuntimeWarning: init_size=300 should be larger than k=333. Setting it to 3*k\n",
      "  init_size=init_size)\n"
     ]
    },
    {
     "name": "stdout",
     "output_type": "stream",
     "text": [
      "Calculating 334\n"
     ]
    },
    {
     "name": "stderr",
     "output_type": "stream",
     "text": [
      "/usr/local/lib/python3.7/site-packages/sklearn/cluster/k_means_.py:1561: RuntimeWarning: init_size=300 should be larger than k=334. Setting it to 3*k\n",
      "  init_size=init_size)\n",
      "/usr/local/lib/python3.7/site-packages/sklearn/cluster/k_means_.py:1561: RuntimeWarning: init_size=300 should be larger than k=334. Setting it to 3*k\n",
      "  init_size=init_size)\n",
      "/usr/local/lib/python3.7/site-packages/sklearn/cluster/k_means_.py:1561: RuntimeWarning: init_size=300 should be larger than k=334. Setting it to 3*k\n",
      "  init_size=init_size)\n"
     ]
    },
    {
     "name": "stdout",
     "output_type": "stream",
     "text": [
      "Calculating 335\n"
     ]
    },
    {
     "name": "stderr",
     "output_type": "stream",
     "text": [
      "/usr/local/lib/python3.7/site-packages/sklearn/cluster/k_means_.py:1561: RuntimeWarning: init_size=300 should be larger than k=335. Setting it to 3*k\n",
      "  init_size=init_size)\n",
      "/usr/local/lib/python3.7/site-packages/sklearn/cluster/k_means_.py:1561: RuntimeWarning: init_size=300 should be larger than k=335. Setting it to 3*k\n",
      "  init_size=init_size)\n",
      "/usr/local/lib/python3.7/site-packages/sklearn/cluster/k_means_.py:1561: RuntimeWarning: init_size=300 should be larger than k=335. Setting it to 3*k\n",
      "  init_size=init_size)\n"
     ]
    },
    {
     "name": "stdout",
     "output_type": "stream",
     "text": [
      "Calculating 336\n"
     ]
    },
    {
     "name": "stderr",
     "output_type": "stream",
     "text": [
      "/usr/local/lib/python3.7/site-packages/sklearn/cluster/k_means_.py:1561: RuntimeWarning: init_size=300 should be larger than k=336. Setting it to 3*k\n",
      "  init_size=init_size)\n",
      "/usr/local/lib/python3.7/site-packages/sklearn/cluster/k_means_.py:1561: RuntimeWarning: init_size=300 should be larger than k=336. Setting it to 3*k\n",
      "  init_size=init_size)\n",
      "/usr/local/lib/python3.7/site-packages/sklearn/cluster/k_means_.py:1561: RuntimeWarning: init_size=300 should be larger than k=336. Setting it to 3*k\n",
      "  init_size=init_size)\n"
     ]
    },
    {
     "name": "stdout",
     "output_type": "stream",
     "text": [
      "Calculating 337\n"
     ]
    },
    {
     "name": "stderr",
     "output_type": "stream",
     "text": [
      "/usr/local/lib/python3.7/site-packages/sklearn/cluster/k_means_.py:1561: RuntimeWarning: init_size=300 should be larger than k=337. Setting it to 3*k\n",
      "  init_size=init_size)\n",
      "/usr/local/lib/python3.7/site-packages/sklearn/cluster/k_means_.py:1561: RuntimeWarning: init_size=300 should be larger than k=337. Setting it to 3*k\n",
      "  init_size=init_size)\n",
      "/usr/local/lib/python3.7/site-packages/sklearn/cluster/k_means_.py:1561: RuntimeWarning: init_size=300 should be larger than k=337. Setting it to 3*k\n",
      "  init_size=init_size)\n"
     ]
    },
    {
     "name": "stdout",
     "output_type": "stream",
     "text": [
      "Calculating 338\n"
     ]
    },
    {
     "name": "stderr",
     "output_type": "stream",
     "text": [
      "/usr/local/lib/python3.7/site-packages/sklearn/cluster/k_means_.py:1561: RuntimeWarning: init_size=300 should be larger than k=338. Setting it to 3*k\n",
      "  init_size=init_size)\n",
      "/usr/local/lib/python3.7/site-packages/sklearn/cluster/k_means_.py:1561: RuntimeWarning: init_size=300 should be larger than k=338. Setting it to 3*k\n",
      "  init_size=init_size)\n",
      "/usr/local/lib/python3.7/site-packages/sklearn/cluster/k_means_.py:1561: RuntimeWarning: init_size=300 should be larger than k=338. Setting it to 3*k\n",
      "  init_size=init_size)\n"
     ]
    },
    {
     "name": "stdout",
     "output_type": "stream",
     "text": [
      "Calculating 339\n"
     ]
    },
    {
     "name": "stderr",
     "output_type": "stream",
     "text": [
      "/usr/local/lib/python3.7/site-packages/sklearn/cluster/k_means_.py:1561: RuntimeWarning: init_size=300 should be larger than k=339. Setting it to 3*k\n",
      "  init_size=init_size)\n",
      "/usr/local/lib/python3.7/site-packages/sklearn/cluster/k_means_.py:1561: RuntimeWarning: init_size=300 should be larger than k=339. Setting it to 3*k\n",
      "  init_size=init_size)\n",
      "/usr/local/lib/python3.7/site-packages/sklearn/cluster/k_means_.py:1561: RuntimeWarning: init_size=300 should be larger than k=339. Setting it to 3*k\n",
      "  init_size=init_size)\n"
     ]
    },
    {
     "name": "stdout",
     "output_type": "stream",
     "text": [
      "Calculating 340\n"
     ]
    },
    {
     "name": "stderr",
     "output_type": "stream",
     "text": [
      "/usr/local/lib/python3.7/site-packages/sklearn/cluster/k_means_.py:1561: RuntimeWarning: init_size=300 should be larger than k=340. Setting it to 3*k\n",
      "  init_size=init_size)\n",
      "/usr/local/lib/python3.7/site-packages/sklearn/cluster/k_means_.py:1561: RuntimeWarning: init_size=300 should be larger than k=340. Setting it to 3*k\n",
      "  init_size=init_size)\n",
      "/usr/local/lib/python3.7/site-packages/sklearn/cluster/k_means_.py:1561: RuntimeWarning: init_size=300 should be larger than k=340. Setting it to 3*k\n",
      "  init_size=init_size)\n"
     ]
    },
    {
     "name": "stdout",
     "output_type": "stream",
     "text": [
      "Calculating 341\n"
     ]
    },
    {
     "name": "stderr",
     "output_type": "stream",
     "text": [
      "/usr/local/lib/python3.7/site-packages/sklearn/cluster/k_means_.py:1561: RuntimeWarning: init_size=300 should be larger than k=341. Setting it to 3*k\n",
      "  init_size=init_size)\n",
      "/usr/local/lib/python3.7/site-packages/sklearn/cluster/k_means_.py:1561: RuntimeWarning: init_size=300 should be larger than k=341. Setting it to 3*k\n",
      "  init_size=init_size)\n",
      "/usr/local/lib/python3.7/site-packages/sklearn/cluster/k_means_.py:1561: RuntimeWarning: init_size=300 should be larger than k=341. Setting it to 3*k\n",
      "  init_size=init_size)\n"
     ]
    },
    {
     "name": "stdout",
     "output_type": "stream",
     "text": [
      "Calculating 342\n"
     ]
    },
    {
     "name": "stderr",
     "output_type": "stream",
     "text": [
      "/usr/local/lib/python3.7/site-packages/sklearn/cluster/k_means_.py:1561: RuntimeWarning: init_size=300 should be larger than k=342. Setting it to 3*k\n",
      "  init_size=init_size)\n",
      "/usr/local/lib/python3.7/site-packages/sklearn/cluster/k_means_.py:1561: RuntimeWarning: init_size=300 should be larger than k=342. Setting it to 3*k\n",
      "  init_size=init_size)\n",
      "/usr/local/lib/python3.7/site-packages/sklearn/cluster/k_means_.py:1561: RuntimeWarning: init_size=300 should be larger than k=342. Setting it to 3*k\n",
      "  init_size=init_size)\n"
     ]
    },
    {
     "name": "stdout",
     "output_type": "stream",
     "text": [
      "Calculating 343\n"
     ]
    },
    {
     "name": "stderr",
     "output_type": "stream",
     "text": [
      "/usr/local/lib/python3.7/site-packages/sklearn/cluster/k_means_.py:1561: RuntimeWarning: init_size=300 should be larger than k=343. Setting it to 3*k\n",
      "  init_size=init_size)\n",
      "/usr/local/lib/python3.7/site-packages/sklearn/cluster/k_means_.py:1561: RuntimeWarning: init_size=300 should be larger than k=343. Setting it to 3*k\n",
      "  init_size=init_size)\n",
      "/usr/local/lib/python3.7/site-packages/sklearn/cluster/k_means_.py:1561: RuntimeWarning: init_size=300 should be larger than k=343. Setting it to 3*k\n",
      "  init_size=init_size)\n"
     ]
    },
    {
     "name": "stdout",
     "output_type": "stream",
     "text": [
      "Calculating 344\n"
     ]
    },
    {
     "name": "stderr",
     "output_type": "stream",
     "text": [
      "/usr/local/lib/python3.7/site-packages/sklearn/cluster/k_means_.py:1561: RuntimeWarning: init_size=300 should be larger than k=344. Setting it to 3*k\n",
      "  init_size=init_size)\n",
      "/usr/local/lib/python3.7/site-packages/sklearn/cluster/k_means_.py:1561: RuntimeWarning: init_size=300 should be larger than k=344. Setting it to 3*k\n",
      "  init_size=init_size)\n",
      "/usr/local/lib/python3.7/site-packages/sklearn/cluster/k_means_.py:1561: RuntimeWarning: init_size=300 should be larger than k=344. Setting it to 3*k\n",
      "  init_size=init_size)\n"
     ]
    },
    {
     "name": "stdout",
     "output_type": "stream",
     "text": [
      "Calculating 345\n"
     ]
    },
    {
     "name": "stderr",
     "output_type": "stream",
     "text": [
      "/usr/local/lib/python3.7/site-packages/sklearn/cluster/k_means_.py:1561: RuntimeWarning: init_size=300 should be larger than k=345. Setting it to 3*k\n",
      "  init_size=init_size)\n",
      "/usr/local/lib/python3.7/site-packages/sklearn/cluster/k_means_.py:1561: RuntimeWarning: init_size=300 should be larger than k=345. Setting it to 3*k\n",
      "  init_size=init_size)\n",
      "/usr/local/lib/python3.7/site-packages/sklearn/cluster/k_means_.py:1561: RuntimeWarning: init_size=300 should be larger than k=345. Setting it to 3*k\n",
      "  init_size=init_size)\n"
     ]
    },
    {
     "name": "stdout",
     "output_type": "stream",
     "text": [
      "Calculating 346\n"
     ]
    },
    {
     "name": "stderr",
     "output_type": "stream",
     "text": [
      "/usr/local/lib/python3.7/site-packages/sklearn/cluster/k_means_.py:1561: RuntimeWarning: init_size=300 should be larger than k=346. Setting it to 3*k\n",
      "  init_size=init_size)\n",
      "/usr/local/lib/python3.7/site-packages/sklearn/cluster/k_means_.py:1561: RuntimeWarning: init_size=300 should be larger than k=346. Setting it to 3*k\n",
      "  init_size=init_size)\n",
      "/usr/local/lib/python3.7/site-packages/sklearn/cluster/k_means_.py:1561: RuntimeWarning: init_size=300 should be larger than k=346. Setting it to 3*k\n",
      "  init_size=init_size)\n"
     ]
    },
    {
     "name": "stdout",
     "output_type": "stream",
     "text": [
      "Calculating 347\n"
     ]
    },
    {
     "name": "stderr",
     "output_type": "stream",
     "text": [
      "/usr/local/lib/python3.7/site-packages/sklearn/cluster/k_means_.py:1561: RuntimeWarning: init_size=300 should be larger than k=347. Setting it to 3*k\n",
      "  init_size=init_size)\n",
      "/usr/local/lib/python3.7/site-packages/sklearn/cluster/k_means_.py:1561: RuntimeWarning: init_size=300 should be larger than k=347. Setting it to 3*k\n",
      "  init_size=init_size)\n",
      "/usr/local/lib/python3.7/site-packages/sklearn/cluster/k_means_.py:1561: RuntimeWarning: init_size=300 should be larger than k=347. Setting it to 3*k\n",
      "  init_size=init_size)\n"
     ]
    },
    {
     "name": "stdout",
     "output_type": "stream",
     "text": [
      "Calculating 348\n"
     ]
    },
    {
     "name": "stderr",
     "output_type": "stream",
     "text": [
      "/usr/local/lib/python3.7/site-packages/sklearn/cluster/k_means_.py:1561: RuntimeWarning: init_size=300 should be larger than k=348. Setting it to 3*k\n",
      "  init_size=init_size)\n",
      "/usr/local/lib/python3.7/site-packages/sklearn/cluster/k_means_.py:1561: RuntimeWarning: init_size=300 should be larger than k=348. Setting it to 3*k\n",
      "  init_size=init_size)\n",
      "/usr/local/lib/python3.7/site-packages/sklearn/cluster/k_means_.py:1561: RuntimeWarning: init_size=300 should be larger than k=348. Setting it to 3*k\n",
      "  init_size=init_size)\n"
     ]
    },
    {
     "name": "stdout",
     "output_type": "stream",
     "text": [
      "Calculating 349\n"
     ]
    },
    {
     "name": "stderr",
     "output_type": "stream",
     "text": [
      "/usr/local/lib/python3.7/site-packages/sklearn/cluster/k_means_.py:1561: RuntimeWarning: init_size=300 should be larger than k=349. Setting it to 3*k\n",
      "  init_size=init_size)\n",
      "/usr/local/lib/python3.7/site-packages/sklearn/cluster/k_means_.py:1561: RuntimeWarning: init_size=300 should be larger than k=349. Setting it to 3*k\n",
      "  init_size=init_size)\n",
      "/usr/local/lib/python3.7/site-packages/sklearn/cluster/k_means_.py:1561: RuntimeWarning: init_size=300 should be larger than k=349. Setting it to 3*k\n",
      "  init_size=init_size)\n"
     ]
    },
    {
     "name": "stdout",
     "output_type": "stream",
     "text": [
      "Calculating 350\n"
     ]
    },
    {
     "name": "stderr",
     "output_type": "stream",
     "text": [
      "/usr/local/lib/python3.7/site-packages/sklearn/cluster/k_means_.py:1561: RuntimeWarning: init_size=300 should be larger than k=350. Setting it to 3*k\n",
      "  init_size=init_size)\n",
      "/usr/local/lib/python3.7/site-packages/sklearn/cluster/k_means_.py:1561: RuntimeWarning: init_size=300 should be larger than k=350. Setting it to 3*k\n",
      "  init_size=init_size)\n",
      "/usr/local/lib/python3.7/site-packages/sklearn/cluster/k_means_.py:1561: RuntimeWarning: init_size=300 should be larger than k=350. Setting it to 3*k\n",
      "  init_size=init_size)\n"
     ]
    },
    {
     "name": "stdout",
     "output_type": "stream",
     "text": [
      "Calculating 351\n"
     ]
    },
    {
     "name": "stderr",
     "output_type": "stream",
     "text": [
      "/usr/local/lib/python3.7/site-packages/sklearn/cluster/k_means_.py:1561: RuntimeWarning: init_size=300 should be larger than k=351. Setting it to 3*k\n",
      "  init_size=init_size)\n",
      "/usr/local/lib/python3.7/site-packages/sklearn/cluster/k_means_.py:1561: RuntimeWarning: init_size=300 should be larger than k=351. Setting it to 3*k\n",
      "  init_size=init_size)\n",
      "/usr/local/lib/python3.7/site-packages/sklearn/cluster/k_means_.py:1561: RuntimeWarning: init_size=300 should be larger than k=351. Setting it to 3*k\n",
      "  init_size=init_size)\n"
     ]
    },
    {
     "name": "stdout",
     "output_type": "stream",
     "text": [
      "Calculating 352\n"
     ]
    },
    {
     "name": "stderr",
     "output_type": "stream",
     "text": [
      "/usr/local/lib/python3.7/site-packages/sklearn/cluster/k_means_.py:1561: RuntimeWarning: init_size=300 should be larger than k=352. Setting it to 3*k\n",
      "  init_size=init_size)\n",
      "/usr/local/lib/python3.7/site-packages/sklearn/cluster/k_means_.py:1561: RuntimeWarning: init_size=300 should be larger than k=352. Setting it to 3*k\n",
      "  init_size=init_size)\n",
      "/usr/local/lib/python3.7/site-packages/sklearn/cluster/k_means_.py:1561: RuntimeWarning: init_size=300 should be larger than k=352. Setting it to 3*k\n",
      "  init_size=init_size)\n"
     ]
    },
    {
     "name": "stdout",
     "output_type": "stream",
     "text": [
      "Calculating 353\n"
     ]
    },
    {
     "name": "stderr",
     "output_type": "stream",
     "text": [
      "/usr/local/lib/python3.7/site-packages/sklearn/cluster/k_means_.py:1561: RuntimeWarning: init_size=300 should be larger than k=353. Setting it to 3*k\n",
      "  init_size=init_size)\n",
      "/usr/local/lib/python3.7/site-packages/sklearn/cluster/k_means_.py:1561: RuntimeWarning: init_size=300 should be larger than k=353. Setting it to 3*k\n",
      "  init_size=init_size)\n",
      "/usr/local/lib/python3.7/site-packages/sklearn/cluster/k_means_.py:1561: RuntimeWarning: init_size=300 should be larger than k=353. Setting it to 3*k\n",
      "  init_size=init_size)\n"
     ]
    },
    {
     "name": "stdout",
     "output_type": "stream",
     "text": [
      "Calculating 354\n"
     ]
    },
    {
     "name": "stderr",
     "output_type": "stream",
     "text": [
      "/usr/local/lib/python3.7/site-packages/sklearn/cluster/k_means_.py:1561: RuntimeWarning: init_size=300 should be larger than k=354. Setting it to 3*k\n",
      "  init_size=init_size)\n",
      "/usr/local/lib/python3.7/site-packages/sklearn/cluster/k_means_.py:1561: RuntimeWarning: init_size=300 should be larger than k=354. Setting it to 3*k\n",
      "  init_size=init_size)\n",
      "/usr/local/lib/python3.7/site-packages/sklearn/cluster/k_means_.py:1561: RuntimeWarning: init_size=300 should be larger than k=354. Setting it to 3*k\n",
      "  init_size=init_size)\n"
     ]
    },
    {
     "name": "stdout",
     "output_type": "stream",
     "text": [
      "Calculating 355\n"
     ]
    },
    {
     "name": "stderr",
     "output_type": "stream",
     "text": [
      "/usr/local/lib/python3.7/site-packages/sklearn/cluster/k_means_.py:1561: RuntimeWarning: init_size=300 should be larger than k=355. Setting it to 3*k\n",
      "  init_size=init_size)\n",
      "/usr/local/lib/python3.7/site-packages/sklearn/cluster/k_means_.py:1561: RuntimeWarning: init_size=300 should be larger than k=355. Setting it to 3*k\n",
      "  init_size=init_size)\n",
      "/usr/local/lib/python3.7/site-packages/sklearn/cluster/k_means_.py:1561: RuntimeWarning: init_size=300 should be larger than k=355. Setting it to 3*k\n",
      "  init_size=init_size)\n"
     ]
    },
    {
     "name": "stdout",
     "output_type": "stream",
     "text": [
      "Calculating 356\n"
     ]
    },
    {
     "name": "stderr",
     "output_type": "stream",
     "text": [
      "/usr/local/lib/python3.7/site-packages/sklearn/cluster/k_means_.py:1561: RuntimeWarning: init_size=300 should be larger than k=356. Setting it to 3*k\n",
      "  init_size=init_size)\n",
      "/usr/local/lib/python3.7/site-packages/sklearn/cluster/k_means_.py:1561: RuntimeWarning: init_size=300 should be larger than k=356. Setting it to 3*k\n",
      "  init_size=init_size)\n",
      "/usr/local/lib/python3.7/site-packages/sklearn/cluster/k_means_.py:1561: RuntimeWarning: init_size=300 should be larger than k=356. Setting it to 3*k\n",
      "  init_size=init_size)\n"
     ]
    },
    {
     "name": "stdout",
     "output_type": "stream",
     "text": [
      "Calculating 357\n"
     ]
    },
    {
     "name": "stderr",
     "output_type": "stream",
     "text": [
      "/usr/local/lib/python3.7/site-packages/sklearn/cluster/k_means_.py:1561: RuntimeWarning: init_size=300 should be larger than k=357. Setting it to 3*k\n",
      "  init_size=init_size)\n",
      "/usr/local/lib/python3.7/site-packages/sklearn/cluster/k_means_.py:1561: RuntimeWarning: init_size=300 should be larger than k=357. Setting it to 3*k\n",
      "  init_size=init_size)\n",
      "/usr/local/lib/python3.7/site-packages/sklearn/cluster/k_means_.py:1561: RuntimeWarning: init_size=300 should be larger than k=357. Setting it to 3*k\n",
      "  init_size=init_size)\n"
     ]
    },
    {
     "name": "stdout",
     "output_type": "stream",
     "text": [
      "Calculating 358\n"
     ]
    },
    {
     "name": "stderr",
     "output_type": "stream",
     "text": [
      "/usr/local/lib/python3.7/site-packages/sklearn/cluster/k_means_.py:1561: RuntimeWarning: init_size=300 should be larger than k=358. Setting it to 3*k\n",
      "  init_size=init_size)\n",
      "/usr/local/lib/python3.7/site-packages/sklearn/cluster/k_means_.py:1561: RuntimeWarning: init_size=300 should be larger than k=358. Setting it to 3*k\n",
      "  init_size=init_size)\n",
      "/usr/local/lib/python3.7/site-packages/sklearn/cluster/k_means_.py:1561: RuntimeWarning: init_size=300 should be larger than k=358. Setting it to 3*k\n",
      "  init_size=init_size)\n"
     ]
    },
    {
     "name": "stdout",
     "output_type": "stream",
     "text": [
      "Calculating 359\n"
     ]
    },
    {
     "name": "stderr",
     "output_type": "stream",
     "text": [
      "/usr/local/lib/python3.7/site-packages/sklearn/cluster/k_means_.py:1561: RuntimeWarning: init_size=300 should be larger than k=359. Setting it to 3*k\n",
      "  init_size=init_size)\n",
      "/usr/local/lib/python3.7/site-packages/sklearn/cluster/k_means_.py:1561: RuntimeWarning: init_size=300 should be larger than k=359. Setting it to 3*k\n",
      "  init_size=init_size)\n",
      "/usr/local/lib/python3.7/site-packages/sklearn/cluster/k_means_.py:1561: RuntimeWarning: init_size=300 should be larger than k=359. Setting it to 3*k\n",
      "  init_size=init_size)\n"
     ]
    },
    {
     "name": "stdout",
     "output_type": "stream",
     "text": [
      "Calculating 360\n"
     ]
    },
    {
     "name": "stderr",
     "output_type": "stream",
     "text": [
      "/usr/local/lib/python3.7/site-packages/sklearn/cluster/k_means_.py:1561: RuntimeWarning: init_size=300 should be larger than k=360. Setting it to 3*k\n",
      "  init_size=init_size)\n",
      "/usr/local/lib/python3.7/site-packages/sklearn/cluster/k_means_.py:1561: RuntimeWarning: init_size=300 should be larger than k=360. Setting it to 3*k\n",
      "  init_size=init_size)\n",
      "/usr/local/lib/python3.7/site-packages/sklearn/cluster/k_means_.py:1561: RuntimeWarning: init_size=300 should be larger than k=360. Setting it to 3*k\n",
      "  init_size=init_size)\n"
     ]
    },
    {
     "name": "stdout",
     "output_type": "stream",
     "text": [
      "Calculating 361\n"
     ]
    },
    {
     "name": "stderr",
     "output_type": "stream",
     "text": [
      "/usr/local/lib/python3.7/site-packages/sklearn/cluster/k_means_.py:1561: RuntimeWarning: init_size=300 should be larger than k=361. Setting it to 3*k\n",
      "  init_size=init_size)\n",
      "/usr/local/lib/python3.7/site-packages/sklearn/cluster/k_means_.py:1561: RuntimeWarning: init_size=300 should be larger than k=361. Setting it to 3*k\n",
      "  init_size=init_size)\n",
      "/usr/local/lib/python3.7/site-packages/sklearn/cluster/k_means_.py:1561: RuntimeWarning: init_size=300 should be larger than k=361. Setting it to 3*k\n",
      "  init_size=init_size)\n"
     ]
    },
    {
     "name": "stdout",
     "output_type": "stream",
     "text": [
      "Calculating 362\n"
     ]
    },
    {
     "name": "stderr",
     "output_type": "stream",
     "text": [
      "/usr/local/lib/python3.7/site-packages/sklearn/cluster/k_means_.py:1561: RuntimeWarning: init_size=300 should be larger than k=362. Setting it to 3*k\n",
      "  init_size=init_size)\n",
      "/usr/local/lib/python3.7/site-packages/sklearn/cluster/k_means_.py:1561: RuntimeWarning: init_size=300 should be larger than k=362. Setting it to 3*k\n",
      "  init_size=init_size)\n",
      "/usr/local/lib/python3.7/site-packages/sklearn/cluster/k_means_.py:1561: RuntimeWarning: init_size=300 should be larger than k=362. Setting it to 3*k\n",
      "  init_size=init_size)\n"
     ]
    },
    {
     "name": "stdout",
     "output_type": "stream",
     "text": [
      "Calculating 363\n"
     ]
    },
    {
     "name": "stderr",
     "output_type": "stream",
     "text": [
      "/usr/local/lib/python3.7/site-packages/sklearn/cluster/k_means_.py:1561: RuntimeWarning: init_size=300 should be larger than k=363. Setting it to 3*k\n",
      "  init_size=init_size)\n",
      "/usr/local/lib/python3.7/site-packages/sklearn/cluster/k_means_.py:1561: RuntimeWarning: init_size=300 should be larger than k=363. Setting it to 3*k\n",
      "  init_size=init_size)\n",
      "/usr/local/lib/python3.7/site-packages/sklearn/cluster/k_means_.py:1561: RuntimeWarning: init_size=300 should be larger than k=363. Setting it to 3*k\n",
      "  init_size=init_size)\n"
     ]
    },
    {
     "name": "stdout",
     "output_type": "stream",
     "text": [
      "Calculating 364\n"
     ]
    },
    {
     "name": "stderr",
     "output_type": "stream",
     "text": [
      "/usr/local/lib/python3.7/site-packages/sklearn/cluster/k_means_.py:1561: RuntimeWarning: init_size=300 should be larger than k=364. Setting it to 3*k\n",
      "  init_size=init_size)\n",
      "/usr/local/lib/python3.7/site-packages/sklearn/cluster/k_means_.py:1561: RuntimeWarning: init_size=300 should be larger than k=364. Setting it to 3*k\n",
      "  init_size=init_size)\n",
      "/usr/local/lib/python3.7/site-packages/sklearn/cluster/k_means_.py:1561: RuntimeWarning: init_size=300 should be larger than k=364. Setting it to 3*k\n",
      "  init_size=init_size)\n"
     ]
    },
    {
     "name": "stdout",
     "output_type": "stream",
     "text": [
      "Calculating 365\n"
     ]
    },
    {
     "name": "stderr",
     "output_type": "stream",
     "text": [
      "/usr/local/lib/python3.7/site-packages/sklearn/cluster/k_means_.py:1561: RuntimeWarning: init_size=300 should be larger than k=365. Setting it to 3*k\n",
      "  init_size=init_size)\n",
      "/usr/local/lib/python3.7/site-packages/sklearn/cluster/k_means_.py:1561: RuntimeWarning: init_size=300 should be larger than k=365. Setting it to 3*k\n",
      "  init_size=init_size)\n",
      "/usr/local/lib/python3.7/site-packages/sklearn/cluster/k_means_.py:1561: RuntimeWarning: init_size=300 should be larger than k=365. Setting it to 3*k\n",
      "  init_size=init_size)\n"
     ]
    },
    {
     "name": "stdout",
     "output_type": "stream",
     "text": [
      "Calculating 366\n"
     ]
    },
    {
     "name": "stderr",
     "output_type": "stream",
     "text": [
      "/usr/local/lib/python3.7/site-packages/sklearn/cluster/k_means_.py:1561: RuntimeWarning: init_size=300 should be larger than k=366. Setting it to 3*k\n",
      "  init_size=init_size)\n",
      "/usr/local/lib/python3.7/site-packages/sklearn/cluster/k_means_.py:1561: RuntimeWarning: init_size=300 should be larger than k=366. Setting it to 3*k\n",
      "  init_size=init_size)\n",
      "/usr/local/lib/python3.7/site-packages/sklearn/cluster/k_means_.py:1561: RuntimeWarning: init_size=300 should be larger than k=366. Setting it to 3*k\n",
      "  init_size=init_size)\n"
     ]
    },
    {
     "name": "stdout",
     "output_type": "stream",
     "text": [
      "Calculating 367\n"
     ]
    },
    {
     "name": "stderr",
     "output_type": "stream",
     "text": [
      "/usr/local/lib/python3.7/site-packages/sklearn/cluster/k_means_.py:1561: RuntimeWarning: init_size=300 should be larger than k=367. Setting it to 3*k\n",
      "  init_size=init_size)\n",
      "/usr/local/lib/python3.7/site-packages/sklearn/cluster/k_means_.py:1561: RuntimeWarning: init_size=300 should be larger than k=367. Setting it to 3*k\n",
      "  init_size=init_size)\n",
      "/usr/local/lib/python3.7/site-packages/sklearn/cluster/k_means_.py:1561: RuntimeWarning: init_size=300 should be larger than k=367. Setting it to 3*k\n",
      "  init_size=init_size)\n"
     ]
    },
    {
     "name": "stdout",
     "output_type": "stream",
     "text": [
      "Calculating 368\n"
     ]
    },
    {
     "name": "stderr",
     "output_type": "stream",
     "text": [
      "/usr/local/lib/python3.7/site-packages/sklearn/cluster/k_means_.py:1561: RuntimeWarning: init_size=300 should be larger than k=368. Setting it to 3*k\n",
      "  init_size=init_size)\n",
      "/usr/local/lib/python3.7/site-packages/sklearn/cluster/k_means_.py:1561: RuntimeWarning: init_size=300 should be larger than k=368. Setting it to 3*k\n",
      "  init_size=init_size)\n",
      "/usr/local/lib/python3.7/site-packages/sklearn/cluster/k_means_.py:1561: RuntimeWarning: init_size=300 should be larger than k=368. Setting it to 3*k\n",
      "  init_size=init_size)\n"
     ]
    },
    {
     "name": "stdout",
     "output_type": "stream",
     "text": [
      "Calculating 369\n"
     ]
    },
    {
     "name": "stderr",
     "output_type": "stream",
     "text": [
      "/usr/local/lib/python3.7/site-packages/sklearn/cluster/k_means_.py:1561: RuntimeWarning: init_size=300 should be larger than k=369. Setting it to 3*k\n",
      "  init_size=init_size)\n",
      "/usr/local/lib/python3.7/site-packages/sklearn/cluster/k_means_.py:1561: RuntimeWarning: init_size=300 should be larger than k=369. Setting it to 3*k\n",
      "  init_size=init_size)\n",
      "/usr/local/lib/python3.7/site-packages/sklearn/cluster/k_means_.py:1561: RuntimeWarning: init_size=300 should be larger than k=369. Setting it to 3*k\n",
      "  init_size=init_size)\n"
     ]
    },
    {
     "name": "stdout",
     "output_type": "stream",
     "text": [
      "Calculating 370\n"
     ]
    },
    {
     "name": "stderr",
     "output_type": "stream",
     "text": [
      "/usr/local/lib/python3.7/site-packages/sklearn/cluster/k_means_.py:1561: RuntimeWarning: init_size=300 should be larger than k=370. Setting it to 3*k\n",
      "  init_size=init_size)\n",
      "/usr/local/lib/python3.7/site-packages/sklearn/cluster/k_means_.py:1561: RuntimeWarning: init_size=300 should be larger than k=370. Setting it to 3*k\n",
      "  init_size=init_size)\n",
      "/usr/local/lib/python3.7/site-packages/sklearn/cluster/k_means_.py:1561: RuntimeWarning: init_size=300 should be larger than k=370. Setting it to 3*k\n",
      "  init_size=init_size)\n"
     ]
    },
    {
     "name": "stdout",
     "output_type": "stream",
     "text": [
      "Calculating 371\n"
     ]
    },
    {
     "name": "stderr",
     "output_type": "stream",
     "text": [
      "/usr/local/lib/python3.7/site-packages/sklearn/cluster/k_means_.py:1561: RuntimeWarning: init_size=300 should be larger than k=371. Setting it to 3*k\n",
      "  init_size=init_size)\n",
      "/usr/local/lib/python3.7/site-packages/sklearn/cluster/k_means_.py:1561: RuntimeWarning: init_size=300 should be larger than k=371. Setting it to 3*k\n",
      "  init_size=init_size)\n",
      "/usr/local/lib/python3.7/site-packages/sklearn/cluster/k_means_.py:1561: RuntimeWarning: init_size=300 should be larger than k=371. Setting it to 3*k\n",
      "  init_size=init_size)\n"
     ]
    },
    {
     "name": "stdout",
     "output_type": "stream",
     "text": [
      "Calculating 372\n"
     ]
    },
    {
     "name": "stderr",
     "output_type": "stream",
     "text": [
      "/usr/local/lib/python3.7/site-packages/sklearn/cluster/k_means_.py:1561: RuntimeWarning: init_size=300 should be larger than k=372. Setting it to 3*k\n",
      "  init_size=init_size)\n",
      "/usr/local/lib/python3.7/site-packages/sklearn/cluster/k_means_.py:1561: RuntimeWarning: init_size=300 should be larger than k=372. Setting it to 3*k\n",
      "  init_size=init_size)\n",
      "/usr/local/lib/python3.7/site-packages/sklearn/cluster/k_means_.py:1561: RuntimeWarning: init_size=300 should be larger than k=372. Setting it to 3*k\n",
      "  init_size=init_size)\n"
     ]
    },
    {
     "name": "stdout",
     "output_type": "stream",
     "text": [
      "Calculating 373\n"
     ]
    },
    {
     "name": "stderr",
     "output_type": "stream",
     "text": [
      "/usr/local/lib/python3.7/site-packages/sklearn/cluster/k_means_.py:1561: RuntimeWarning: init_size=300 should be larger than k=373. Setting it to 3*k\n",
      "  init_size=init_size)\n",
      "/usr/local/lib/python3.7/site-packages/sklearn/cluster/k_means_.py:1561: RuntimeWarning: init_size=300 should be larger than k=373. Setting it to 3*k\n",
      "  init_size=init_size)\n",
      "/usr/local/lib/python3.7/site-packages/sklearn/cluster/k_means_.py:1561: RuntimeWarning: init_size=300 should be larger than k=373. Setting it to 3*k\n",
      "  init_size=init_size)\n"
     ]
    },
    {
     "name": "stdout",
     "output_type": "stream",
     "text": [
      "Calculating 374\n"
     ]
    },
    {
     "name": "stderr",
     "output_type": "stream",
     "text": [
      "/usr/local/lib/python3.7/site-packages/sklearn/cluster/k_means_.py:1561: RuntimeWarning: init_size=300 should be larger than k=374. Setting it to 3*k\n",
      "  init_size=init_size)\n",
      "/usr/local/lib/python3.7/site-packages/sklearn/cluster/k_means_.py:1561: RuntimeWarning: init_size=300 should be larger than k=374. Setting it to 3*k\n",
      "  init_size=init_size)\n",
      "/usr/local/lib/python3.7/site-packages/sklearn/cluster/k_means_.py:1561: RuntimeWarning: init_size=300 should be larger than k=374. Setting it to 3*k\n",
      "  init_size=init_size)\n"
     ]
    },
    {
     "name": "stdout",
     "output_type": "stream",
     "text": [
      "Calculating 375\n"
     ]
    },
    {
     "name": "stderr",
     "output_type": "stream",
     "text": [
      "/usr/local/lib/python3.7/site-packages/sklearn/cluster/k_means_.py:1561: RuntimeWarning: init_size=300 should be larger than k=375. Setting it to 3*k\n",
      "  init_size=init_size)\n",
      "/usr/local/lib/python3.7/site-packages/sklearn/cluster/k_means_.py:1561: RuntimeWarning: init_size=300 should be larger than k=375. Setting it to 3*k\n",
      "  init_size=init_size)\n",
      "/usr/local/lib/python3.7/site-packages/sklearn/cluster/k_means_.py:1561: RuntimeWarning: init_size=300 should be larger than k=375. Setting it to 3*k\n",
      "  init_size=init_size)\n"
     ]
    },
    {
     "name": "stdout",
     "output_type": "stream",
     "text": [
      "Calculating 376\n"
     ]
    },
    {
     "name": "stderr",
     "output_type": "stream",
     "text": [
      "/usr/local/lib/python3.7/site-packages/sklearn/cluster/k_means_.py:1561: RuntimeWarning: init_size=300 should be larger than k=376. Setting it to 3*k\n",
      "  init_size=init_size)\n",
      "/usr/local/lib/python3.7/site-packages/sklearn/cluster/k_means_.py:1561: RuntimeWarning: init_size=300 should be larger than k=376. Setting it to 3*k\n",
      "  init_size=init_size)\n",
      "/usr/local/lib/python3.7/site-packages/sklearn/cluster/k_means_.py:1561: RuntimeWarning: init_size=300 should be larger than k=376. Setting it to 3*k\n",
      "  init_size=init_size)\n"
     ]
    },
    {
     "name": "stdout",
     "output_type": "stream",
     "text": [
      "Calculating 377\n"
     ]
    },
    {
     "name": "stderr",
     "output_type": "stream",
     "text": [
      "/usr/local/lib/python3.7/site-packages/sklearn/cluster/k_means_.py:1561: RuntimeWarning: init_size=300 should be larger than k=377. Setting it to 3*k\n",
      "  init_size=init_size)\n",
      "/usr/local/lib/python3.7/site-packages/sklearn/cluster/k_means_.py:1561: RuntimeWarning: init_size=300 should be larger than k=377. Setting it to 3*k\n",
      "  init_size=init_size)\n",
      "/usr/local/lib/python3.7/site-packages/sklearn/cluster/k_means_.py:1561: RuntimeWarning: init_size=300 should be larger than k=377. Setting it to 3*k\n",
      "  init_size=init_size)\n"
     ]
    },
    {
     "name": "stdout",
     "output_type": "stream",
     "text": [
      "Calculating 378\n"
     ]
    },
    {
     "name": "stderr",
     "output_type": "stream",
     "text": [
      "/usr/local/lib/python3.7/site-packages/sklearn/cluster/k_means_.py:1561: RuntimeWarning: init_size=300 should be larger than k=378. Setting it to 3*k\n",
      "  init_size=init_size)\n",
      "/usr/local/lib/python3.7/site-packages/sklearn/cluster/k_means_.py:1561: RuntimeWarning: init_size=300 should be larger than k=378. Setting it to 3*k\n",
      "  init_size=init_size)\n",
      "/usr/local/lib/python3.7/site-packages/sklearn/cluster/k_means_.py:1561: RuntimeWarning: init_size=300 should be larger than k=378. Setting it to 3*k\n",
      "  init_size=init_size)\n"
     ]
    },
    {
     "name": "stdout",
     "output_type": "stream",
     "text": [
      "Calculating 379\n"
     ]
    },
    {
     "name": "stderr",
     "output_type": "stream",
     "text": [
      "/usr/local/lib/python3.7/site-packages/sklearn/cluster/k_means_.py:1561: RuntimeWarning: init_size=300 should be larger than k=379. Setting it to 3*k\n",
      "  init_size=init_size)\n",
      "/usr/local/lib/python3.7/site-packages/sklearn/cluster/k_means_.py:1561: RuntimeWarning: init_size=300 should be larger than k=379. Setting it to 3*k\n",
      "  init_size=init_size)\n",
      "/usr/local/lib/python3.7/site-packages/sklearn/cluster/k_means_.py:1561: RuntimeWarning: init_size=300 should be larger than k=379. Setting it to 3*k\n",
      "  init_size=init_size)\n"
     ]
    },
    {
     "name": "stdout",
     "output_type": "stream",
     "text": [
      "Calculating 380\n"
     ]
    },
    {
     "name": "stderr",
     "output_type": "stream",
     "text": [
      "/usr/local/lib/python3.7/site-packages/sklearn/cluster/k_means_.py:1561: RuntimeWarning: init_size=300 should be larger than k=380. Setting it to 3*k\n",
      "  init_size=init_size)\n",
      "/usr/local/lib/python3.7/site-packages/sklearn/cluster/k_means_.py:1561: RuntimeWarning: init_size=300 should be larger than k=380. Setting it to 3*k\n",
      "  init_size=init_size)\n",
      "/usr/local/lib/python3.7/site-packages/sklearn/cluster/k_means_.py:1561: RuntimeWarning: init_size=300 should be larger than k=380. Setting it to 3*k\n",
      "  init_size=init_size)\n"
     ]
    },
    {
     "name": "stdout",
     "output_type": "stream",
     "text": [
      "Calculating 381\n"
     ]
    },
    {
     "name": "stderr",
     "output_type": "stream",
     "text": [
      "/usr/local/lib/python3.7/site-packages/sklearn/cluster/k_means_.py:1561: RuntimeWarning: init_size=300 should be larger than k=381. Setting it to 3*k\n",
      "  init_size=init_size)\n",
      "/usr/local/lib/python3.7/site-packages/sklearn/cluster/k_means_.py:1561: RuntimeWarning: init_size=300 should be larger than k=381. Setting it to 3*k\n",
      "  init_size=init_size)\n",
      "/usr/local/lib/python3.7/site-packages/sklearn/cluster/k_means_.py:1561: RuntimeWarning: init_size=300 should be larger than k=381. Setting it to 3*k\n",
      "  init_size=init_size)\n"
     ]
    },
    {
     "name": "stdout",
     "output_type": "stream",
     "text": [
      "Calculating 382\n"
     ]
    },
    {
     "name": "stderr",
     "output_type": "stream",
     "text": [
      "/usr/local/lib/python3.7/site-packages/sklearn/cluster/k_means_.py:1561: RuntimeWarning: init_size=300 should be larger than k=382. Setting it to 3*k\n",
      "  init_size=init_size)\n",
      "/usr/local/lib/python3.7/site-packages/sklearn/cluster/k_means_.py:1561: RuntimeWarning: init_size=300 should be larger than k=382. Setting it to 3*k\n",
      "  init_size=init_size)\n",
      "/usr/local/lib/python3.7/site-packages/sklearn/cluster/k_means_.py:1561: RuntimeWarning: init_size=300 should be larger than k=382. Setting it to 3*k\n",
      "  init_size=init_size)\n"
     ]
    },
    {
     "name": "stdout",
     "output_type": "stream",
     "text": [
      "Calculating 383\n"
     ]
    },
    {
     "name": "stderr",
     "output_type": "stream",
     "text": [
      "/usr/local/lib/python3.7/site-packages/sklearn/cluster/k_means_.py:1561: RuntimeWarning: init_size=300 should be larger than k=383. Setting it to 3*k\n",
      "  init_size=init_size)\n",
      "/usr/local/lib/python3.7/site-packages/sklearn/cluster/k_means_.py:1561: RuntimeWarning: init_size=300 should be larger than k=383. Setting it to 3*k\n",
      "  init_size=init_size)\n",
      "/usr/local/lib/python3.7/site-packages/sklearn/cluster/k_means_.py:1561: RuntimeWarning: init_size=300 should be larger than k=383. Setting it to 3*k\n",
      "  init_size=init_size)\n"
     ]
    },
    {
     "name": "stdout",
     "output_type": "stream",
     "text": [
      "Calculating 384\n"
     ]
    },
    {
     "name": "stderr",
     "output_type": "stream",
     "text": [
      "/usr/local/lib/python3.7/site-packages/sklearn/cluster/k_means_.py:1561: RuntimeWarning: init_size=300 should be larger than k=384. Setting it to 3*k\n",
      "  init_size=init_size)\n",
      "/usr/local/lib/python3.7/site-packages/sklearn/cluster/k_means_.py:1561: RuntimeWarning: init_size=300 should be larger than k=384. Setting it to 3*k\n",
      "  init_size=init_size)\n",
      "/usr/local/lib/python3.7/site-packages/sklearn/cluster/k_means_.py:1561: RuntimeWarning: init_size=300 should be larger than k=384. Setting it to 3*k\n",
      "  init_size=init_size)\n"
     ]
    },
    {
     "name": "stdout",
     "output_type": "stream",
     "text": [
      "Calculating 385\n"
     ]
    },
    {
     "name": "stderr",
     "output_type": "stream",
     "text": [
      "/usr/local/lib/python3.7/site-packages/sklearn/cluster/k_means_.py:1561: RuntimeWarning: init_size=300 should be larger than k=385. Setting it to 3*k\n",
      "  init_size=init_size)\n",
      "/usr/local/lib/python3.7/site-packages/sklearn/cluster/k_means_.py:1561: RuntimeWarning: init_size=300 should be larger than k=385. Setting it to 3*k\n",
      "  init_size=init_size)\n",
      "/usr/local/lib/python3.7/site-packages/sklearn/cluster/k_means_.py:1561: RuntimeWarning: init_size=300 should be larger than k=385. Setting it to 3*k\n",
      "  init_size=init_size)\n"
     ]
    },
    {
     "name": "stdout",
     "output_type": "stream",
     "text": [
      "Calculating 386\n"
     ]
    },
    {
     "name": "stderr",
     "output_type": "stream",
     "text": [
      "/usr/local/lib/python3.7/site-packages/sklearn/cluster/k_means_.py:1561: RuntimeWarning: init_size=300 should be larger than k=386. Setting it to 3*k\n",
      "  init_size=init_size)\n",
      "/usr/local/lib/python3.7/site-packages/sklearn/cluster/k_means_.py:1561: RuntimeWarning: init_size=300 should be larger than k=386. Setting it to 3*k\n",
      "  init_size=init_size)\n",
      "/usr/local/lib/python3.7/site-packages/sklearn/cluster/k_means_.py:1561: RuntimeWarning: init_size=300 should be larger than k=386. Setting it to 3*k\n",
      "  init_size=init_size)\n"
     ]
    },
    {
     "name": "stdout",
     "output_type": "stream",
     "text": [
      "Calculating 387\n"
     ]
    },
    {
     "name": "stderr",
     "output_type": "stream",
     "text": [
      "/usr/local/lib/python3.7/site-packages/sklearn/cluster/k_means_.py:1561: RuntimeWarning: init_size=300 should be larger than k=387. Setting it to 3*k\n",
      "  init_size=init_size)\n",
      "/usr/local/lib/python3.7/site-packages/sklearn/cluster/k_means_.py:1561: RuntimeWarning: init_size=300 should be larger than k=387. Setting it to 3*k\n",
      "  init_size=init_size)\n",
      "/usr/local/lib/python3.7/site-packages/sklearn/cluster/k_means_.py:1561: RuntimeWarning: init_size=300 should be larger than k=387. Setting it to 3*k\n",
      "  init_size=init_size)\n"
     ]
    },
    {
     "name": "stdout",
     "output_type": "stream",
     "text": [
      "Calculating 388\n"
     ]
    },
    {
     "name": "stderr",
     "output_type": "stream",
     "text": [
      "/usr/local/lib/python3.7/site-packages/sklearn/cluster/k_means_.py:1561: RuntimeWarning: init_size=300 should be larger than k=388. Setting it to 3*k\n",
      "  init_size=init_size)\n",
      "/usr/local/lib/python3.7/site-packages/sklearn/cluster/k_means_.py:1561: RuntimeWarning: init_size=300 should be larger than k=388. Setting it to 3*k\n",
      "  init_size=init_size)\n",
      "/usr/local/lib/python3.7/site-packages/sklearn/cluster/k_means_.py:1561: RuntimeWarning: init_size=300 should be larger than k=388. Setting it to 3*k\n",
      "  init_size=init_size)\n"
     ]
    },
    {
     "name": "stdout",
     "output_type": "stream",
     "text": [
      "Calculating 389\n"
     ]
    },
    {
     "name": "stderr",
     "output_type": "stream",
     "text": [
      "/usr/local/lib/python3.7/site-packages/sklearn/cluster/k_means_.py:1561: RuntimeWarning: init_size=300 should be larger than k=389. Setting it to 3*k\n",
      "  init_size=init_size)\n",
      "/usr/local/lib/python3.7/site-packages/sklearn/cluster/k_means_.py:1561: RuntimeWarning: init_size=300 should be larger than k=389. Setting it to 3*k\n",
      "  init_size=init_size)\n",
      "/usr/local/lib/python3.7/site-packages/sklearn/cluster/k_means_.py:1561: RuntimeWarning: init_size=300 should be larger than k=389. Setting it to 3*k\n",
      "  init_size=init_size)\n"
     ]
    },
    {
     "name": "stdout",
     "output_type": "stream",
     "text": [
      "Calculating 390\n"
     ]
    },
    {
     "name": "stderr",
     "output_type": "stream",
     "text": [
      "/usr/local/lib/python3.7/site-packages/sklearn/cluster/k_means_.py:1561: RuntimeWarning: init_size=300 should be larger than k=390. Setting it to 3*k\n",
      "  init_size=init_size)\n",
      "/usr/local/lib/python3.7/site-packages/sklearn/cluster/k_means_.py:1561: RuntimeWarning: init_size=300 should be larger than k=390. Setting it to 3*k\n",
      "  init_size=init_size)\n",
      "/usr/local/lib/python3.7/site-packages/sklearn/cluster/k_means_.py:1561: RuntimeWarning: init_size=300 should be larger than k=390. Setting it to 3*k\n",
      "  init_size=init_size)\n"
     ]
    },
    {
     "name": "stdout",
     "output_type": "stream",
     "text": [
      "Calculating 391\n"
     ]
    },
    {
     "name": "stderr",
     "output_type": "stream",
     "text": [
      "/usr/local/lib/python3.7/site-packages/sklearn/cluster/k_means_.py:1561: RuntimeWarning: init_size=300 should be larger than k=391. Setting it to 3*k\n",
      "  init_size=init_size)\n",
      "/usr/local/lib/python3.7/site-packages/sklearn/cluster/k_means_.py:1561: RuntimeWarning: init_size=300 should be larger than k=391. Setting it to 3*k\n",
      "  init_size=init_size)\n",
      "/usr/local/lib/python3.7/site-packages/sklearn/cluster/k_means_.py:1561: RuntimeWarning: init_size=300 should be larger than k=391. Setting it to 3*k\n",
      "  init_size=init_size)\n"
     ]
    },
    {
     "name": "stdout",
     "output_type": "stream",
     "text": [
      "Calculating 392\n"
     ]
    },
    {
     "name": "stderr",
     "output_type": "stream",
     "text": [
      "/usr/local/lib/python3.7/site-packages/sklearn/cluster/k_means_.py:1561: RuntimeWarning: init_size=300 should be larger than k=392. Setting it to 3*k\n",
      "  init_size=init_size)\n",
      "/usr/local/lib/python3.7/site-packages/sklearn/cluster/k_means_.py:1561: RuntimeWarning: init_size=300 should be larger than k=392. Setting it to 3*k\n",
      "  init_size=init_size)\n",
      "/usr/local/lib/python3.7/site-packages/sklearn/cluster/k_means_.py:1561: RuntimeWarning: init_size=300 should be larger than k=392. Setting it to 3*k\n",
      "  init_size=init_size)\n"
     ]
    },
    {
     "name": "stdout",
     "output_type": "stream",
     "text": [
      "Calculating 393\n"
     ]
    },
    {
     "name": "stderr",
     "output_type": "stream",
     "text": [
      "/usr/local/lib/python3.7/site-packages/sklearn/cluster/k_means_.py:1561: RuntimeWarning: init_size=300 should be larger than k=393. Setting it to 3*k\n",
      "  init_size=init_size)\n",
      "/usr/local/lib/python3.7/site-packages/sklearn/cluster/k_means_.py:1561: RuntimeWarning: init_size=300 should be larger than k=393. Setting it to 3*k\n",
      "  init_size=init_size)\n",
      "/usr/local/lib/python3.7/site-packages/sklearn/cluster/k_means_.py:1561: RuntimeWarning: init_size=300 should be larger than k=393. Setting it to 3*k\n",
      "  init_size=init_size)\n"
     ]
    },
    {
     "name": "stdout",
     "output_type": "stream",
     "text": [
      "Calculating 394\n"
     ]
    },
    {
     "name": "stderr",
     "output_type": "stream",
     "text": [
      "/usr/local/lib/python3.7/site-packages/sklearn/cluster/k_means_.py:1561: RuntimeWarning: init_size=300 should be larger than k=394. Setting it to 3*k\n",
      "  init_size=init_size)\n",
      "/usr/local/lib/python3.7/site-packages/sklearn/cluster/k_means_.py:1561: RuntimeWarning: init_size=300 should be larger than k=394. Setting it to 3*k\n",
      "  init_size=init_size)\n",
      "/usr/local/lib/python3.7/site-packages/sklearn/cluster/k_means_.py:1561: RuntimeWarning: init_size=300 should be larger than k=394. Setting it to 3*k\n",
      "  init_size=init_size)\n"
     ]
    },
    {
     "name": "stdout",
     "output_type": "stream",
     "text": [
      "Calculating 395\n"
     ]
    },
    {
     "name": "stderr",
     "output_type": "stream",
     "text": [
      "/usr/local/lib/python3.7/site-packages/sklearn/cluster/k_means_.py:1561: RuntimeWarning: init_size=300 should be larger than k=395. Setting it to 3*k\n",
      "  init_size=init_size)\n",
      "/usr/local/lib/python3.7/site-packages/sklearn/cluster/k_means_.py:1561: RuntimeWarning: init_size=300 should be larger than k=395. Setting it to 3*k\n",
      "  init_size=init_size)\n",
      "/usr/local/lib/python3.7/site-packages/sklearn/cluster/k_means_.py:1561: RuntimeWarning: init_size=300 should be larger than k=395. Setting it to 3*k\n",
      "  init_size=init_size)\n"
     ]
    },
    {
     "name": "stdout",
     "output_type": "stream",
     "text": [
      "Calculating 396\n"
     ]
    },
    {
     "name": "stderr",
     "output_type": "stream",
     "text": [
      "/usr/local/lib/python3.7/site-packages/sklearn/cluster/k_means_.py:1561: RuntimeWarning: init_size=300 should be larger than k=396. Setting it to 3*k\n",
      "  init_size=init_size)\n",
      "/usr/local/lib/python3.7/site-packages/sklearn/cluster/k_means_.py:1561: RuntimeWarning: init_size=300 should be larger than k=396. Setting it to 3*k\n",
      "  init_size=init_size)\n",
      "/usr/local/lib/python3.7/site-packages/sklearn/cluster/k_means_.py:1561: RuntimeWarning: init_size=300 should be larger than k=396. Setting it to 3*k\n",
      "  init_size=init_size)\n"
     ]
    },
    {
     "name": "stdout",
     "output_type": "stream",
     "text": [
      "Calculating 397\n"
     ]
    },
    {
     "name": "stderr",
     "output_type": "stream",
     "text": [
      "/usr/local/lib/python3.7/site-packages/sklearn/cluster/k_means_.py:1561: RuntimeWarning: init_size=300 should be larger than k=397. Setting it to 3*k\n",
      "  init_size=init_size)\n",
      "/usr/local/lib/python3.7/site-packages/sklearn/cluster/k_means_.py:1561: RuntimeWarning: init_size=300 should be larger than k=397. Setting it to 3*k\n",
      "  init_size=init_size)\n",
      "/usr/local/lib/python3.7/site-packages/sklearn/cluster/k_means_.py:1561: RuntimeWarning: init_size=300 should be larger than k=397. Setting it to 3*k\n",
      "  init_size=init_size)\n"
     ]
    },
    {
     "name": "stdout",
     "output_type": "stream",
     "text": [
      "Calculating 398\n"
     ]
    },
    {
     "name": "stderr",
     "output_type": "stream",
     "text": [
      "/usr/local/lib/python3.7/site-packages/sklearn/cluster/k_means_.py:1561: RuntimeWarning: init_size=300 should be larger than k=398. Setting it to 3*k\n",
      "  init_size=init_size)\n",
      "/usr/local/lib/python3.7/site-packages/sklearn/cluster/k_means_.py:1561: RuntimeWarning: init_size=300 should be larger than k=398. Setting it to 3*k\n",
      "  init_size=init_size)\n",
      "/usr/local/lib/python3.7/site-packages/sklearn/cluster/k_means_.py:1561: RuntimeWarning: init_size=300 should be larger than k=398. Setting it to 3*k\n",
      "  init_size=init_size)\n"
     ]
    },
    {
     "name": "stdout",
     "output_type": "stream",
     "text": [
      "Calculating 399\n"
     ]
    },
    {
     "name": "stderr",
     "output_type": "stream",
     "text": [
      "/usr/local/lib/python3.7/site-packages/sklearn/cluster/k_means_.py:1561: RuntimeWarning: init_size=300 should be larger than k=399. Setting it to 3*k\n",
      "  init_size=init_size)\n",
      "/usr/local/lib/python3.7/site-packages/sklearn/cluster/k_means_.py:1561: RuntimeWarning: init_size=300 should be larger than k=399. Setting it to 3*k\n",
      "  init_size=init_size)\n",
      "/usr/local/lib/python3.7/site-packages/sklearn/cluster/k_means_.py:1561: RuntimeWarning: init_size=300 should be larger than k=399. Setting it to 3*k\n",
      "  init_size=init_size)\n"
     ]
    },
    {
     "name": "stdout",
     "output_type": "stream",
     "text": [
      "Calculating 400\n"
     ]
    },
    {
     "name": "stderr",
     "output_type": "stream",
     "text": [
      "/usr/local/lib/python3.7/site-packages/sklearn/cluster/k_means_.py:1561: RuntimeWarning: init_size=300 should be larger than k=400. Setting it to 3*k\n",
      "  init_size=init_size)\n",
      "/usr/local/lib/python3.7/site-packages/sklearn/cluster/k_means_.py:1561: RuntimeWarning: init_size=300 should be larger than k=400. Setting it to 3*k\n",
      "  init_size=init_size)\n",
      "/usr/local/lib/python3.7/site-packages/sklearn/cluster/k_means_.py:1561: RuntimeWarning: init_size=300 should be larger than k=400. Setting it to 3*k\n",
      "  init_size=init_size)\n"
     ]
    },
    {
     "name": "stdout",
     "output_type": "stream",
     "text": [
      "Calculating 401\n"
     ]
    },
    {
     "name": "stderr",
     "output_type": "stream",
     "text": [
      "/usr/local/lib/python3.7/site-packages/sklearn/cluster/k_means_.py:1561: RuntimeWarning: init_size=300 should be larger than k=401. Setting it to 3*k\n",
      "  init_size=init_size)\n",
      "/usr/local/lib/python3.7/site-packages/sklearn/cluster/k_means_.py:1561: RuntimeWarning: init_size=300 should be larger than k=401. Setting it to 3*k\n",
      "  init_size=init_size)\n",
      "/usr/local/lib/python3.7/site-packages/sklearn/cluster/k_means_.py:1561: RuntimeWarning: init_size=300 should be larger than k=401. Setting it to 3*k\n",
      "  init_size=init_size)\n"
     ]
    },
    {
     "name": "stdout",
     "output_type": "stream",
     "text": [
      "Calculating 402\n"
     ]
    },
    {
     "name": "stderr",
     "output_type": "stream",
     "text": [
      "/usr/local/lib/python3.7/site-packages/sklearn/cluster/k_means_.py:1561: RuntimeWarning: init_size=300 should be larger than k=402. Setting it to 3*k\n",
      "  init_size=init_size)\n",
      "/usr/local/lib/python3.7/site-packages/sklearn/cluster/k_means_.py:1561: RuntimeWarning: init_size=300 should be larger than k=402. Setting it to 3*k\n",
      "  init_size=init_size)\n",
      "/usr/local/lib/python3.7/site-packages/sklearn/cluster/k_means_.py:1561: RuntimeWarning: init_size=300 should be larger than k=402. Setting it to 3*k\n",
      "  init_size=init_size)\n"
     ]
    },
    {
     "name": "stdout",
     "output_type": "stream",
     "text": [
      "Calculating 403\n"
     ]
    },
    {
     "name": "stderr",
     "output_type": "stream",
     "text": [
      "/usr/local/lib/python3.7/site-packages/sklearn/cluster/k_means_.py:1561: RuntimeWarning: init_size=300 should be larger than k=403. Setting it to 3*k\n",
      "  init_size=init_size)\n",
      "/usr/local/lib/python3.7/site-packages/sklearn/cluster/k_means_.py:1561: RuntimeWarning: init_size=300 should be larger than k=403. Setting it to 3*k\n",
      "  init_size=init_size)\n",
      "/usr/local/lib/python3.7/site-packages/sklearn/cluster/k_means_.py:1561: RuntimeWarning: init_size=300 should be larger than k=403. Setting it to 3*k\n",
      "  init_size=init_size)\n"
     ]
    },
    {
     "name": "stdout",
     "output_type": "stream",
     "text": [
      "Calculating 404\n"
     ]
    },
    {
     "name": "stderr",
     "output_type": "stream",
     "text": [
      "/usr/local/lib/python3.7/site-packages/sklearn/cluster/k_means_.py:1561: RuntimeWarning: init_size=300 should be larger than k=404. Setting it to 3*k\n",
      "  init_size=init_size)\n",
      "/usr/local/lib/python3.7/site-packages/sklearn/cluster/k_means_.py:1561: RuntimeWarning: init_size=300 should be larger than k=404. Setting it to 3*k\n",
      "  init_size=init_size)\n",
      "/usr/local/lib/python3.7/site-packages/sklearn/cluster/k_means_.py:1561: RuntimeWarning: init_size=300 should be larger than k=404. Setting it to 3*k\n",
      "  init_size=init_size)\n"
     ]
    },
    {
     "name": "stdout",
     "output_type": "stream",
     "text": [
      "Calculating 405\n"
     ]
    },
    {
     "name": "stderr",
     "output_type": "stream",
     "text": [
      "/usr/local/lib/python3.7/site-packages/sklearn/cluster/k_means_.py:1561: RuntimeWarning: init_size=300 should be larger than k=405. Setting it to 3*k\n",
      "  init_size=init_size)\n",
      "/usr/local/lib/python3.7/site-packages/sklearn/cluster/k_means_.py:1561: RuntimeWarning: init_size=300 should be larger than k=405. Setting it to 3*k\n",
      "  init_size=init_size)\n",
      "/usr/local/lib/python3.7/site-packages/sklearn/cluster/k_means_.py:1561: RuntimeWarning: init_size=300 should be larger than k=405. Setting it to 3*k\n",
      "  init_size=init_size)\n"
     ]
    },
    {
     "name": "stdout",
     "output_type": "stream",
     "text": [
      "Calculating 406\n"
     ]
    },
    {
     "name": "stderr",
     "output_type": "stream",
     "text": [
      "/usr/local/lib/python3.7/site-packages/sklearn/cluster/k_means_.py:1561: RuntimeWarning: init_size=300 should be larger than k=406. Setting it to 3*k\n",
      "  init_size=init_size)\n",
      "/usr/local/lib/python3.7/site-packages/sklearn/cluster/k_means_.py:1561: RuntimeWarning: init_size=300 should be larger than k=406. Setting it to 3*k\n",
      "  init_size=init_size)\n",
      "/usr/local/lib/python3.7/site-packages/sklearn/cluster/k_means_.py:1561: RuntimeWarning: init_size=300 should be larger than k=406. Setting it to 3*k\n",
      "  init_size=init_size)\n"
     ]
    },
    {
     "name": "stdout",
     "output_type": "stream",
     "text": [
      "Calculating 407\n"
     ]
    },
    {
     "name": "stderr",
     "output_type": "stream",
     "text": [
      "/usr/local/lib/python3.7/site-packages/sklearn/cluster/k_means_.py:1561: RuntimeWarning: init_size=300 should be larger than k=407. Setting it to 3*k\n",
      "  init_size=init_size)\n",
      "/usr/local/lib/python3.7/site-packages/sklearn/cluster/k_means_.py:1561: RuntimeWarning: init_size=300 should be larger than k=407. Setting it to 3*k\n",
      "  init_size=init_size)\n",
      "/usr/local/lib/python3.7/site-packages/sklearn/cluster/k_means_.py:1561: RuntimeWarning: init_size=300 should be larger than k=407. Setting it to 3*k\n",
      "  init_size=init_size)\n"
     ]
    },
    {
     "name": "stdout",
     "output_type": "stream",
     "text": [
      "Calculating 408\n"
     ]
    },
    {
     "name": "stderr",
     "output_type": "stream",
     "text": [
      "/usr/local/lib/python3.7/site-packages/sklearn/cluster/k_means_.py:1561: RuntimeWarning: init_size=300 should be larger than k=408. Setting it to 3*k\n",
      "  init_size=init_size)\n",
      "/usr/local/lib/python3.7/site-packages/sklearn/cluster/k_means_.py:1561: RuntimeWarning: init_size=300 should be larger than k=408. Setting it to 3*k\n",
      "  init_size=init_size)\n",
      "/usr/local/lib/python3.7/site-packages/sklearn/cluster/k_means_.py:1561: RuntimeWarning: init_size=300 should be larger than k=408. Setting it to 3*k\n",
      "  init_size=init_size)\n"
     ]
    },
    {
     "name": "stdout",
     "output_type": "stream",
     "text": [
      "Calculating 409\n"
     ]
    },
    {
     "name": "stderr",
     "output_type": "stream",
     "text": [
      "/usr/local/lib/python3.7/site-packages/sklearn/cluster/k_means_.py:1561: RuntimeWarning: init_size=300 should be larger than k=409. Setting it to 3*k\n",
      "  init_size=init_size)\n",
      "/usr/local/lib/python3.7/site-packages/sklearn/cluster/k_means_.py:1561: RuntimeWarning: init_size=300 should be larger than k=409. Setting it to 3*k\n",
      "  init_size=init_size)\n",
      "/usr/local/lib/python3.7/site-packages/sklearn/cluster/k_means_.py:1561: RuntimeWarning: init_size=300 should be larger than k=409. Setting it to 3*k\n",
      "  init_size=init_size)\n"
     ]
    },
    {
     "name": "stdout",
     "output_type": "stream",
     "text": [
      "Calculating 410\n"
     ]
    },
    {
     "name": "stderr",
     "output_type": "stream",
     "text": [
      "/usr/local/lib/python3.7/site-packages/sklearn/cluster/k_means_.py:1561: RuntimeWarning: init_size=300 should be larger than k=410. Setting it to 3*k\n",
      "  init_size=init_size)\n",
      "/usr/local/lib/python3.7/site-packages/sklearn/cluster/k_means_.py:1561: RuntimeWarning: init_size=300 should be larger than k=410. Setting it to 3*k\n",
      "  init_size=init_size)\n",
      "/usr/local/lib/python3.7/site-packages/sklearn/cluster/k_means_.py:1561: RuntimeWarning: init_size=300 should be larger than k=410. Setting it to 3*k\n",
      "  init_size=init_size)\n"
     ]
    },
    {
     "name": "stdout",
     "output_type": "stream",
     "text": [
      "Calculating 411\n"
     ]
    },
    {
     "name": "stderr",
     "output_type": "stream",
     "text": [
      "/usr/local/lib/python3.7/site-packages/sklearn/cluster/k_means_.py:1561: RuntimeWarning: init_size=300 should be larger than k=411. Setting it to 3*k\n",
      "  init_size=init_size)\n",
      "/usr/local/lib/python3.7/site-packages/sklearn/cluster/k_means_.py:1561: RuntimeWarning: init_size=300 should be larger than k=411. Setting it to 3*k\n",
      "  init_size=init_size)\n",
      "/usr/local/lib/python3.7/site-packages/sklearn/cluster/k_means_.py:1561: RuntimeWarning: init_size=300 should be larger than k=411. Setting it to 3*k\n",
      "  init_size=init_size)\n"
     ]
    },
    {
     "name": "stdout",
     "output_type": "stream",
     "text": [
      "Calculating 412\n"
     ]
    },
    {
     "name": "stderr",
     "output_type": "stream",
     "text": [
      "/usr/local/lib/python3.7/site-packages/sklearn/cluster/k_means_.py:1561: RuntimeWarning: init_size=300 should be larger than k=412. Setting it to 3*k\n",
      "  init_size=init_size)\n",
      "/usr/local/lib/python3.7/site-packages/sklearn/cluster/k_means_.py:1561: RuntimeWarning: init_size=300 should be larger than k=412. Setting it to 3*k\n",
      "  init_size=init_size)\n",
      "/usr/local/lib/python3.7/site-packages/sklearn/cluster/k_means_.py:1561: RuntimeWarning: init_size=300 should be larger than k=412. Setting it to 3*k\n",
      "  init_size=init_size)\n"
     ]
    },
    {
     "name": "stdout",
     "output_type": "stream",
     "text": [
      "Calculating 413\n"
     ]
    },
    {
     "name": "stderr",
     "output_type": "stream",
     "text": [
      "/usr/local/lib/python3.7/site-packages/sklearn/cluster/k_means_.py:1561: RuntimeWarning: init_size=300 should be larger than k=413. Setting it to 3*k\n",
      "  init_size=init_size)\n",
      "/usr/local/lib/python3.7/site-packages/sklearn/cluster/k_means_.py:1561: RuntimeWarning: init_size=300 should be larger than k=413. Setting it to 3*k\n",
      "  init_size=init_size)\n",
      "/usr/local/lib/python3.7/site-packages/sklearn/cluster/k_means_.py:1561: RuntimeWarning: init_size=300 should be larger than k=413. Setting it to 3*k\n",
      "  init_size=init_size)\n"
     ]
    },
    {
     "name": "stdout",
     "output_type": "stream",
     "text": [
      "Calculating 414\n"
     ]
    },
    {
     "name": "stderr",
     "output_type": "stream",
     "text": [
      "/usr/local/lib/python3.7/site-packages/sklearn/cluster/k_means_.py:1561: RuntimeWarning: init_size=300 should be larger than k=414. Setting it to 3*k\n",
      "  init_size=init_size)\n",
      "/usr/local/lib/python3.7/site-packages/sklearn/cluster/k_means_.py:1561: RuntimeWarning: init_size=300 should be larger than k=414. Setting it to 3*k\n",
      "  init_size=init_size)\n",
      "/usr/local/lib/python3.7/site-packages/sklearn/cluster/k_means_.py:1561: RuntimeWarning: init_size=300 should be larger than k=414. Setting it to 3*k\n",
      "  init_size=init_size)\n"
     ]
    },
    {
     "name": "stdout",
     "output_type": "stream",
     "text": [
      "Calculating 415\n"
     ]
    },
    {
     "name": "stderr",
     "output_type": "stream",
     "text": [
      "/usr/local/lib/python3.7/site-packages/sklearn/cluster/k_means_.py:1561: RuntimeWarning: init_size=300 should be larger than k=415. Setting it to 3*k\n",
      "  init_size=init_size)\n",
      "/usr/local/lib/python3.7/site-packages/sklearn/cluster/k_means_.py:1561: RuntimeWarning: init_size=300 should be larger than k=415. Setting it to 3*k\n",
      "  init_size=init_size)\n",
      "/usr/local/lib/python3.7/site-packages/sklearn/cluster/k_means_.py:1561: RuntimeWarning: init_size=300 should be larger than k=415. Setting it to 3*k\n",
      "  init_size=init_size)\n"
     ]
    },
    {
     "name": "stdout",
     "output_type": "stream",
     "text": [
      "Calculating 416\n"
     ]
    },
    {
     "name": "stderr",
     "output_type": "stream",
     "text": [
      "/usr/local/lib/python3.7/site-packages/sklearn/cluster/k_means_.py:1561: RuntimeWarning: init_size=300 should be larger than k=416. Setting it to 3*k\n",
      "  init_size=init_size)\n",
      "/usr/local/lib/python3.7/site-packages/sklearn/cluster/k_means_.py:1561: RuntimeWarning: init_size=300 should be larger than k=416. Setting it to 3*k\n",
      "  init_size=init_size)\n",
      "/usr/local/lib/python3.7/site-packages/sklearn/cluster/k_means_.py:1561: RuntimeWarning: init_size=300 should be larger than k=416. Setting it to 3*k\n",
      "  init_size=init_size)\n"
     ]
    },
    {
     "name": "stdout",
     "output_type": "stream",
     "text": [
      "Calculating 417\n"
     ]
    },
    {
     "name": "stderr",
     "output_type": "stream",
     "text": [
      "/usr/local/lib/python3.7/site-packages/sklearn/cluster/k_means_.py:1561: RuntimeWarning: init_size=300 should be larger than k=417. Setting it to 3*k\n",
      "  init_size=init_size)\n",
      "/usr/local/lib/python3.7/site-packages/sklearn/cluster/k_means_.py:1561: RuntimeWarning: init_size=300 should be larger than k=417. Setting it to 3*k\n",
      "  init_size=init_size)\n",
      "/usr/local/lib/python3.7/site-packages/sklearn/cluster/k_means_.py:1561: RuntimeWarning: init_size=300 should be larger than k=417. Setting it to 3*k\n",
      "  init_size=init_size)\n"
     ]
    },
    {
     "name": "stdout",
     "output_type": "stream",
     "text": [
      "Calculating 418\n"
     ]
    },
    {
     "name": "stderr",
     "output_type": "stream",
     "text": [
      "/usr/local/lib/python3.7/site-packages/sklearn/cluster/k_means_.py:1561: RuntimeWarning: init_size=300 should be larger than k=418. Setting it to 3*k\n",
      "  init_size=init_size)\n",
      "/usr/local/lib/python3.7/site-packages/sklearn/cluster/k_means_.py:1561: RuntimeWarning: init_size=300 should be larger than k=418. Setting it to 3*k\n",
      "  init_size=init_size)\n",
      "/usr/local/lib/python3.7/site-packages/sklearn/cluster/k_means_.py:1561: RuntimeWarning: init_size=300 should be larger than k=418. Setting it to 3*k\n",
      "  init_size=init_size)\n"
     ]
    },
    {
     "name": "stdout",
     "output_type": "stream",
     "text": [
      "Calculating 419\n"
     ]
    },
    {
     "name": "stderr",
     "output_type": "stream",
     "text": [
      "/usr/local/lib/python3.7/site-packages/sklearn/cluster/k_means_.py:1561: RuntimeWarning: init_size=300 should be larger than k=419. Setting it to 3*k\n",
      "  init_size=init_size)\n",
      "/usr/local/lib/python3.7/site-packages/sklearn/cluster/k_means_.py:1561: RuntimeWarning: init_size=300 should be larger than k=419. Setting it to 3*k\n",
      "  init_size=init_size)\n",
      "/usr/local/lib/python3.7/site-packages/sklearn/cluster/k_means_.py:1561: RuntimeWarning: init_size=300 should be larger than k=419. Setting it to 3*k\n",
      "  init_size=init_size)\n"
     ]
    },
    {
     "name": "stdout",
     "output_type": "stream",
     "text": [
      "Calculating 420\n"
     ]
    },
    {
     "name": "stderr",
     "output_type": "stream",
     "text": [
      "/usr/local/lib/python3.7/site-packages/sklearn/cluster/k_means_.py:1561: RuntimeWarning: init_size=300 should be larger than k=420. Setting it to 3*k\n",
      "  init_size=init_size)\n",
      "/usr/local/lib/python3.7/site-packages/sklearn/cluster/k_means_.py:1561: RuntimeWarning: init_size=300 should be larger than k=420. Setting it to 3*k\n",
      "  init_size=init_size)\n",
      "/usr/local/lib/python3.7/site-packages/sklearn/cluster/k_means_.py:1561: RuntimeWarning: init_size=300 should be larger than k=420. Setting it to 3*k\n",
      "  init_size=init_size)\n"
     ]
    },
    {
     "name": "stdout",
     "output_type": "stream",
     "text": [
      "Calculating 421\n"
     ]
    },
    {
     "name": "stderr",
     "output_type": "stream",
     "text": [
      "/usr/local/lib/python3.7/site-packages/sklearn/cluster/k_means_.py:1561: RuntimeWarning: init_size=300 should be larger than k=421. Setting it to 3*k\n",
      "  init_size=init_size)\n",
      "/usr/local/lib/python3.7/site-packages/sklearn/cluster/k_means_.py:1561: RuntimeWarning: init_size=300 should be larger than k=421. Setting it to 3*k\n",
      "  init_size=init_size)\n",
      "/usr/local/lib/python3.7/site-packages/sklearn/cluster/k_means_.py:1561: RuntimeWarning: init_size=300 should be larger than k=421. Setting it to 3*k\n",
      "  init_size=init_size)\n"
     ]
    },
    {
     "name": "stdout",
     "output_type": "stream",
     "text": [
      "Calculating 422\n"
     ]
    },
    {
     "name": "stderr",
     "output_type": "stream",
     "text": [
      "/usr/local/lib/python3.7/site-packages/sklearn/cluster/k_means_.py:1561: RuntimeWarning: init_size=300 should be larger than k=422. Setting it to 3*k\n",
      "  init_size=init_size)\n",
      "/usr/local/lib/python3.7/site-packages/sklearn/cluster/k_means_.py:1561: RuntimeWarning: init_size=300 should be larger than k=422. Setting it to 3*k\n",
      "  init_size=init_size)\n",
      "/usr/local/lib/python3.7/site-packages/sklearn/cluster/k_means_.py:1561: RuntimeWarning: init_size=300 should be larger than k=422. Setting it to 3*k\n",
      "  init_size=init_size)\n"
     ]
    },
    {
     "name": "stdout",
     "output_type": "stream",
     "text": [
      "Calculating 423\n"
     ]
    },
    {
     "name": "stderr",
     "output_type": "stream",
     "text": [
      "/usr/local/lib/python3.7/site-packages/sklearn/cluster/k_means_.py:1561: RuntimeWarning: init_size=300 should be larger than k=423. Setting it to 3*k\n",
      "  init_size=init_size)\n",
      "/usr/local/lib/python3.7/site-packages/sklearn/cluster/k_means_.py:1561: RuntimeWarning: init_size=300 should be larger than k=423. Setting it to 3*k\n",
      "  init_size=init_size)\n",
      "/usr/local/lib/python3.7/site-packages/sklearn/cluster/k_means_.py:1561: RuntimeWarning: init_size=300 should be larger than k=423. Setting it to 3*k\n",
      "  init_size=init_size)\n"
     ]
    },
    {
     "name": "stdout",
     "output_type": "stream",
     "text": [
      "Calculating 424\n"
     ]
    },
    {
     "name": "stderr",
     "output_type": "stream",
     "text": [
      "/usr/local/lib/python3.7/site-packages/sklearn/cluster/k_means_.py:1561: RuntimeWarning: init_size=300 should be larger than k=424. Setting it to 3*k\n",
      "  init_size=init_size)\n",
      "/usr/local/lib/python3.7/site-packages/sklearn/cluster/k_means_.py:1561: RuntimeWarning: init_size=300 should be larger than k=424. Setting it to 3*k\n",
      "  init_size=init_size)\n",
      "/usr/local/lib/python3.7/site-packages/sklearn/cluster/k_means_.py:1561: RuntimeWarning: init_size=300 should be larger than k=424. Setting it to 3*k\n",
      "  init_size=init_size)\n"
     ]
    },
    {
     "name": "stdout",
     "output_type": "stream",
     "text": [
      "Calculating 425\n"
     ]
    },
    {
     "name": "stderr",
     "output_type": "stream",
     "text": [
      "/usr/local/lib/python3.7/site-packages/sklearn/cluster/k_means_.py:1561: RuntimeWarning: init_size=300 should be larger than k=425. Setting it to 3*k\n",
      "  init_size=init_size)\n",
      "/usr/local/lib/python3.7/site-packages/sklearn/cluster/k_means_.py:1561: RuntimeWarning: init_size=300 should be larger than k=425. Setting it to 3*k\n",
      "  init_size=init_size)\n",
      "/usr/local/lib/python3.7/site-packages/sklearn/cluster/k_means_.py:1561: RuntimeWarning: init_size=300 should be larger than k=425. Setting it to 3*k\n",
      "  init_size=init_size)\n"
     ]
    },
    {
     "name": "stdout",
     "output_type": "stream",
     "text": [
      "Calculating 426\n"
     ]
    },
    {
     "name": "stderr",
     "output_type": "stream",
     "text": [
      "/usr/local/lib/python3.7/site-packages/sklearn/cluster/k_means_.py:1561: RuntimeWarning: init_size=300 should be larger than k=426. Setting it to 3*k\n",
      "  init_size=init_size)\n",
      "/usr/local/lib/python3.7/site-packages/sklearn/cluster/k_means_.py:1561: RuntimeWarning: init_size=300 should be larger than k=426. Setting it to 3*k\n",
      "  init_size=init_size)\n",
      "/usr/local/lib/python3.7/site-packages/sklearn/cluster/k_means_.py:1561: RuntimeWarning: init_size=300 should be larger than k=426. Setting it to 3*k\n",
      "  init_size=init_size)\n"
     ]
    },
    {
     "name": "stdout",
     "output_type": "stream",
     "text": [
      "Calculating 427\n"
     ]
    },
    {
     "name": "stderr",
     "output_type": "stream",
     "text": [
      "/usr/local/lib/python3.7/site-packages/sklearn/cluster/k_means_.py:1561: RuntimeWarning: init_size=300 should be larger than k=427. Setting it to 3*k\n",
      "  init_size=init_size)\n",
      "/usr/local/lib/python3.7/site-packages/sklearn/cluster/k_means_.py:1561: RuntimeWarning: init_size=300 should be larger than k=427. Setting it to 3*k\n",
      "  init_size=init_size)\n",
      "/usr/local/lib/python3.7/site-packages/sklearn/cluster/k_means_.py:1561: RuntimeWarning: init_size=300 should be larger than k=427. Setting it to 3*k\n",
      "  init_size=init_size)\n"
     ]
    },
    {
     "name": "stdout",
     "output_type": "stream",
     "text": [
      "Calculating 428\n"
     ]
    },
    {
     "name": "stderr",
     "output_type": "stream",
     "text": [
      "/usr/local/lib/python3.7/site-packages/sklearn/cluster/k_means_.py:1561: RuntimeWarning: init_size=300 should be larger than k=428. Setting it to 3*k\n",
      "  init_size=init_size)\n",
      "/usr/local/lib/python3.7/site-packages/sklearn/cluster/k_means_.py:1561: RuntimeWarning: init_size=300 should be larger than k=428. Setting it to 3*k\n",
      "  init_size=init_size)\n",
      "/usr/local/lib/python3.7/site-packages/sklearn/cluster/k_means_.py:1561: RuntimeWarning: init_size=300 should be larger than k=428. Setting it to 3*k\n",
      "  init_size=init_size)\n"
     ]
    },
    {
     "name": "stdout",
     "output_type": "stream",
     "text": [
      "Calculating 429\n"
     ]
    },
    {
     "name": "stderr",
     "output_type": "stream",
     "text": [
      "/usr/local/lib/python3.7/site-packages/sklearn/cluster/k_means_.py:1561: RuntimeWarning: init_size=300 should be larger than k=429. Setting it to 3*k\n",
      "  init_size=init_size)\n",
      "/usr/local/lib/python3.7/site-packages/sklearn/cluster/k_means_.py:1561: RuntimeWarning: init_size=300 should be larger than k=429. Setting it to 3*k\n",
      "  init_size=init_size)\n",
      "/usr/local/lib/python3.7/site-packages/sklearn/cluster/k_means_.py:1561: RuntimeWarning: init_size=300 should be larger than k=429. Setting it to 3*k\n",
      "  init_size=init_size)\n"
     ]
    },
    {
     "name": "stdout",
     "output_type": "stream",
     "text": [
      "Calculating 430\n"
     ]
    },
    {
     "name": "stderr",
     "output_type": "stream",
     "text": [
      "/usr/local/lib/python3.7/site-packages/sklearn/cluster/k_means_.py:1561: RuntimeWarning: init_size=300 should be larger than k=430. Setting it to 3*k\n",
      "  init_size=init_size)\n",
      "/usr/local/lib/python3.7/site-packages/sklearn/cluster/k_means_.py:1561: RuntimeWarning: init_size=300 should be larger than k=430. Setting it to 3*k\n",
      "  init_size=init_size)\n",
      "/usr/local/lib/python3.7/site-packages/sklearn/cluster/k_means_.py:1561: RuntimeWarning: init_size=300 should be larger than k=430. Setting it to 3*k\n",
      "  init_size=init_size)\n"
     ]
    },
    {
     "name": "stdout",
     "output_type": "stream",
     "text": [
      "Calculating 431\n"
     ]
    },
    {
     "name": "stderr",
     "output_type": "stream",
     "text": [
      "/usr/local/lib/python3.7/site-packages/sklearn/cluster/k_means_.py:1561: RuntimeWarning: init_size=300 should be larger than k=431. Setting it to 3*k\n",
      "  init_size=init_size)\n",
      "/usr/local/lib/python3.7/site-packages/sklearn/cluster/k_means_.py:1561: RuntimeWarning: init_size=300 should be larger than k=431. Setting it to 3*k\n",
      "  init_size=init_size)\n",
      "/usr/local/lib/python3.7/site-packages/sklearn/cluster/k_means_.py:1561: RuntimeWarning: init_size=300 should be larger than k=431. Setting it to 3*k\n",
      "  init_size=init_size)\n"
     ]
    },
    {
     "name": "stdout",
     "output_type": "stream",
     "text": [
      "Calculating 432\n"
     ]
    },
    {
     "name": "stderr",
     "output_type": "stream",
     "text": [
      "/usr/local/lib/python3.7/site-packages/sklearn/cluster/k_means_.py:1561: RuntimeWarning: init_size=300 should be larger than k=432. Setting it to 3*k\n",
      "  init_size=init_size)\n",
      "/usr/local/lib/python3.7/site-packages/sklearn/cluster/k_means_.py:1561: RuntimeWarning: init_size=300 should be larger than k=432. Setting it to 3*k\n",
      "  init_size=init_size)\n",
      "/usr/local/lib/python3.7/site-packages/sklearn/cluster/k_means_.py:1561: RuntimeWarning: init_size=300 should be larger than k=432. Setting it to 3*k\n",
      "  init_size=init_size)\n"
     ]
    },
    {
     "name": "stdout",
     "output_type": "stream",
     "text": [
      "Calculating 433\n"
     ]
    },
    {
     "name": "stderr",
     "output_type": "stream",
     "text": [
      "/usr/local/lib/python3.7/site-packages/sklearn/cluster/k_means_.py:1561: RuntimeWarning: init_size=300 should be larger than k=433. Setting it to 3*k\n",
      "  init_size=init_size)\n",
      "/usr/local/lib/python3.7/site-packages/sklearn/cluster/k_means_.py:1561: RuntimeWarning: init_size=300 should be larger than k=433. Setting it to 3*k\n",
      "  init_size=init_size)\n",
      "/usr/local/lib/python3.7/site-packages/sklearn/cluster/k_means_.py:1561: RuntimeWarning: init_size=300 should be larger than k=433. Setting it to 3*k\n",
      "  init_size=init_size)\n"
     ]
    },
    {
     "name": "stdout",
     "output_type": "stream",
     "text": [
      "Calculating 434\n"
     ]
    },
    {
     "name": "stderr",
     "output_type": "stream",
     "text": [
      "/usr/local/lib/python3.7/site-packages/sklearn/cluster/k_means_.py:1561: RuntimeWarning: init_size=300 should be larger than k=434. Setting it to 3*k\n",
      "  init_size=init_size)\n",
      "/usr/local/lib/python3.7/site-packages/sklearn/cluster/k_means_.py:1561: RuntimeWarning: init_size=300 should be larger than k=434. Setting it to 3*k\n",
      "  init_size=init_size)\n",
      "/usr/local/lib/python3.7/site-packages/sklearn/cluster/k_means_.py:1561: RuntimeWarning: init_size=300 should be larger than k=434. Setting it to 3*k\n",
      "  init_size=init_size)\n"
     ]
    },
    {
     "name": "stdout",
     "output_type": "stream",
     "text": [
      "Calculating 435\n"
     ]
    },
    {
     "name": "stderr",
     "output_type": "stream",
     "text": [
      "/usr/local/lib/python3.7/site-packages/sklearn/cluster/k_means_.py:1561: RuntimeWarning: init_size=300 should be larger than k=435. Setting it to 3*k\n",
      "  init_size=init_size)\n",
      "/usr/local/lib/python3.7/site-packages/sklearn/cluster/k_means_.py:1561: RuntimeWarning: init_size=300 should be larger than k=435. Setting it to 3*k\n",
      "  init_size=init_size)\n",
      "/usr/local/lib/python3.7/site-packages/sklearn/cluster/k_means_.py:1561: RuntimeWarning: init_size=300 should be larger than k=435. Setting it to 3*k\n",
      "  init_size=init_size)\n"
     ]
    },
    {
     "name": "stdout",
     "output_type": "stream",
     "text": [
      "Calculating 436\n"
     ]
    },
    {
     "name": "stderr",
     "output_type": "stream",
     "text": [
      "/usr/local/lib/python3.7/site-packages/sklearn/cluster/k_means_.py:1561: RuntimeWarning: init_size=300 should be larger than k=436. Setting it to 3*k\n",
      "  init_size=init_size)\n",
      "/usr/local/lib/python3.7/site-packages/sklearn/cluster/k_means_.py:1561: RuntimeWarning: init_size=300 should be larger than k=436. Setting it to 3*k\n",
      "  init_size=init_size)\n",
      "/usr/local/lib/python3.7/site-packages/sklearn/cluster/k_means_.py:1561: RuntimeWarning: init_size=300 should be larger than k=436. Setting it to 3*k\n",
      "  init_size=init_size)\n"
     ]
    },
    {
     "name": "stdout",
     "output_type": "stream",
     "text": [
      "Calculating 437\n"
     ]
    },
    {
     "name": "stderr",
     "output_type": "stream",
     "text": [
      "/usr/local/lib/python3.7/site-packages/sklearn/cluster/k_means_.py:1561: RuntimeWarning: init_size=300 should be larger than k=437. Setting it to 3*k\n",
      "  init_size=init_size)\n",
      "/usr/local/lib/python3.7/site-packages/sklearn/cluster/k_means_.py:1561: RuntimeWarning: init_size=300 should be larger than k=437. Setting it to 3*k\n",
      "  init_size=init_size)\n",
      "/usr/local/lib/python3.7/site-packages/sklearn/cluster/k_means_.py:1561: RuntimeWarning: init_size=300 should be larger than k=437. Setting it to 3*k\n",
      "  init_size=init_size)\n"
     ]
    },
    {
     "name": "stdout",
     "output_type": "stream",
     "text": [
      "Calculating 438\n"
     ]
    },
    {
     "name": "stderr",
     "output_type": "stream",
     "text": [
      "/usr/local/lib/python3.7/site-packages/sklearn/cluster/k_means_.py:1561: RuntimeWarning: init_size=300 should be larger than k=438. Setting it to 3*k\n",
      "  init_size=init_size)\n",
      "/usr/local/lib/python3.7/site-packages/sklearn/cluster/k_means_.py:1561: RuntimeWarning: init_size=300 should be larger than k=438. Setting it to 3*k\n",
      "  init_size=init_size)\n",
      "/usr/local/lib/python3.7/site-packages/sklearn/cluster/k_means_.py:1561: RuntimeWarning: init_size=300 should be larger than k=438. Setting it to 3*k\n",
      "  init_size=init_size)\n"
     ]
    },
    {
     "name": "stdout",
     "output_type": "stream",
     "text": [
      "Calculating 439\n"
     ]
    },
    {
     "name": "stderr",
     "output_type": "stream",
     "text": [
      "/usr/local/lib/python3.7/site-packages/sklearn/cluster/k_means_.py:1561: RuntimeWarning: init_size=300 should be larger than k=439. Setting it to 3*k\n",
      "  init_size=init_size)\n",
      "/usr/local/lib/python3.7/site-packages/sklearn/cluster/k_means_.py:1561: RuntimeWarning: init_size=300 should be larger than k=439. Setting it to 3*k\n",
      "  init_size=init_size)\n",
      "/usr/local/lib/python3.7/site-packages/sklearn/cluster/k_means_.py:1561: RuntimeWarning: init_size=300 should be larger than k=439. Setting it to 3*k\n",
      "  init_size=init_size)\n"
     ]
    },
    {
     "name": "stdout",
     "output_type": "stream",
     "text": [
      "Calculating 440\n"
     ]
    },
    {
     "name": "stderr",
     "output_type": "stream",
     "text": [
      "/usr/local/lib/python3.7/site-packages/sklearn/cluster/k_means_.py:1561: RuntimeWarning: init_size=300 should be larger than k=440. Setting it to 3*k\n",
      "  init_size=init_size)\n",
      "/usr/local/lib/python3.7/site-packages/sklearn/cluster/k_means_.py:1561: RuntimeWarning: init_size=300 should be larger than k=440. Setting it to 3*k\n",
      "  init_size=init_size)\n",
      "/usr/local/lib/python3.7/site-packages/sklearn/cluster/k_means_.py:1561: RuntimeWarning: init_size=300 should be larger than k=440. Setting it to 3*k\n",
      "  init_size=init_size)\n"
     ]
    },
    {
     "name": "stdout",
     "output_type": "stream",
     "text": [
      "Calculating 441\n"
     ]
    },
    {
     "name": "stderr",
     "output_type": "stream",
     "text": [
      "/usr/local/lib/python3.7/site-packages/sklearn/cluster/k_means_.py:1561: RuntimeWarning: init_size=300 should be larger than k=441. Setting it to 3*k\n",
      "  init_size=init_size)\n",
      "/usr/local/lib/python3.7/site-packages/sklearn/cluster/k_means_.py:1561: RuntimeWarning: init_size=300 should be larger than k=441. Setting it to 3*k\n",
      "  init_size=init_size)\n",
      "/usr/local/lib/python3.7/site-packages/sklearn/cluster/k_means_.py:1561: RuntimeWarning: init_size=300 should be larger than k=441. Setting it to 3*k\n",
      "  init_size=init_size)\n"
     ]
    },
    {
     "name": "stdout",
     "output_type": "stream",
     "text": [
      "Calculating 442\n"
     ]
    },
    {
     "name": "stderr",
     "output_type": "stream",
     "text": [
      "/usr/local/lib/python3.7/site-packages/sklearn/cluster/k_means_.py:1561: RuntimeWarning: init_size=300 should be larger than k=442. Setting it to 3*k\n",
      "  init_size=init_size)\n",
      "/usr/local/lib/python3.7/site-packages/sklearn/cluster/k_means_.py:1561: RuntimeWarning: init_size=300 should be larger than k=442. Setting it to 3*k\n",
      "  init_size=init_size)\n",
      "/usr/local/lib/python3.7/site-packages/sklearn/cluster/k_means_.py:1561: RuntimeWarning: init_size=300 should be larger than k=442. Setting it to 3*k\n",
      "  init_size=init_size)\n"
     ]
    },
    {
     "name": "stdout",
     "output_type": "stream",
     "text": [
      "Calculating 443\n"
     ]
    },
    {
     "name": "stderr",
     "output_type": "stream",
     "text": [
      "/usr/local/lib/python3.7/site-packages/sklearn/cluster/k_means_.py:1561: RuntimeWarning: init_size=300 should be larger than k=443. Setting it to 3*k\n",
      "  init_size=init_size)\n",
      "/usr/local/lib/python3.7/site-packages/sklearn/cluster/k_means_.py:1561: RuntimeWarning: init_size=300 should be larger than k=443. Setting it to 3*k\n",
      "  init_size=init_size)\n",
      "/usr/local/lib/python3.7/site-packages/sklearn/cluster/k_means_.py:1561: RuntimeWarning: init_size=300 should be larger than k=443. Setting it to 3*k\n",
      "  init_size=init_size)\n"
     ]
    },
    {
     "name": "stdout",
     "output_type": "stream",
     "text": [
      "Calculating 444\n"
     ]
    },
    {
     "name": "stderr",
     "output_type": "stream",
     "text": [
      "/usr/local/lib/python3.7/site-packages/sklearn/cluster/k_means_.py:1561: RuntimeWarning: init_size=300 should be larger than k=444. Setting it to 3*k\n",
      "  init_size=init_size)\n",
      "/usr/local/lib/python3.7/site-packages/sklearn/cluster/k_means_.py:1561: RuntimeWarning: init_size=300 should be larger than k=444. Setting it to 3*k\n",
      "  init_size=init_size)\n",
      "/usr/local/lib/python3.7/site-packages/sklearn/cluster/k_means_.py:1561: RuntimeWarning: init_size=300 should be larger than k=444. Setting it to 3*k\n",
      "  init_size=init_size)\n"
     ]
    },
    {
     "name": "stdout",
     "output_type": "stream",
     "text": [
      "Calculating 445\n"
     ]
    },
    {
     "name": "stderr",
     "output_type": "stream",
     "text": [
      "/usr/local/lib/python3.7/site-packages/sklearn/cluster/k_means_.py:1561: RuntimeWarning: init_size=300 should be larger than k=445. Setting it to 3*k\n",
      "  init_size=init_size)\n",
      "/usr/local/lib/python3.7/site-packages/sklearn/cluster/k_means_.py:1561: RuntimeWarning: init_size=300 should be larger than k=445. Setting it to 3*k\n",
      "  init_size=init_size)\n",
      "/usr/local/lib/python3.7/site-packages/sklearn/cluster/k_means_.py:1561: RuntimeWarning: init_size=300 should be larger than k=445. Setting it to 3*k\n",
      "  init_size=init_size)\n"
     ]
    },
    {
     "name": "stdout",
     "output_type": "stream",
     "text": [
      "Calculating 446\n"
     ]
    },
    {
     "name": "stderr",
     "output_type": "stream",
     "text": [
      "/usr/local/lib/python3.7/site-packages/sklearn/cluster/k_means_.py:1561: RuntimeWarning: init_size=300 should be larger than k=446. Setting it to 3*k\n",
      "  init_size=init_size)\n",
      "/usr/local/lib/python3.7/site-packages/sklearn/cluster/k_means_.py:1561: RuntimeWarning: init_size=300 should be larger than k=446. Setting it to 3*k\n",
      "  init_size=init_size)\n",
      "/usr/local/lib/python3.7/site-packages/sklearn/cluster/k_means_.py:1561: RuntimeWarning: init_size=300 should be larger than k=446. Setting it to 3*k\n",
      "  init_size=init_size)\n"
     ]
    },
    {
     "name": "stdout",
     "output_type": "stream",
     "text": [
      "Calculating 447\n"
     ]
    },
    {
     "name": "stderr",
     "output_type": "stream",
     "text": [
      "/usr/local/lib/python3.7/site-packages/sklearn/cluster/k_means_.py:1561: RuntimeWarning: init_size=300 should be larger than k=447. Setting it to 3*k\n",
      "  init_size=init_size)\n",
      "/usr/local/lib/python3.7/site-packages/sklearn/cluster/k_means_.py:1561: RuntimeWarning: init_size=300 should be larger than k=447. Setting it to 3*k\n",
      "  init_size=init_size)\n",
      "/usr/local/lib/python3.7/site-packages/sklearn/cluster/k_means_.py:1561: RuntimeWarning: init_size=300 should be larger than k=447. Setting it to 3*k\n",
      "  init_size=init_size)\n"
     ]
    },
    {
     "name": "stdout",
     "output_type": "stream",
     "text": [
      "Calculating 448\n"
     ]
    },
    {
     "name": "stderr",
     "output_type": "stream",
     "text": [
      "/usr/local/lib/python3.7/site-packages/sklearn/cluster/k_means_.py:1561: RuntimeWarning: init_size=300 should be larger than k=448. Setting it to 3*k\n",
      "  init_size=init_size)\n",
      "/usr/local/lib/python3.7/site-packages/sklearn/cluster/k_means_.py:1561: RuntimeWarning: init_size=300 should be larger than k=448. Setting it to 3*k\n",
      "  init_size=init_size)\n",
      "/usr/local/lib/python3.7/site-packages/sklearn/cluster/k_means_.py:1561: RuntimeWarning: init_size=300 should be larger than k=448. Setting it to 3*k\n",
      "  init_size=init_size)\n"
     ]
    },
    {
     "name": "stdout",
     "output_type": "stream",
     "text": [
      "Calculating 449\n"
     ]
    },
    {
     "name": "stderr",
     "output_type": "stream",
     "text": [
      "/usr/local/lib/python3.7/site-packages/sklearn/cluster/k_means_.py:1561: RuntimeWarning: init_size=300 should be larger than k=449. Setting it to 3*k\n",
      "  init_size=init_size)\n",
      "/usr/local/lib/python3.7/site-packages/sklearn/cluster/k_means_.py:1561: RuntimeWarning: init_size=300 should be larger than k=449. Setting it to 3*k\n",
      "  init_size=init_size)\n",
      "/usr/local/lib/python3.7/site-packages/sklearn/cluster/k_means_.py:1561: RuntimeWarning: init_size=300 should be larger than k=449. Setting it to 3*k\n",
      "  init_size=init_size)\n"
     ]
    }
   ],
   "source": [
    "from sklearn.cluster import MiniBatchKMeans\n",
    "sum_squared = []\n",
    "K = range(1,450)\n",
    "\n",
    "for i in K:\n",
    "    print('Calculating ' + str(i))\n",
    "    kmeans = MiniBatchKMeans(n_clusters=i)\n",
    "    kmeans.fit(scaled)\n",
    "    sum_squared.append(kmeans.inertia_)"
   ]
  },
  {
   "cell_type": "code",
   "execution_count": 44,
   "metadata": {},
   "outputs": [
    {
     "data": {
      "image/png": "[encoded data removed]",
      "text/plain": [
       "<Figure size 432x288 with 1 Axes>"
      ]
     },
     "metadata": {
      "needs_background": "light"
     },
     "output_type": "display_data"
    }
   ],
   "source": [
    "import matplotlib.pyplot as plt\n",
    "\n",
    "plt.plot(K, sum_squared, 'bx-')\n",
    "plt.xlabel('k')\n",
    "plt.ylabel('Sum of squared distances')\n",
    "plt.title('Elbow Method For Optimal k')\n",
    "plt.show() "
   ]
  },
  {
   "cell_type": "code",
   "execution_count": 48,
   "metadata": {},
   "outputs": [],
   "source": [
    "from sklearn.cluster import KMeans\n",
    "\n",
    "kmeans = KMeans(n_clusters=200)\n",
    "clusters = kmeans.fit_predict(scaled)"
   ]
  },
  {
   "cell_type": "code",
   "execution_count": 52,
   "metadata": {},
   "outputs": [],
   "source": [
    "from sklearn.neighbors import NearestNeighbors\n",
    "\n",
    "neighbors = NearestNeighbors(n_neighbors=10, metric='cosine').fit(scaled)\n",
    "_, closest = neighbors.kneighbors(kmeans.cluster_centers_)"
   ]
  },
  {
   "cell_type": "code",
   "execution_count": 58,
   "metadata": {},
   "outputs": [
    {
     "data": {
      "text/plain": [
       "<matplotlib.image.AxesImage at 0x173de1410>"
      ]
     },
     "execution_count": 58,
     "metadata": {},
     "output_type": "execute_result"
    },
    {
     "data": {
      "image/png": "[encoded data removed]",
      "text/plain": [
       "<Figure size 2304x1728 with 1 Axes>"
      ]
     },
     "metadata": {
      "needs_background": "light"
     },
     "output_type": "display_data"
    }
   ],
   "source": [
    "from PIL import Image\n",
    "\n",
    "img_width = 500\n",
    "\n",
    "grid_image = Image.new('RGB', (10 * img_width, len(closest) * 240), (0, 0, 0, 255))\n",
    "max_height = 0\n",
    "\n",
    "for cluster_row in closest:\n",
    "    max_height_temp = 0\n",
    "    xpos = 0\n",
    "    for col_num in cluster_row:\n",
    "        img = Image.open(images[col_num])\n",
    "        img_ar = img.width / img.height\n",
    "        img = img.resize((img_width, int(img_width / img_ar)), Image.ANTIALIAS)\n",
    "        max_height_temp = max(max_height_temp, img.height)\n",
    "        grid_image.paste(img, (xpos, max_height))\n",
    "        xpos = xpos + img.width\n",
    "    max_height = max_height + max_height_temp + 20 # adding 20 pixel margin\n",
    "\n",
    "plt.figure(figsize = (32,24))\n",
    "plt.imshow(grid_image)"
   ]
  },
  {
   "cell_type": "code",
   "execution_count": null,
   "metadata": {},
   "outputs": [],
   "source": []
  }
 ],
 "metadata": {
  "kernelspec": {
   "display_name": "Python 3",
   "language": "python",
   "name": "python3"
  },
  "language_info": {
   "codemirror_mode": {
    "name": "ipython",
    "version": 3
   },
   "file_extension": ".py",
   "mimetype": "text/x-python",
   "name": "python",
   "nbconvert_exporter": "python",
   "pygments_lexer": "ipython3",
   "version": "3.7.4"
  }
 },
 "nbformat": 4,
 "nbformat_minor": 2
}
